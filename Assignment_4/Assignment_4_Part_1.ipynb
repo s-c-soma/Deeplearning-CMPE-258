{
  "nbformat": 4,
  "nbformat_minor": 0,
  "metadata": {
    "colab": {
      "name": "Assignment_4_Part_1",
      "provenance": [],
      "collapsed_sections": [],
      "toc_visible": true,
      "machine_shape": "hm",
      "include_colab_link": true
    },
    "kernelspec": {
      "name": "python3",
      "display_name": "Python 3"
    },
    "accelerator": "GPU"
  },
  "cells": [
    {
      "cell_type": "markdown",
      "metadata": {
        "id": "view-in-github",
        "colab_type": "text"
      },
      "source": [
        "<a href=\"https://colab.research.google.com/github/s-c-soma/Deeplearning-CMPE-258/blob/main/Assignment_4/Assignment_4_Part_1.ipynb\" target=\"_parent\"><img src=\"https://colab.research.google.com/assets/colab-badge.svg\" alt=\"Open In Colab\"/></a>"
      ]
    },
    {
      "cell_type": "markdown",
      "metadata": {
        "id": "sqVW5Nezc8GZ"
      },
      "source": [
        "# MNIST classifier with various training knobs with numpy"
      ]
    },
    {
      "cell_type": "markdown",
      "metadata": {
        "id": "mg93SMH8JHkw"
      },
      "source": [
        "# Implementation Details and Discussion\n",
        "\n",
        "* Here, I have used MNIST dataset to implement MNIST classifier with various training knobs with numpy\n",
        "* I have followed all the details mentioned in the **steps** section below.\n",
        "* First I tried 100 epochs, but result was very bad for that. I did some other hyperparameter tuning inclusing changing batch size also.\n",
        "* Finally, after 50 epochs the result is:\n",
        "> Epoch:45 | Test-Err:0.140 | Test-Acc:0.9069 | Train-Err:0.207 | Train-Acc:0.8602833333333333 | \n",
        "\n",
        "## Steps:  \n",
        "Following steps have been followed and implemented in this colab using Numpy\n",
        "* a. Mini-Batch Gradient Descent \n",
        "* b. Appropriate/Adaptive Learning Rate\n",
        "* c. Dropout Regularization Layer\n",
        "* d. Appropriate Weight Initialization\n",
        "* e. Image Augmentation\n",
        "* f. Tuning of Number of Neurons and Layers [3 or more layers]\n",
        "* g. ReLU Activation Layer\n",
        "* h. Normalization before training (scaling the input)\n",
        "* i. Visualization, Validation, Confusion Matrix to show common errors"
      ]
    },
    {
      "cell_type": "markdown",
      "metadata": {
        "id": "B3B-qWOjJeSv"
      },
      "source": [
        "# Check if GPU/TPU available"
      ]
    },
    {
      "cell_type": "code",
      "metadata": {
        "colab": {
          "base_uri": "https://localhost:8080/"
        },
        "id": "S6MhLJuHJh2z",
        "outputId": "53a7f94a-5402-480b-877f-c0feb5534906"
      },
      "source": [
        "!nvidia-smi"
      ],
      "execution_count": 1,
      "outputs": [
        {
          "output_type": "stream",
          "text": [
            "Wed Apr  7 20:04:56 2021       \n",
            "+-----------------------------------------------------------------------------+\n",
            "| NVIDIA-SMI 460.67       Driver Version: 460.32.03    CUDA Version: 11.2     |\n",
            "|-------------------------------+----------------------+----------------------+\n",
            "| GPU  Name        Persistence-M| Bus-Id        Disp.A | Volatile Uncorr. ECC |\n",
            "| Fan  Temp  Perf  Pwr:Usage/Cap|         Memory-Usage | GPU-Util  Compute M. |\n",
            "|                               |                      |               MIG M. |\n",
            "|===============================+======================+======================|\n",
            "|   0  Tesla P100-PCIE...  Off  | 00000000:00:04.0 Off |                    0 |\n",
            "| N/A   43C    P0    28W / 250W |      0MiB / 16280MiB |      0%      Default |\n",
            "|                               |                      |                  N/A |\n",
            "+-------------------------------+----------------------+----------------------+\n",
            "                                                                               \n",
            "+-----------------------------------------------------------------------------+\n",
            "| Processes:                                                                  |\n",
            "|  GPU   GI   CI        PID   Type   Process name                  GPU Memory |\n",
            "|        ID   ID                                                   Usage      |\n",
            "|=============================================================================|\n",
            "|  No running processes found                                                 |\n",
            "+-----------------------------------------------------------------------------+\n"
          ],
          "name": "stdout"
        }
      ]
    },
    {
      "cell_type": "markdown",
      "metadata": {
        "id": "T2qszXPfdAsP"
      },
      "source": [
        "## Colab environment"
      ]
    },
    {
      "cell_type": "code",
      "metadata": {
        "id": "EGkS6nN6dQaz",
        "colab": {
          "base_uri": "https://localhost:8080/"
        },
        "outputId": "0d471285-d1c9-48ac-d717-651c0be992f5"
      },
      "source": [
        "!python --version"
      ],
      "execution_count": 2,
      "outputs": [
        {
          "output_type": "stream",
          "text": [
            "Python 3.7.10\n"
          ],
          "name": "stdout"
        }
      ]
    },
    {
      "cell_type": "code",
      "metadata": {
        "id": "mrETid459vH6",
        "colab": {
          "base_uri": "https://localhost:8080/"
        },
        "outputId": "62a06ad1-4a58-4d97-88e9-cf3835d7314c"
      },
      "source": [
        "!pip list | grep tensor"
      ],
      "execution_count": 3,
      "outputs": [
        {
          "output_type": "stream",
          "text": [
            "tensorboard                   2.4.1         \n",
            "tensorboard-plugin-wit        1.8.0         \n",
            "tensorflow                    2.4.1         \n",
            "tensorflow-datasets           4.0.1         \n",
            "tensorflow-estimator          2.4.0         \n",
            "tensorflow-gcs-config         2.4.0         \n",
            "tensorflow-hub                0.11.0        \n",
            "tensorflow-metadata           0.29.0        \n",
            "tensorflow-probability        0.12.1        \n"
          ],
          "name": "stdout"
        }
      ]
    },
    {
      "cell_type": "code",
      "metadata": {
        "id": "ngcaTx9Y-1lX",
        "colab": {
          "base_uri": "https://localhost:8080/"
        },
        "outputId": "3cda1d2e-1fbe-4dcc-b308-7ac8f46c1d38"
      },
      "source": [
        "!pip list | grep torch"
      ],
      "execution_count": null,
      "outputs": [
        {
          "output_type": "stream",
          "text": [
            "torch                         1.8.0+cu101   \n",
            "torchsummary                  1.5.1         \n",
            "torchtext                     0.9.0         \n",
            "torchvision                   0.9.0+cu101   \n"
          ],
          "name": "stdout"
        }
      ]
    },
    {
      "cell_type": "markdown",
      "metadata": {
        "id": "2DH1WZPKJrXv"
      },
      "source": [
        "# Library"
      ]
    },
    {
      "cell_type": "code",
      "metadata": {
        "id": "d2m1TzD7JtLo"
      },
      "source": [
        "import sys,numpy as np\n",
        "import matplotlib.pyplot as plt\n",
        "from keras.utils import np_utils\n",
        "from keras.datasets import mnist\n",
        "from keras.preprocessing.image import ImageDataGenerator\n",
        "from sklearn.metrics import confusion_matrix"
      ],
      "execution_count": 1,
      "outputs": []
    },
    {
      "cell_type": "markdown",
      "metadata": {
        "id": "26SM_-7qJ3Um"
      },
      "source": [
        "# Load MNIST Data"
      ]
    },
    {
      "cell_type": "code",
      "metadata": {
        "colab": {
          "base_uri": "https://localhost:8080/"
        },
        "id": "BZd0oWiBO7Hm",
        "outputId": "2b19326b-1ef5-4f4c-f4f6-a4501467ff1c"
      },
      "source": [
        "(x_train, y_train), (x_test, y_test) = mnist.load_data() # loading the mnist dataset\n"
      ],
      "execution_count": 2,
      "outputs": [
        {
          "output_type": "stream",
          "text": [
            "Downloading data from https://storage.googleapis.com/tensorflow/tf-keras-datasets/mnist.npz\n",
            "11493376/11490434 [==============================] - 0s 0us/step\n"
          ],
          "name": "stdout"
        }
      ]
    },
    {
      "cell_type": "markdown",
      "metadata": {
        "id": "Ipnc87Nh80px"
      },
      "source": [
        "# Normalizing and Reshaping Data"
      ]
    },
    {
      "cell_type": "code",
      "metadata": {
        "colab": {
          "base_uri": "https://localhost:8080/"
        },
        "id": "FnhpB48qKBAY",
        "outputId": "20daadd0-8fa2-4264-9035-382f5df3cb50"
      },
      "source": [
        "x_train=x_train/255 # normalizing the x_train and x_test dataset\n",
        "x_test=x_test/255\n",
        "\n",
        "#Reshape image in 3 dimensions (height = 28px, width = 28px , canal = 1)\n",
        "x_train = x_train.reshape(-1,28,28,1) # inorder to preprocess the data, reshaping into rank 4 matrix \n",
        "x_test = x_test.reshape(-1,28,28,1)\n",
        "print(x_test.shape)"
      ],
      "execution_count": 3,
      "outputs": [
        {
          "output_type": "stream",
          "text": [
            "(10000, 28, 28, 1)\n"
          ],
          "name": "stdout"
        }
      ]
    },
    {
      "cell_type": "markdown",
      "metadata": {
        "id": "nRU7wFY39AQy"
      },
      "source": [
        "# Data Augmentation"
      ]
    },
    {
      "cell_type": "code",
      "metadata": {
        "id": "VfAQVAnD9Cmj"
      },
      "source": [
        "datagen = ImageDataGenerator(\n",
        "        rotation_range=10,  # randomly rotate images in the range (degrees, 0 to 180)\n",
        "        zoom_range = 0.1, # Randomly zoom image \n",
        "        width_shift_range=0.1,  # randomly shift images horizontally (fraction of total width)\n",
        "        height_shift_range=0.1,  # randomly shift images vertically (fraction of total height)\n",
        "        horizontal_flip=False,  # randomly flip images\n",
        "        vertical_flip=False)  # randomly flip images"
      ],
      "execution_count": 4,
      "outputs": []
    },
    {
      "cell_type": "markdown",
      "metadata": {
        "id": "VP8VdwKeKsc-"
      },
      "source": [
        "# Model Fitting\n"
      ]
    },
    {
      "cell_type": "code",
      "metadata": {
        "id": "-jXWhz-Y9Mcb"
      },
      "source": [
        "datagen.fit(x_train,augment=True) # fitting the model"
      ],
      "execution_count": 5,
      "outputs": []
    },
    {
      "cell_type": "markdown",
      "metadata": {
        "id": "VSjoSdM99VxY"
      },
      "source": [
        "# Reshaping Image"
      ]
    },
    {
      "cell_type": "code",
      "metadata": {
        "id": "pdvhYiKb9Xwq"
      },
      "source": [
        "images = x_train.reshape(len(x_train),28*28) # reshaping x_train to pass to model\n",
        "x_test=x_test.reshape(len(x_test),28*28)# reshaping x_test to pass to model\n",
        "\n",
        "labels = np_utils.to_categorical(y_train) # convert to one hot vectors\n",
        "y_test = np_utils.to_categorical(y_test)"
      ],
      "execution_count": 6,
      "outputs": []
    },
    {
      "cell_type": "markdown",
      "metadata": {
        "id": "WN6OKB7CKsc-"
      },
      "source": [
        "# Plot Training Image"
      ]
    },
    {
      "cell_type": "code",
      "metadata": {
        "id": "91gxTQVtKsc-",
        "outputId": "01fc740c-bfe1-4345-de9f-be3018edc07d",
        "colab": {
          "base_uri": "https://localhost:8080/",
          "height": 262
        }
      },
      "source": [
        "X_train__ = x_train.reshape(x_train.shape[0], 28, 28)\n",
        "\n",
        "fig, axis = plt.subplots(1, 4, figsize=(20, 10))\n",
        "for j, ax in enumerate(axis.flat):\n",
        "    ax.imshow(X_train__[j], cmap='binary')\n",
        "    digit = y_train[j].argmax()\n",
        "    ax.set(title = f\"Training Number: {j}\");"
      ],
      "execution_count": 7,
      "outputs": [
        {
          "output_type": "display_data",
          "data": {
            "image/png": "[encoded data removed]",
            "text/plain": [
              "<Figure size 1440x720 with 4 Axes>"
            ]
          },
          "metadata": {
            "tags": [],
            "needs_background": "light"
          }
        }
      ]
    },
    {
      "cell_type": "markdown",
      "metadata": {
        "id": "gApwH5cUKsc-"
      },
      "source": [
        "# Relu Activation\n"
      ]
    },
    {
      "cell_type": "code",
      "metadata": {
        "id": "8h2Jj5qEKsc_"
      },
      "source": [
        "np.random.seed(1)\n",
        "# Activation functions and their derivatives\n",
        "def tanh(x):\n",
        "    return np.tanh(x)\n",
        "\n",
        "def tanhderiv(output):\n",
        "    return 1 - (output ** 2)\n",
        "\n",
        "def relu(x):\n",
        "  return (x >= 0) * x # returns x if x > 0\n",
        "\n",
        "def relud(output):\n",
        "  return output >= 0 # returns 1 for input > 0\n",
        "\n",
        "def softmax(x):\n",
        "  temp = np.exp(x)\n",
        "  return temp / np.sum(temp, axis=1, keepdims=True)"
      ],
      "execution_count": 8,
      "outputs": []
    },
    {
      "cell_type": "markdown",
      "metadata": {
        "id": "CpRr37nJKsc_"
      },
      "source": [
        "# Tuning and Training "
      ]
    },
    {
      "cell_type": "code",
      "metadata": {
        "id": "z4pmuslo__Gi"
      },
      "source": [
        "Test_Accuracy=[]\n",
        "Training_Accuracy=[]\n",
        "Training_Error=[]\n",
        "Test_Error=[]\n",
        "lr_rate=.009 # Learning rate\n",
        "batch_size=100 # batch size \n",
        "epochs=50 # number of iterations\n"
      ],
      "execution_count": 28,
      "outputs": []
    },
    {
      "cell_type": "markdown",
      "metadata": {
        "id": "W786ufY7AO5R"
      },
      "source": [
        "## 4 Layer NN"
      ]
    },
    {
      "cell_type": "code",
      "metadata": {
        "id": "4fAm7KlVAROg"
      },
      "source": [
        "# NN with 4 layer \n",
        "pixels_per_image, hidden_size1,hidden_size2,hidden_size3,output  = (784,450,128,64,10) # specifying input, hidde layers and output layer neurons"
      ],
      "execution_count": 29,
      "outputs": []
    },
    {
      "cell_type": "markdown",
      "metadata": {
        "id": "9aASMdwwAEX-"
      },
      "source": [
        "## Initializing Weights"
      ]
    },
    {
      "cell_type": "code",
      "metadata": {
        "id": "2tRbJlokAG0J"
      },
      "source": [
        "# random initialization of weights for each layer\n",
        "weights_0_1 = 0.2*np.random.random((pixels_per_image,hidden_size1)) - 0.1\n",
        "weights_1_2 = 0.2*np.random.random((hidden_size1,hidden_size2)) - 0.1\n",
        "weights_2_3 = 0.2*np.random.random((hidden_size2,hidden_size3)) - 0.1\n",
        "weights_3_4 = 0.2*np.random.random((hidden_size3,output)) - 0.1"
      ],
      "execution_count": 30,
      "outputs": []
    },
    {
      "cell_type": "markdown",
      "metadata": {
        "id": "aBnxv9hGLIES"
      },
      "source": [
        "## Training"
      ]
    },
    {
      "cell_type": "code",
      "metadata": {
        "id": "G5GQPYeEKsc_",
        "outputId": "b57e37da-64d4-4246-fc00-ad65b278b739",
        "colab": {
          "base_uri": "https://localhost:8080/"
        }
      },
      "source": [
        "for j in range(epochs):\n",
        "    error, correct_cnt = (0.0, 0)\n",
        " \n",
        "  # forward propagation step\n",
        "\n",
        "    for i in range(int(len(images) / batch_size)):\n",
        "        batch_start, batch_end = ((i * batch_size),((i+1)*batch_size))\n",
        "\n",
        "        layer_0 = images[batch_start:batch_end]\n",
        "        layer_1 = relu(np.dot(layer_0,weights_0_1))\n",
        "        dropout_mask1 = np.random.randint(2,size=layer_1.shape) \n",
        "        layer_1 *= dropout_mask1 * 2 # dropout mask with 50 percent neurons active during training\n",
        "        layer_2 = tanh(np.dot(layer_1,weights_1_2))\n",
        "        dropout_mask2 = np.random.randint(2,size=layer_2.shape)\n",
        "        layer_2 *= dropout_mask2 * 1.5\n",
        "        layer_3=tanh(np.dot(layer_2,weights_2_3))\n",
        "        layer_4 = softmax(np.dot(layer_3,weights_3_4))\n",
        "          #print(layer_2)\n",
        "\n",
        "        error += np.sum((labels[batch_start:batch_end] - layer_4) ** 2) #  mse per batch \n",
        "          #print(error)\n",
        "        for k in range(batch_size):\n",
        "            correct_cnt += int(np.argmax(layer_4[k:k+1]) == np.argmax(labels[batch_start+k:batch_start+k+1])) # counting how many prediction labels match with the true labels\n",
        "  \n",
        "  # back propagation step\n",
        "\n",
        "        layer_4_delta = (labels[batch_start:batch_end]-layer_4)/batch_size\n",
        "        layer_3_delta = layer_4_delta.dot(weights_3_4.T)* tanhderiv(layer_3)\n",
        "        layer_2_delta = layer_3_delta.dot(weights_2_3.T)* tanhderiv(layer_2)\n",
        "        layer_2_delta  *= dropout_mask2\n",
        "        layer_1_delta = layer_2_delta.dot(weights_1_2.T)* relud(layer_1)\n",
        "        layer_1_delta *= dropout_mask1\n",
        "\n",
        "  # updating weights at each layer during back propagation\n",
        "        weights_3_4 += lr_rate * layer_3.T.dot(layer_4_delta)\n",
        "        weights_2_3 += lr_rate * layer_2.T.dot(layer_3_delta)\n",
        "        weights_1_2 += lr_rate * layer_1.T.dot(layer_2_delta)\n",
        "        weights_0_1 += lr_rate * layer_0.T.dot(layer_1_delta)\n",
        "                  \n",
        "    \n",
        "    test_correct_count = 0\n",
        "    test_err=0.0\n",
        "\n",
        "  # testing the images and predicting the labels\n",
        "    y_pred=[]\n",
        "    actual_label=[]\n",
        "    for i in range(len(x_test)):\n",
        "      layer_0 = x_test[i:i+1]\n",
        "      layer_1 = relu(np.dot(layer_0,weights_0_1))\n",
        "      layer_2 = tanh(np.dot(layer_1,weights_1_2))\n",
        "      layer_3= tanh(np.dot(layer_2,weights_2_3))\n",
        "      layer_4 = softmax(np.dot(layer_3, weights_3_4))\n",
        "      \n",
        "     \n",
        "      y_pred+=[int(np.argmax(layer_4))]\n",
        "\n",
        "      actual_label+=[np.argmax(y_test[i:i+1])]\n",
        "      test_err += np.sum((y_test[i:i+1] - layer_4) ** 2)\n",
        "      test_correct_count += int(np.argmax(layer_4) == np.argmax(y_test[i:i+1])) # count how many test data predicted labels match with true labels\n",
        "\n",
        "      \n",
        "    \n",
        "    if(j%5==0):\n",
        "      Test_Error.append(test_err/ float(len(x_test)))\n",
        "      Test_Accuracy.append(test_correct_count/ float(len(x_test)))\n",
        "      Training_Error.append(error/ float(len(images)))\n",
        "      Training_Accuracy.append(correct_cnt/ float(len(images)))\n",
        "      sys.stdout.write(\"\\n\" + \\\n",
        "                          \"Epoch:\" + str(j) + \\\n",
        "                          \" | Test-Err:\" + str(test_err/ float(len(x_test)))[0:5] +\\\n",
        "                          \" | Test-Acc:\" + str(test_correct_count/ float(len(x_test)))+\\\n",
        "                          \" | Train-Err:\" + str(error/ float(len(images)))[0:5] +\\\n",
        "                          \" | Train-Acc:\" + str(correct_cnt/ float(len(images))) +\\\n",
        "                          \" | \")"
      ],
      "execution_count": 31,
      "outputs": [
        {
          "output_type": "stream",
          "text": [
            "\n",
            "Epoch:0 | Test-Err:0.807 | Test-Acc:0.5471 | Train-Err:0.881 | Train-Acc:0.24735 | \n",
            "Epoch:5 | Test-Err:0.222 | Test-Acc:0.8619 | Train-Err:0.340 | Train-Acc:0.7806333333333333 | \n",
            "Epoch:10 | Test-Err:0.168 | Test-Acc:0.8947 | Train-Err:0.255 | Train-Acc:0.8349833333333333 | \n",
            "Epoch:15 | Test-Err:0.154 | Test-Acc:0.9021 | Train-Err:0.229 | Train-Acc:0.85115 | \n",
            "Epoch:20 | Test-Err:0.146 | Test-Acc:0.9036 | Train-Err:0.215 | Train-Acc:0.8596166666666667 | \n",
            "Epoch:25 | Test-Err:0.144 | Test-Acc:0.9036 | Train-Err:0.209 | Train-Acc:0.8622666666666666 | \n",
            "Epoch:30 | Test-Err:0.143 | Test-Acc:0.9053 | Train-Err:0.207 | Train-Acc:0.8631833333333333 | \n",
            "Epoch:35 | Test-Err:0.141 | Test-Acc:0.908 | Train-Err:0.204 | Train-Acc:0.8644 | \n",
            "Epoch:40 | Test-Err:0.140 | Test-Acc:0.9086 | Train-Err:0.203 | Train-Acc:0.8639333333333333 | \n",
            "Epoch:45 | Test-Err:0.140 | Test-Acc:0.9069 | Train-Err:0.207 | Train-Acc:0.8602833333333333 | "
          ],
          "name": "stdout"
        }
      ]
    },
    {
      "cell_type": "markdown",
      "metadata": {
        "id": "-Lu_tgt4LPRI"
      },
      "source": [
        "# Confusion Matrix"
      ]
    },
    {
      "cell_type": "code",
      "metadata": {
        "id": "6cIRZ-iwLRc8"
      },
      "source": [
        "import itertools\n",
        "\"\"\"\n",
        "    function to print and plot confusion matrix\n",
        "\"\"\"\n",
        "def plot_confusion_matrix(cm, classes,\n",
        "                          normalize=False,\n",
        "                          title='Confusion matrix',\n",
        "                          cmap=plt.cm.Blues):\n",
        "    \n",
        "    plt.imshow(cm, interpolation='nearest', cmap=cmap)\n",
        "    plt.title(title)\n",
        "    plt.colorbar()\n",
        "    tick_marks = np.arange(len(classes))\n",
        "    plt.xticks(tick_marks, classes, rotation=45)\n",
        "    plt.yticks(tick_marks, classes)\n",
        "\n",
        "    if normalize:\n",
        "        cm = cm.astype('float') / cm.sum(axis=1)[:, np.newaxis]\n",
        "\n",
        "    thresh = cm.max() / 2.\n",
        "    for i, j in itertools.product(range(cm.shape[0]), range(cm.shape[1])):\n",
        "        plt.text(j, i, cm[i, j],\n",
        "                 horizontalalignment=\"center\",\n",
        "                 color=\"white\" if cm[i, j] > thresh else \"black\")\n",
        "\n",
        "    plt.tight_layout()\n",
        "    plt.ylabel('True label')\n",
        "    plt.xlabel('Predicted label')"
      ],
      "execution_count": 32,
      "outputs": []
    },
    {
      "cell_type": "code",
      "metadata": {
        "id": "fGdShbuVEtQD",
        "outputId": "c715a0ce-eff2-469f-8348-8b73b8d5c89d",
        "colab": {
          "base_uri": "https://localhost:8080/",
          "height": 585
        }
      },
      "source": [
        "# compute the confusion matrix\n",
        "conf_mtx = confusion_matrix(y_pred, actual_label)\n",
        "# plot the confusion matrix\n",
        "fig = plt.figure(figsize=(8, 8))\n",
        "plot_confusion_matrix(conf_mtx, classes = range(10))"
      ],
      "execution_count": 33,
      "outputs": [
        {
          "output_type": "display_data",
          "data": {
            "image/png": "[encoded data removed]",
            "text/plain": [
              "<Figure size 576x576 with 2 Axes>"
            ]
          },
          "metadata": {
            "tags": [],
            "needs_background": "light"
          }
        }
      ]
    },
    {
      "cell_type": "markdown",
      "metadata": {
        "id": "BTySIWybFAZM"
      },
      "source": [
        "# Visualization"
      ]
    },
    {
      "cell_type": "markdown",
      "metadata": {
        "id": "mtcyLDjMLjbX"
      },
      "source": [
        "## Plot: Training vs. Testing Accuracy"
      ]
    },
    {
      "cell_type": "code",
      "metadata": {
        "colab": {
          "base_uri": "https://localhost:8080/",
          "height": 193
        },
        "id": "-ExfR4yDLlWq",
        "outputId": "b79d7c88-e3c1-4318-fc6a-7512e4c2ff59"
      },
      "source": [
        "fig = plt.figure()\n",
        "plt.subplot(2,1,1)\n",
        "plt.plot(Training_Accuracy)\n",
        "plt.plot(Test_Accuracy)\n",
        "plt.title('Model accuracy')\n",
        "plt.ylabel('accuracy')\n",
        "plt.xlabel('epoch')\n",
        "plt.legend(['train', 'test'], loc='lower right')"
      ],
      "execution_count": 34,
      "outputs": [
        {
          "output_type": "execute_result",
          "data": {
            "text/plain": [
              "<matplotlib.legend.Legend at 0x7f83a3420690>"
            ]
          },
          "metadata": {
            "tags": []
          },
          "execution_count": 34
        },
        {
          "output_type": "display_data",
          "data": {
            "image/png": "[encoded data removed]",
            "text/plain": [
              "<Figure size 432x288 with 1 Axes>"
            ]
          },
          "metadata": {
            "tags": [],
            "needs_background": "light"
          }
        }
      ]
    },
    {
      "cell_type": "markdown",
      "metadata": {
        "id": "tjFUwSn7Ksc_"
      },
      "source": [
        "## PLot: Training vs. Test Loss\n"
      ]
    },
    {
      "cell_type": "code",
      "metadata": {
        "id": "k3YYGNvGKsc_",
        "outputId": "3829d88f-fcb6-4cd8-c549-1933b0c3754f",
        "colab": {
          "base_uri": "https://localhost:8080/",
          "height": 193
        }
      },
      "source": [
        "plt.subplot(2,1,2)\n",
        "plt.plot(Training_Error)\n",
        "plt.plot(Test_Error)\n",
        "plt.title('model loss')\n",
        "plt.ylabel('loss')\n",
        "plt.xlabel('epoch')\n",
        "plt.legend(['train', 'test'], loc='upper right')"
      ],
      "execution_count": 35,
      "outputs": [
        {
          "output_type": "execute_result",
          "data": {
            "text/plain": [
              "<matplotlib.legend.Legend at 0x7f8398e74990>"
            ]
          },
          "metadata": {
            "tags": []
          },
          "execution_count": 35
        },
        {
          "output_type": "display_data",
          "data": {
            "image/png": "[encoded data removed]",
            "text/plain": [
              "<Figure size 432x288 with 1 Axes>"
            ]
          },
          "metadata": {
            "tags": [],
            "needs_background": "light"
          }
        }
      ]
    },
    {
      "cell_type": "markdown",
      "metadata": {
        "id": "3wDxjurOkbCz"
      },
      "source": [
        "# Display Common Errors"
      ]
    },
    {
      "cell_type": "code",
      "metadata": {
        "id": "f_iBjmAbp-tH"
      },
      "source": [
        "# Errors are difference between predicted labels and true labels\n",
        "y_pred = np.array(y_pred) #converting it to numpy array\n",
        "actual_label = np.array(actual_label)#converting it to numpy array\n",
        "error = (y_pred - actual_label != 0)# check for errors i.e. y_pred doesnt match with actual_labels \n",
        "\n",
        "y_pred_err = y_pred[error]\n",
        "actual_label_err = actual_label[error]\n",
        "x_val_err = x_test[error]"
      ],
      "execution_count": 36,
      "outputs": []
    },
    {
      "cell_type": "code",
      "metadata": {
        "id": "hxO4U0JgFtaa",
        "outputId": "fef72489-c992-4821-a980-ab0f2259f292",
        "colab": {
          "base_uri": "https://localhost:8080/",
          "height": 296
        }
      },
      "source": [
        "#Function to display common errors\n",
        "def display_errors(img_errors, pred_errors, obs_errors):\n",
        "    \"\"\" This function shows 6 images with their predicted and real labels\"\"\"\n",
        "    n = 0\n",
        "    nrows = 2\n",
        "    ncols = 3\n",
        "    index = 0\n",
        "    fig, ax = plt.subplots(nrows,ncols,sharex=True,sharey=True)\n",
        "    for row in range(nrows):\n",
        "        for col in range(ncols):\n",
        "            ax[row,col].imshow((img_errors[index]).reshape((28,28)))\n",
        "            ax[row,col].set_title(\"Predicted label :{}\\nTrue label :{}\".format(pred_errors[index],obs_errors[index]))\n",
        "            n += 1\n",
        "            index+=1\n",
        "\n",
        "# Show errors\n",
        "display_errors(x_val_err, y_pred_err, actual_label_err)"
      ],
      "execution_count": 37,
      "outputs": [
        {
          "output_type": "display_data",
          "data": {
            "image/png": "[encoded data removed]",
            "text/plain": [
              "<Figure size 432x288 with 6 Axes>"
            ]
          },
          "metadata": {
            "tags": [],
            "needs_background": "light"
          }
        }
      ]
    }
  ]
}