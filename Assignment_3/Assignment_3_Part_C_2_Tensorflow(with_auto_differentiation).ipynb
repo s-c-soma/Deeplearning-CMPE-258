{
  "nbformat": 4,
  "nbformat_minor": 0,
  "metadata": {
    "colab": {
      "name": "Assignment_3_Part_C.2_Tensorflow(with auto differentiation)",
      "provenance": [],
      "collapsed_sections": [],
      "toc_visible": true,
      "include_colab_link": true
    },
    "kernelspec": {
      "name": "python3",
      "display_name": "Python 3"
    },
    "accelerator": "GPU"
  },
  "cells": [
    {
      "cell_type": "markdown",
      "metadata": {
        "id": "view-in-github",
        "colab_type": "text"
      },
      "source": [
        "<a href=\"https://colab.research.google.com/github/s-c-soma/Deeplearning-CMPE-258/blob/main/Assignment_3/Assignment_3_Part_C_2_Tensorflow(with_auto_differentiation).ipynb\" target=\"_parent\"><img src=\"https://colab.research.google.com/assets/colab-badge.svg\" alt=\"Open In Colab\"/></a>"
      ]
    },
    {
      "cell_type": "markdown",
      "metadata": {
        "id": "sqVW5Nezc8GZ"
      },
      "source": [
        "# 3 Layer Neural Network (with relu nonlinearity) Using Tensorflow(with GradientTape)"
      ]
    },
    {
      "cell_type": "markdown",
      "metadata": {
        "id": "mg93SMH8JHkw"
      },
      "source": [
        "# Implementation Details and Discussion\n",
        "\n",
        "* Here, I have generated the 3d input and 2d output data first.\n",
        "* Then I have built a 3 layer neural network with ReLU non linearity using Tensorflow Auto Differenciation\n",
        "* Here the output has 2 neurons\n",
        "\n",
        "## Steps: \n",
        "I have listed down the the formula and steps I have followed in each section:\n",
        "- Initialized the parameters for a three-layer network \n",
        "- Used Tensorflow Gradient Tape\n",
        "- Defined the 3layer architechture \n",
        "- Then training including back propagation\n",
        "- Finally updated the parameters.\n",
        "- Validation is also done\n",
        "- 1.4304066896438599\n",
        "\n",
        "## Equation of Multi Layer:\n",
        "$$ Z^{[l]} = W^{[l]}A^{[l-1]} + b^{[l]} $$\n",
        "\n",
        "$$ A^{[l]} = g^{[l]}(Z^{[l]}) $$\n",
        "\n",
        "Where $l$ is the `lth` layer.\n",
        "\n",
        "## ExtraCredit:\n",
        "* At the bottom I have plotted the data in 3d space. \n",
        "* To plot 3 dimensional data, I have reduced x into 2-d using TSNE"
      ]
    },
    {
      "cell_type": "markdown",
      "metadata": {
        "id": "B3B-qWOjJeSv"
      },
      "source": [
        "# Check if GPU/TPU available"
      ]
    },
    {
      "cell_type": "code",
      "metadata": {
        "colab": {
          "base_uri": "https://localhost:8080/"
        },
        "id": "S6MhLJuHJh2z",
        "outputId": "f8863a6f-4465-4674-c905-fdc06e13ba9c"
      },
      "source": [
        "!nvidia-smi"
      ],
      "execution_count": 1,
      "outputs": [
        {
          "output_type": "stream",
          "text": [
            "Mon Mar 22 00:42:13 2021       \n",
            "+-----------------------------------------------------------------------------+\n",
            "| NVIDIA-SMI 460.56       Driver Version: 460.32.03    CUDA Version: 11.2     |\n",
            "|-------------------------------+----------------------+----------------------+\n",
            "| GPU  Name        Persistence-M| Bus-Id        Disp.A | Volatile Uncorr. ECC |\n",
            "| Fan  Temp  Perf  Pwr:Usage/Cap|         Memory-Usage | GPU-Util  Compute M. |\n",
            "|                               |                      |               MIG M. |\n",
            "|===============================+======================+======================|\n",
            "|   0  Tesla T4            Off  | 00000000:00:04.0 Off |                    0 |\n",
            "| N/A   48C    P8     9W /  70W |      0MiB / 15109MiB |      0%      Default |\n",
            "|                               |                      |                  N/A |\n",
            "+-------------------------------+----------------------+----------------------+\n",
            "                                                                               \n",
            "+-----------------------------------------------------------------------------+\n",
            "| Processes:                                                                  |\n",
            "|  GPU   GI   CI        PID   Type   Process name                  GPU Memory |\n",
            "|        ID   ID                                                   Usage      |\n",
            "|=============================================================================|\n",
            "|  No running processes found                                                 |\n",
            "+-----------------------------------------------------------------------------+\n"
          ],
          "name": "stdout"
        }
      ]
    },
    {
      "cell_type": "markdown",
      "metadata": {
        "id": "T2qszXPfdAsP"
      },
      "source": [
        "## Colab environment"
      ]
    },
    {
      "cell_type": "code",
      "metadata": {
        "id": "EGkS6nN6dQaz",
        "colab": {
          "base_uri": "https://localhost:8080/"
        },
        "outputId": "daa05189-b8f3-4420-979f-7d2d4d169591"
      },
      "source": [
        "!python --version"
      ],
      "execution_count": 2,
      "outputs": [
        {
          "output_type": "stream",
          "text": [
            "Python 3.7.10\n"
          ],
          "name": "stdout"
        }
      ]
    },
    {
      "cell_type": "code",
      "metadata": {
        "id": "mrETid459vH6",
        "colab": {
          "base_uri": "https://localhost:8080/"
        },
        "outputId": "7512b0b5-02e3-4105-827f-f911376413c6"
      },
      "source": [
        "!pip list | grep tensor"
      ],
      "execution_count": 3,
      "outputs": [
        {
          "output_type": "stream",
          "text": [
            "tensorboard                   2.4.1         \n",
            "tensorboard-plugin-wit        1.8.0         \n",
            "tensorflow                    2.4.1         \n",
            "tensorflow-datasets           4.0.1         \n",
            "tensorflow-estimator          2.4.0         \n",
            "tensorflow-gcs-config         2.4.0         \n",
            "tensorflow-hub                0.11.0        \n",
            "tensorflow-metadata           0.28.0        \n",
            "tensorflow-probability        0.12.1        \n"
          ],
          "name": "stdout"
        }
      ]
    },
    {
      "cell_type": "code",
      "metadata": {
        "id": "ngcaTx9Y-1lX",
        "colab": {
          "base_uri": "https://localhost:8080/"
        },
        "outputId": "6380f28b-1208-4382-9f8b-201f5d4c3da3"
      },
      "source": [
        "!pip list | grep torch"
      ],
      "execution_count": 4,
      "outputs": [
        {
          "output_type": "stream",
          "text": [
            "torch                         1.8.0+cu101   \n",
            "torchsummary                  1.5.1         \n",
            "torchtext                     0.9.0         \n",
            "torchvision                   0.9.0+cu101   \n"
          ],
          "name": "stdout"
        }
      ]
    },
    {
      "cell_type": "markdown",
      "metadata": {
        "id": "2DH1WZPKJrXv"
      },
      "source": [
        "# Library"
      ]
    },
    {
      "cell_type": "code",
      "metadata": {
        "id": "d2m1TzD7JtLo"
      },
      "source": [
        "import tensorflow as tf\n",
        "from tensorflow.keras.layers import Layer\n",
        "\n",
        "import matplotlib.pyplot as plt\n",
        "from typing import Callable\n",
        "from sklearn.manifold import TSNE\n",
        "import pdb"
      ],
      "execution_count": 5,
      "outputs": []
    },
    {
      "cell_type": "markdown",
      "metadata": {
        "id": "26SM_-7qJ3Um"
      },
      "source": [
        "# Generating Data: 3D Input :: 2D Output"
      ]
    },
    {
      "cell_type": "code",
      "metadata": {
        "colab": {
          "base_uri": "https://localhost:8080/"
        },
        "id": "FnhpB48qKBAY",
        "outputId": "184b7671-d9fa-4e05-c49d-b52c7bced142"
      },
      "source": [
        "# Generating data of 3 dim input and 2 dim output\n",
        "n, d = 500, 3\n",
        "x = tf.random.uniform(minval=-1, maxval=1, shape = (n, d))\n",
        "x2 = tf.cast(x**2, tf.float32)\n",
        "weights_true = tf.cast(tf.constant([[5,1,5],[1,2,1]]), tf.float32)\n",
        "bias_true = tf.cast(tf.constant([1,2]), tf.float32)\n",
        "y_true = tf.matmul(x2, weights_true, transpose_b=True) + tf.matmul(x,weights_true,transpose_b=True) + bias_true\n",
        "\n",
        "print(f'x: {x.shape}, weights: {weights_true.shape}, bias: {bias_true.shape}, y: {y_true.shape}')"
      ],
      "execution_count": 6,
      "outputs": [
        {
          "output_type": "stream",
          "text": [
            "x: (500, 3), weights: (2, 3), bias: (2,), y: (500, 2)\n"
          ],
          "name": "stdout"
        }
      ]
    },
    {
      "cell_type": "markdown",
      "metadata": {
        "id": "VP8VdwKeKsc-"
      },
      "source": [
        "# Building Multi Layer NN using GradientTape: 3 Layer\n"
      ]
    },
    {
      "cell_type": "markdown",
      "metadata": {
        "id": "0r5sLKlnukQJ"
      },
      "source": [
        "## Linear Layer"
      ]
    },
    {
      "cell_type": "code",
      "metadata": {
        "id": "0Nm3UGc4kbOY"
      },
      "source": [
        "\n",
        "class Linear(Layer):\n",
        "  \"\"\"y = w.x + b\"\"\"\n",
        "\n",
        "  def __init__(self, units=32):\n",
        "      super(Linear, self).__init__()\n",
        "      self.units = units\n",
        "\n",
        "  def build(self, input_shape):\n",
        "      self.w = self.add_weight(shape=(input_shape[-1], self.units),\n",
        "                               initializer='random_normal',\n",
        "                               trainable=True)\n",
        "      self.b = self.add_weight(shape=(self.units,),\n",
        "                               initializer='random_normal',\n",
        "                               trainable=True)\n",
        "\n",
        "  def call(self, inputs):\n",
        "      return tf.matmul(inputs, self.w) + self.b"
      ],
      "execution_count": 7,
      "outputs": []
    },
    {
      "cell_type": "markdown",
      "metadata": {
        "id": "ZzI-uxEfuon3"
      },
      "source": [
        "## Model Class Architecture"
      ]
    },
    {
      "cell_type": "code",
      "metadata": {
        "id": "V1nNh4oDur4F"
      },
      "source": [
        "class MLP(Layer):\n",
        "    \"\"\"Simple stack of Linear layers.\"\"\"\n",
        "\n",
        "    def __init__(self):\n",
        "        super(MLP, self).__init__()\n",
        "        self.linear_1 = Linear(20)\n",
        "        self.linear_2 = Linear(10)\n",
        "        self.linear_3 = Linear(2)\n",
        "\n",
        "    def call(self, inputs):\n",
        "        x = self.linear_1(inputs)\n",
        "        x = tf.nn.relu(x)\n",
        "        x = self.linear_2(x)\n",
        "        x = tf.nn.relu(x)\n",
        "        return self.linear_3(x)"
      ],
      "execution_count": 8,
      "outputs": []
    },
    {
      "cell_type": "markdown",
      "metadata": {
        "id": "3wDxjurOkbCz"
      },
      "source": [
        "# Model Training and Validation "
      ]
    },
    {
      "cell_type": "code",
      "metadata": {
        "colab": {
          "base_uri": "https://localhost:8080/"
        },
        "id": "f_iBjmAbp-tH",
        "outputId": "26a28306-f2e2-47b1-a5a2-6c3803ab849a"
      },
      "source": [
        "# Training\n",
        "optimizer = tf.keras.optimizers.SGD(learning_rate=0.001)\n",
        "mse_loss_fn = tf.keras.losses.MeanSquaredError()\n",
        "loss_metric = tf.keras.metrics.Mean()\n",
        "\n",
        "dataset = tf.data.Dataset.from_tensor_slices((x, y_true))\n",
        "dataset = dataset.shuffle(buffer_size=1).batch(30)\n",
        "\n",
        "epochs = 2000\n",
        "mlp = MLP()\n",
        "# Iterate over epochs.\n",
        "for epoch in range(epochs):\n",
        "\n",
        "    # Iterate over the batches of the dataset.\n",
        "    for step, (x_batch, y_batch) in enumerate(dataset):\n",
        "        with tf.GradientTape() as tape:\n",
        "            # Forward Pass\n",
        "            y_pred_batch = mlp(x_batch)\n",
        "            # Compute loss\n",
        "            loss = mse_loss_fn(y_batch, y_pred_batch)\n",
        "            loss += sum(mlp.losses)  # Add regularization loss\n",
        "\n",
        "        grads = tape.gradient(loss, mlp.trainable_weights) # Use autograd\n",
        "        optimizer.apply_gradients(zip(grads, mlp.trainable_weights)) # Update learnable parameter\n",
        "\n",
        "        loss_metric(loss)\n",
        "    if epoch % 20 == 0:\n",
        "      print(f'Epoch {epoch}, loss {loss_metric.result()}')"
      ],
      "execution_count": 9,
      "outputs": [
        {
          "output_type": "stream",
          "text": [
            "Epoch 0, loss 29.961795806884766\n",
            "Epoch 20, loss 25.014604568481445\n",
            "Epoch 40, loss 21.54381561279297\n",
            "Epoch 60, loss 18.857736587524414\n",
            "Epoch 80, loss 16.840343475341797\n",
            "Epoch 100, loss 14.912859916687012\n",
            "Epoch 120, loss 13.075273513793945\n",
            "Epoch 140, loss 11.661016464233398\n",
            "Epoch 160, loss 10.574856758117676\n",
            "Epoch 180, loss 9.71330738067627\n",
            "Epoch 200, loss 9.008718490600586\n",
            "Epoch 220, loss 8.415257453918457\n",
            "Epoch 240, loss 7.9007134437561035\n",
            "Epoch 260, loss 7.444389820098877\n",
            "Epoch 280, loss 7.034102916717529\n",
            "Epoch 300, loss 6.663591384887695\n",
            "Epoch 320, loss 6.328906059265137\n",
            "Epoch 340, loss 6.026809215545654\n",
            "Epoch 360, loss 5.753900051116943\n",
            "Epoch 380, loss 5.506921768188477\n",
            "Epoch 400, loss 5.28286075592041\n",
            "Epoch 420, loss 5.078983306884766\n",
            "Epoch 440, loss 4.892813205718994\n",
            "Epoch 460, loss 4.722171306610107\n",
            "Epoch 480, loss 4.565209865570068\n",
            "Epoch 500, loss 4.420306205749512\n",
            "Epoch 520, loss 4.286116600036621\n",
            "Epoch 540, loss 4.161453723907471\n",
            "Epoch 560, loss 4.045313358306885\n",
            "Epoch 580, loss 3.9368157386779785\n",
            "Epoch 600, loss 3.8352038860321045\n",
            "Epoch 620, loss 3.739823579788208\n",
            "Epoch 640, loss 3.6500911712646484\n",
            "Epoch 660, loss 3.5654537677764893\n",
            "Epoch 680, loss 3.485419750213623\n",
            "Epoch 700, loss 3.4095687866210938\n",
            "Epoch 720, loss 3.337582588195801\n",
            "Epoch 740, loss 3.269167184829712\n",
            "Epoch 760, loss 3.2040274143218994\n",
            "Epoch 780, loss 3.141908645629883\n",
            "Epoch 800, loss 3.0825836658477783\n",
            "Epoch 820, loss 3.0258421897888184\n",
            "Epoch 840, loss 2.9714701175689697\n",
            "Epoch 860, loss 2.9192724227905273\n",
            "Epoch 880, loss 2.8690476417541504\n",
            "Epoch 900, loss 2.8206024169921875\n",
            "Epoch 920, loss 2.773738384246826\n",
            "Epoch 940, loss 2.728250741958618\n",
            "Epoch 960, loss 2.683929204940796\n",
            "Epoch 980, loss 2.640558958053589\n",
            "Epoch 1000, loss 2.597935676574707\n",
            "Epoch 1020, loss 2.55588698387146\n",
            "Epoch 1040, loss 2.5143072605133057\n",
            "Epoch 1060, loss 2.473184108734131\n",
            "Epoch 1080, loss 2.4325995445251465\n",
            "Epoch 1100, loss 2.3927009105682373\n",
            "Epoch 1120, loss 2.353645086288452\n",
            "Epoch 1140, loss 2.315542221069336\n",
            "Epoch 1160, loss 2.278463840484619\n",
            "Epoch 1180, loss 2.24243426322937\n",
            "Epoch 1200, loss 2.207444190979004\n",
            "Epoch 1220, loss 2.1734678745269775\n",
            "Epoch 1240, loss 2.1404809951782227\n",
            "Epoch 1260, loss 2.108449697494507\n",
            "Epoch 1280, loss 2.0773327350616455\n",
            "Epoch 1300, loss 2.0471012592315674\n",
            "Epoch 1320, loss 2.01772403717041\n",
            "Epoch 1340, loss 1.9891690015792847\n",
            "Epoch 1360, loss 1.9614051580429077\n",
            "Epoch 1380, loss 1.9344067573547363\n",
            "Epoch 1400, loss 1.9081417322158813\n",
            "Epoch 1420, loss 1.8825888633728027\n",
            "Epoch 1440, loss 1.8577134609222412\n",
            "Epoch 1460, loss 1.833500623703003\n",
            "Epoch 1480, loss 1.809919834136963\n",
            "Epoch 1500, loss 1.786948561668396\n",
            "Epoch 1520, loss 1.7645680904388428\n",
            "Epoch 1540, loss 1.7427504062652588\n",
            "Epoch 1560, loss 1.7214845418930054\n",
            "Epoch 1580, loss 1.7007509469985962\n",
            "Epoch 1600, loss 1.680522084236145\n",
            "Epoch 1620, loss 1.6607882976531982\n",
            "Epoch 1640, loss 1.6415263414382935\n",
            "Epoch 1660, loss 1.6227163076400757\n",
            "Epoch 1680, loss 1.6043453216552734\n",
            "Epoch 1700, loss 1.5864002704620361\n",
            "Epoch 1720, loss 1.5688674449920654\n",
            "Epoch 1740, loss 1.551733136177063\n",
            "Epoch 1760, loss 1.5349818468093872\n",
            "Epoch 1780, loss 1.5186002254486084\n",
            "Epoch 1800, loss 1.5025761127471924\n",
            "Epoch 1820, loss 1.4869035482406616\n",
            "Epoch 1840, loss 1.4715701341629028\n",
            "Epoch 1860, loss 1.4565623998641968\n",
            "Epoch 1880, loss 1.4418704509735107\n",
            "Epoch 1900, loss 1.4274842739105225\n",
            "Epoch 1920, loss 1.413394808769226\n",
            "Epoch 1940, loss 1.3995895385742188\n",
            "Epoch 1960, loss 1.386062741279602\n",
            "Epoch 1980, loss 1.372806191444397\n"
          ],
          "name": "stdout"
        }
      ]
    },
    {
      "cell_type": "markdown",
      "metadata": {
        "id": "IWg2KKb_kiOk"
      },
      "source": [
        "# Visualization: Training Data and Prediction"
      ]
    },
    {
      "cell_type": "markdown",
      "metadata": {
        "id": "EGfsk7RvX13S"
      },
      "source": [
        "## Plot:: Generated Data"
      ]
    },
    {
      "cell_type": "code",
      "metadata": {
        "colab": {
          "base_uri": "https://localhost:8080/",
          "height": 265
        },
        "id": "8LdEoVTaXm8Z",
        "outputId": "2f7c9c9c-7250-4bcd-cfaa-c0f17372dc01"
      },
      "source": [
        "# # # Make non-linear data, using 3 dimensional input data and 2 output neurons\n",
        "n = 200\n",
        "d1 = 3\n",
        "d2 = 2\n",
        "input_dim = 3\n",
        "output_dim = 2\n",
        "learning_rate = 0.01\n",
        "# This is our weight matrix\n",
        "w = tf.Variable(tf.random.uniform(shape=(input_dim, output_dim)))\n",
        "# This is our bias vector\n",
        "b = tf.Variable(tf.zeros(shape=(output_dim,)))\n",
        "x = tf.Variable(tf.random.uniform(shape=(n, d1)))\n",
        "y = tf.Variable(tf.random.uniform(shape=(n, d2)))\n",
        "\n",
        "y_true = tf.matmul(tf.pow(x,2), w) + tf.matmul(x, w) + b\n",
        "plt.scatter(x[:, 0], x[:, 1], c=y[:, 0])\n",
        "plt.scatter(x[:, 0], x[:, 1], label='underlying function')\n",
        "if y_true is not None:\n",
        "  plt.scatter(x[:, 0], x[:, 1], label='our function')\n",
        "  plt.legend()"
      ],
      "execution_count": 13,
      "outputs": [
        {
          "output_type": "display_data",
          "data": {
            "image/png": "[encoded data removed]",
            "text/plain": [
              "<Figure size 432x288 with 1 Axes>"
            ]
          },
          "metadata": {
            "tags": [],
            "needs_background": "light"
          }
        }
      ]
    },
    {
      "cell_type": "markdown",
      "metadata": {
        "id": "aUHOJVE5RViC"
      },
      "source": [
        "## ExtraCredit: t-SNE 3D Plot"
      ]
    },
    {
      "cell_type": "code",
      "metadata": {
        "id": "K2KXEIucbAxy"
      },
      "source": [
        "def plot_intereactive_3d(x, y, y_pred=None):\n",
        "  import plotly.graph_objects as go\n",
        "\n",
        "  fig = go.Figure()\n",
        "  fig.add_trace(go.Scatter3d(x = x[:,0],\n",
        "                    y = x[:,1],\n",
        "                    z = y.reshape([-1]),\n",
        "                    opacity=0.5, mode='markers', name='Underlying Function'\n",
        "                    ))\n",
        " \n",
        "  if y_pred is not None:\n",
        "    fig.add_trace(go.Scatter3d(x = x[:,0],\n",
        "                   y = x[:,1],\n",
        "                   z = y_pred.reshape([-1]),\n",
        "                   opacity=0.5, mode='markers', name='Predicted Function'\n",
        "                  ))\n",
        "    \n",
        "  fig.update_layout(scene = dict(\n",
        "                    xaxis_title='X1',\n",
        "                    yaxis_title='X2',\n",
        "                    zaxis_title='Y'),\n",
        "                    width=700,\n",
        "                    margin=dict(r=20, b=10, l=10, t=10))\n",
        "  fig.show()"
      ],
      "execution_count": 11,
      "outputs": []
    },
    {
      "cell_type": "code",
      "metadata": {
        "colab": {
          "base_uri": "https://localhost:8080/",
          "height": 558
        },
        "id": "zrdK76PdcQw3",
        "outputId": "7e4fc906-232d-43f8-8f5e-9ddd82054f29"
      },
      "source": [
        "from sklearn.manifold import TSNE\n",
        "X_reduced = TSNE(n_components=2).fit_transform(x)\n",
        "y_true_reduced = TSNE(n_components=1).fit_transform(y_true)\n",
        "y_pred_reduced = TSNE(n_components=1).fit_transform(model(x))\n",
        "print(f'X_reduced: {X_reduced.shape}, y_true_reduced: {y_true_reduced.shape}, y_pred_reduced: {y_pred_reduced.shape}')\n",
        "plot_intereactive_3d(X_reduced,y_true_reduced,y_pred_reduced)"
      ],
      "execution_count": null,
      "outputs": [
        {
          "output_type": "stream",
          "text": [
            "X_reduced: (500, 2), y_true_reduced: (500, 1), y_pred_reduced: (500, 1)\n"
          ],
          "name": "stdout"
        },
        {
          "output_type": "display_data",
          "data": {
            "text/html": [
              "<html>\n",
              "<head><meta charset=\"utf-8\" /></head>\n",
              "<body>\n",
              "    <div>\n",
              "            <script src=\"https://cdnjs.cloudflare.com/ajax/libs/mathjax/2.7.5/MathJax.js?config=TeX-AMS-MML_SVG\"></script><script type=\"text/javascript\">if (window.MathJax) {MathJax.Hub.Config({SVG: {font: \"STIX-Web\"}});}</script>\n",
              "                <script type=\"text/javascript\">window.PlotlyConfig = {MathJaxConfig: 'local'};</script>\n",
              "        <script src=\"https://cdn.plot.ly/plotly-latest.min.js\"></script>    \n",
              "            <div id=\"1e23d26c-fcdc-4874-94df-bde170f362fd\" class=\"plotly-graph-div\" style=\"height:525px; width:700px;\"></div>\n",
              "            <script type=\"text/javascript\">\n",
              "                \n",
              "                    window.PLOTLYENV=window.PLOTLYENV || {};\n",
              "                    \n",
              "                if (document.getElementById(\"1e23d26c-fcdc-4874-94df-bde170f362fd\")) {\n",
              "                    Plotly.newPlot(\n",
              "                        '1e23d26c-fcdc-4874-94df-bde170f362fd',\n",
              "                        [{\"mode\": \"markers\", \"name\": \"Underlying Function\", \"opacity\": 0.5, \"type\": \"scatter3d\", \"x\": [-15.42171859741211, 1.3642513751983643, 21.058818817138672, 15.451199531555176, -14.267854690551758, -8.358251571655273, -3.7183330059051514, -10.048810958862305, 9.477813720703125, 7.690367698669434, 16.608165740966797, 20.13100814819336, 11.965404510498047, 0.5060542225837708, -3.4659314155578613, 8.880106925964355, 12.525578498840332, 3.4179224967956543, 10.407002449035645, -9.076683044433594, 12.943056106567383, 14.57514762878418, 6.255768775939941, -4.505823135375977, 2.604710102081299, 15.465863227844238, -23.039257049560547, 15.403757095336914, 18.22441291809082, -6.54174280166626, -23.437917709350586, 7.746615409851074, -6.499331474304199, -7.225386142730713, -18.012575149536133, -4.874510765075684, 12.99863052368164, 3.992643117904663, -23.959077835083008, 19.394912719726562, 18.638669967651367, 14.90478801727295, -15.758222579956055, -7.149892330169678, 4.788538455963135, 20.01186752319336, -19.468460083007812, 17.29143524169922, 15.86652946472168, 16.16510772705078, 17.61254119873047, -20.337934494018555, 2.6451175212860107, 0.6398180723190308, -0.4372583329677582, 17.849529266357422, -24.446640014648438, -8.46320915222168, -14.465335845947266, -15.395512580871582, -2.7460367679595947, -7.372076511383057, -16.35826873779297, 16.136445999145508, -21.780879974365234, 20.124855041503906, -6.789066791534424, 12.846290588378906, -4.98947286605835, 11.666155815124512, -12.064790725708008, -19.88959312438965, -2.72686505317688, 14.554253578186035, 12.733748435974121, -0.5833142399787903, 0.49433064460754395, -19.67071533203125, 17.92032814025879, 12.475836753845215, 12.685026168823242, -22.780550003051758, 10.955562591552734, 8.925209045410156, 14.078950881958008, 3.7486302852630615, 4.038510799407959, 10.288948059082031, 14.344816207885742, -21.115758895874023, 16.08379364013672, -18.49970817565918, 18.815107345581055, 1.0164604187011719, -21.542436599731445, 10.24461841583252, -1.2347607612609863, 3.7203762531280518, 5.440751075744629, -4.826700210571289, 2.805328607559204, -11.756303787231445, -0.1654583364725113, 0.2287677675485611, 14.856663703918457, -22.922897338867188, -4.906729698181152, -2.3523337841033936, -12.344172477722168, 13.216444969177246, -24.649433135986328, 17.934823989868164, -2.154839515686035, 1.1329495906829834, 11.650398254394531, -24.428909301757812, 17.914398193359375, 15.645095825195312, 11.340370178222656, 8.806926727294922, -21.020660400390625, -0.43232062458992004, 15.030647277832031, 17.772994995117188, 0.09077625721693039, 9.517930030822754, -5.959609508514404, -19.89027214050293, 15.793136596679688, -16.215600967407227, 11.714811325073242, 11.88742446899414, -21.077232360839844, 8.230108261108398, 15.072291374206543, -0.6048752069473267, -16.698362350463867, -3.3199150562286377, 1.2135745286941528, 18.60761070251465, -0.46956950426101685, 1.9113789796829224, 8.60603141784668, 18.76510238647461, -5.508815288543701, -11.673323631286621, -22.7675838470459, 7.500875473022461, -20.229534149169922, 10.806744575500488, 18.739465713500977, 4.581486701965332, 9.814189910888672, 12.943011283874512, -4.4117960929870605, 3.7680418491363525, 9.49974250793457, 11.521124839782715, 11.10409164428711, 0.29427099227905273, 1.3381645679473877, 14.841106414794922, 5.346561431884766, 12.608038902282715, -16.672964096069336, 14.842963218688965, -20.192922592163086, -1.3645358085632324, -21.826213836669922, 19.783708572387695, -23.341733932495117, -16.563261032104492, 7.720203876495361, -18.35733985900879, 15.520978927612305, -13.608003616333008, -5.137588024139404, 14.907404899597168, -8.75778865814209, 8.956342697143555, 9.742281913757324, 2.2878599166870117, -23.132949829101562, 4.169877529144287, 1.3861857652664185, -17.286365509033203, -9.778230667114258, 5.356292724609375, 12.077710151672363, 6.163235187530518, 7.9776458740234375, 0.549986720085144, -7.970695972442627, 0.8944559693336487, 3.5086374282836914, 12.215067863464355, -19.598188400268555, 14.919239044189453, 8.005989074707031, 13.332813262939453, 20.233930587768555, 1.8033150434494019, -21.826324462890625, -16.239843368530273, -1.9322727918624878, -6.785748481750488, 7.141524791717529, -7.282686233520508, 5.592051982879639, 0.34882307052612305, 4.09085750579834, 1.153114676475525, 9.717785835266113, 2.62085223197937, 5.496065616607666, -19.048633575439453, 18.7802677154541, 1.54445219039917, 9.56157398223877, 9.128140449523926, 16.515365600585938, 16.486257553100586, -5.112999439239502, -12.80278205871582, 14.426319122314453, -12.830693244934082, -2.4850945472717285, 3.968691349029541, 19.02206802368164, 14.56313705444336, 6.051176071166992, -14.433006286621094, 8.619646072387695, 1.6414695978164673, -4.010716438293457, 15.844992637634277, -5.436429023742676, -3.396373748779297, 1.6346036195755005, 11.011812210083008, -17.826698303222656, 13.597906112670898, 3.6937506198883057, 0.19683191180229187, -23.536203384399414, -22.760271072387695, 8.278670310974121, -16.40492820739746, 7.713069915771484, -8.352875709533691, -7.539945125579834, -10.323283195495605, 4.819910049438477, -1.7674002647399902, 12.61674690246582, 16.700475692749023, -6.331127166748047, -4.157311916351318, -0.6813564896583557, 10.670186996459961, -0.5273224711418152, 10.76563549041748, 9.86433219909668, 8.606780052185059, 14.03211784362793, 8.657747268676758, -14.43166732788086, 18.197349548339844, -6.491738319396973, 2.11098575592041, 6.324470520019531, -13.365314483642578, 4.808817386627197, 13.452537536621094, -0.3189094364643097, -3.1109824180603027, 15.866599082946777, -20.51027488708496, -18.70941162109375, -13.058149337768555, -3.1783673763275146, 6.754961967468262, 15.35718059539795, 1.9922274351119995, -20.65877914428711, -17.90897560119629, 14.760210037231445, -0.3634713590145111, -11.333528518676758, -4.670771598815918, -5.327582836151123, 12.520803451538086, -8.044836044311523, -20.22292137145996, -1.1389037370681763, 9.295019149780273, -20.704965591430664, 19.500764846801758, -17.187824249267578, -6.659937858581543, -5.8126139640808105, -5.512753486633301, -2.861692428588867, -13.97701644897461, 9.819063186645508, 7.962233543395996, 8.475030899047852, 20.06760597229004, -6.277100086212158, -10.98016357421875, 9.60010814666748, 14.435836791992188, -7.734501838684082, -0.5934511423110962, 11.644315719604492, 4.070924758911133, 4.486080646514893, 13.518749237060547, -2.9488375186920166, 3.8012166023254395, -13.158537864685059, -14.17773151397705, -3.923694610595703, 5.696261882781982, -22.3201847076416, -15.462810516357422, 9.595600128173828, -4.242887020111084, 10.761141777038574, 8.643622398376465, 6.6955108642578125, 2.8396992683410645, 10.187050819396973, 13.576542854309082, 12.53528881072998, -2.6985433101654053, 11.103583335876465, -19.098377227783203, -1.8791542053222656, -3.939497947692871, -7.928405284881592, 16.76032066345215, 11.970160484313965, -3.212143659591675, -14.857933044433594, -2.31543231010437, -19.352401733398438, 0.6402411460876465, 1.95609450340271, -1.0742628574371338, -25.353872299194336, 2.603076457977295, -18.91922378540039, 13.606667518615723, 6.794644355773926, -21.34743881225586, -17.004661560058594, 1.8033541440963745, -13.302434921264648, 6.134946346282959, 9.298822402954102, 10.625931739807129, -16.531335830688477, 16.84560203552246, 13.10784912109375, 0.40232565999031067, -22.64253044128418, -2.626556873321533, -0.3393583297729492, 3.650324583053589, -3.432677984237671, 12.308618545532227, -18.887039184570312, -6.164346218109131, 16.792177200317383, -1.5321485996246338, -6.012959957122803, -1.3814533948898315, 5.677067279815674, 8.12038516998291, -26.209732055664062, 4.268545627593994, 9.28831672668457, -15.04975414276123, -21.93977165222168, 15.76172161102295, 7.0267229080200195, -21.501880645751953, 10.492932319641113, -23.810344696044922, 15.627593040466309, 8.189512252807617, 19.346620559692383, -2.563977003097534, 16.186342239379883, -3.1342318058013916, 14.691743850708008, 8.567207336425781, 10.190577507019043, 13.088940620422363, -7.215879440307617, 10.044992446899414, 13.560519218444824, 19.79037094116211, 6.413141250610352, 17.892894744873047, 15.470746040344238, 15.143950462341309, 17.59286880493164, -12.378605842590332, 1.260995626449585, 0.6431565880775452, -25.66861343383789, 0.5520126223564148, -16.31901741027832, -4.845098972320557, 1.6043859720230103, 17.518884658813477, 4.7260332107543945, 7.109995365142822, -20.513774871826172, -21.732452392578125, 17.636676788330078, -22.759037017822266, 10.078526496887207, -22.255859375, 11.123927116394043, 19.265430450439453, -25.852937698364258, 9.102012634277344, 19.11632537841797, -21.830974578857422, -13.369452476501465, 1.950454831123352, -11.225258827209473, -9.921836853027344, 16.212305068969727, 6.5762128829956055, -12.367199897766113, -7.109982967376709, -8.990644454956055, -23.707019805908203, -20.78389549255371, 20.871187210083008, -20.297204971313477, -0.349435418844223, -19.35594367980957, -5.503857135772705, -2.38132643699646, -21.234901428222656, 4.535196781158447, -5.343695163726807, 20.803775787353516, 14.943812370300293, 1.789985179901123, -22.55837631225586, 14.448990821838379, 6.685309410095215, -1.0992708206176758, 1.6966216564178467, 15.088329315185547, 10.787454605102539, -6.294314861297607, 11.218592643737793, -6.6590070724487305, -15.396505355834961, -15.71168327331543, 7.058238983154297, -21.602018356323242, 13.444911003112793, -7.306931972503662, -17.25560760498047, -1.1528229713439941, -6.16840124130249, -15.720906257629395, -2.8481783866882324, 2.191392183303833, -2.518388032913208, 11.235428810119629, -5.265964508056641, -11.79300594329834, 2.8137500286102295, -21.02677345275879, -17.170923233032227, -3.0585989952087402, -7.103700637817383, 8.927172660827637, -19.267621994018555, 1.288075566291809, 8.388960838317871, 8.03994083404541, -7.9147114753723145, 1.7058409452438354, -6.345545291900635, -18.5982666015625, -21.8182373046875, 14.591517448425293, 4.671553611755371, -5.398636817932129, -2.905707597732544], \"y\": [9.955373764038086, 7.144267559051514, 2.421900987625122, -24.515392303466797, 13.319206237792969, 14.925386428833008, -2.923358917236328, 16.8380069732666, -18.6933650970459, 11.12059497833252, -2.288256883621216, 2.3906147480010986, 11.630675315856934, 10.717826843261719, 17.022371292114258, -21.934120178222656, -20.152799606323242, 8.93928050994873, 17.08796501159668, 14.506739616394043, 12.407632827758789, 13.626511573791504, 9.75540542602539, 0.08398459106683731, -11.839994430541992, 0.20423515141010284, 3.295339584350586, -20.219112396240234, -16.952892303466797, -0.8152819871902466, 9.954585075378418, -22.126537322998047, 1.0655401945114136, 20.023759841918945, -2.384255886077881, 19.2564697265625, -24.390626907348633, -0.4994937777519226, 10.382883071899414, 1.5474261045455933, -13.444284439086914, -19.685630798339844, 9.32341480255127, 14.5213041305542, -22.395456314086914, -2.7424306869506836, 10.310152053833008, 2.3407323360443115, 1.847137212753296, -16.287952423095703, -17.969390869140625, -4.2002997398376465, -3.0042643547058105, -13.300942420959473, 15.857481002807617, 1.2210642099380493, 3.92707896232605, 16.43544578552246, 15.426969528198242, 9.18548583984375, -8.775164604187012, -1.7601176500320435, 8.254904747009277, 0.9346323013305664, 6.884518623352051, 1.6702462434768677, -12.561354637145996, 13.13929271697998, -16.573623657226562, 12.462465286254883, 8.293011665344238, -2.622011661529541, -3.3190114498138428, 7.635854721069336, -16.544919967651367, 13.359463691711426, -15.687434196472168, 8.256246566772461, -2.842498302459717, -5.9168291091918945, 6.166857719421387, 9.5889253616333, -20.930768966674805, 15.374236106872559, 14.93598461151123, 10.071277618408203, -10.668437004089355, -20.38787841796875, -2.980494260787964, 6.553887844085693, -19.48981285095215, 0.1119687408208847, -15.659536361694336, -11.169343948364258, 4.02368688583374, -10.850481033325195, -9.355660438537598, -15.794827461242676, -1.6749744415283203, -13.2567720413208, -1.8956677913665771, 11.673956871032715, -3.3291258811950684, -8.449868202209473, -21.8857364654541, -0.30397024750709534, -14.630412101745605, 9.918190956115723, 13.59749984741211, 15.575194358825684, 9.70018482208252, -16.209457397460938, 2.4595015048980713, 1.6964576244354248, -23.604948043823242, 5.814091682434082, 3.8217222690582275, -15.463788986206055, 16.07574462890625, -18.564128875732422, -6.93813419342041, -15.12172794342041, 11.440701484680176, 3.0426013469696045, 0.045913342386484146, -3.102321147918701, -16.939550399780273, 0.06362809985876083, 5.865764617919922, -7.257656097412109, -25.77397918701172, 14.031389236450195, -4.113309383392334, 0.8232820630073547, 13.000276565551758, -6.418396472930908, -7.516678810119629, -15.314958572387695, -2.0155932903289795, -3.2700483798980713, -4.581685543060303, -9.959836959838867, -1.1949183940887451, -6.509629249572754, -15.057489395141602, 16.706546783447266, 10.52424144744873, -23.026283264160156, -5.295749187469482, 11.366724014282227, -4.893257141113281, -10.939661026000977, 10.67984390258789, -22.82839584350586, 18.122859954833984, 3.697819709777832, 0.39530956745147705, 6.376865863800049, -2.5473527908325195, 10.097564697265625, 5.132917881011963, -0.1830333024263382, 11.501189231872559, -23.736774444580078, 5.277421474456787, -15.777928352355957, 0.6813570857048035, -5.441336154937744, 5.9491868019104, 0.4942070245742798, 5.787228584289551, -5.893280029296875, -4.818140029907227, 2.0656166076660156, -19.029314041137695, 16.1774959564209, 4.566737651824951, -25.410688400268555, 15.547950744628906, -4.7008376121521, -1.6570788621902466, 11.986340522766113, 11.315214157104492, -8.967713356018066, -14.910837173461914, 10.318181991577148, 18.65886116027832, -9.690085411071777, -10.12912654876709, 4.051603317260742, -19.786977767944336, -4.148550987243652, 0.359303742647171, 6.069088935852051, -2.5007803440093994, -20.44352149963379, 6.585440635681152, -3.161376953125, 18.101295471191406, -25.43857192993164, 0.0014318698085844517, 15.070516586303711, -2.142129898071289, 3.534517288208008, -16.188156127929688, 3.4920382499694824, 19.265209197998047, 19.122037887573242, -11.43118667602539, 17.688236236572266, 10.79423999786377, -14.155755996704102, -23.279937744140625, -14.950166702270508, 18.591062545776367, -4.779102325439453, -7.146489143371582, -3.218959093093872, -8.334342956542969, -6.605238914489746, -13.290799140930176, -4.120262622833252, 4.01865291595459, 15.40177059173584, -19.47828483581543, 16.04442596435547, -5.757498264312744, 9.323470115661621, 2.19570255279541, -24.582685470581055, -21.99993896484375, 10.83437728881836, 15.207249641418457, 5.982829570770264, -15.13354778289795, -22.971237182617188, 18.325895309448242, -17.61215591430664, 1.5928010940551758, -6.168369770050049, -5.2150726318359375, -23.9244327545166, -16.504138946533203, -5.232437610626221, 6.684728145599365, 6.006678581237793, -10.313790321350098, 4.269150733947754, 1.1432546377182007, 19.97209358215332, 1.9367092847824097, 17.414817810058594, 5.3973894119262695, -15.569567680358887, -9.586853981018066, -20.935531616210938, 1.8860453367233276, -2.5674617290496826, 2.263059377670288, 10.735767364501953, 13.676884651184082, 15.16152572631836, -9.996552467346191, 17.669254302978516, 11.606258392333984, -4.250447750091553, 7.979775428771973, -1.5368236303329468, 18.38832664489746, -2.043645143508911, -21.148723602294922, 8.296730995178223, 9.74731731414795, -2.8722593784332275, -13.95573902130127, -13.941765785217285, -3.457041025161743, 3.203796148300171, 8.093603134155273, 10.765608787536621, 19.59471321105957, -2.192553997039795, -2.3393938541412354, 4.647819519042969, -1.7124477624893188, -6.841298580169678, -14.877551078796387, -1.4181843996047974, 15.537744522094727, 16.808406829833984, 16.23967742919922, -19.18863296508789, 18.98883819580078, -1.1348835229873657, 0.49734732508659363, -18.020811080932617, 5.370570659637451, -3.6226532459259033, -6.366514682769775, -14.432361602783203, -13.165365219116211, -17.483062744140625, -16.104448318481445, 8.349788665771484, 11.453624725341797, 2.0953710079193115, -9.365399360656738, 3.326601266860962, 3.928490400314331, 17.974536895751953, -9.32141399383545, -23.82131576538086, -2.6479413509368896, 17.1350154876709, 14.925334930419922, -11.5945405960083, 5.503159046173096, -15.561785697937012, 2.514347791671753, 0.9834305644035339, 7.0608625411987305, 9.05259895324707, 15.397098541259766, -2.2531960010528564, 2.930027484893799, -3.5198965072631836, -6.165311336517334, -17.285205841064453, -19.550922393798828, 13.686272621154785, 0.06681676208972931, 3.688161849975586, 1.4177870750427246, -16.07672882080078, -21.251399993896484, -4.2851972579956055, -8.768354415893555, 9.380599021911621, 16.85312271118164, 16.038917541503906, -1.8649201393127441, -18.065521240234375, 7.242475509643555, -1.699587106704712, 11.271794319152832, -7.858938694000244, -4.204473972320557, 4.488372325897217, 17.4395809173584, -8.62810230255127, 4.930290699005127, 6.827776908874512, -5.694096088409424, 14.199844360351562, -22.38593292236328, 2.7245254516601562, -7.075900077819824, 2.6821413040161133, 12.124327659606934, 10.695310592651367, -0.6400275826454163, -22.7807674407959, -2.3239712715148926, 3.717245101928711, 7.403334140777588, 1.4434349536895752, 5.0323100090026855, 19.541597366333008, -8.165864944458008, 12.051198959350586, 3.4685709476470947, 15.74559211730957, 3.5183019638061523, 19.7227783203125, 2.9842774868011475, 13.464200019836426, 2.6360185146331787, -6.987492561340332, -22.339168548583984, -22.664443969726562, 6.706446647644043, 0.03856895864009857, 13.177085876464844, 5.799948692321777, 9.543205261230469, 9.953015327453613, -4.999307632446289, -0.19269876182079315, -6.9214677810668945, 7.764125347137451, -16.188274383544922, -0.01392260380089283, -2.6115195751190186, 3.271730422973633, -0.28573542833328247, -9.87756061553955, -16.45841407775879, -9.023626327514648, 0.24918782711029053, -3.472419261932373, -16.436019897460938, -4.356172561645508, -22.94611167907715, -1.0965797901153564, 19.227859497070312, -3.4685139656066895, -24.982555389404297, -13.656468391418457, -13.197022438049316, 17.08917808532715, 10.430232048034668, 16.9302978515625, 7.020596027374268, 1.0100189447402954, 2.676669120788574, 14.224363327026367, -0.602142333984375, -13.923993110656738, 10.356651306152344, -9.700596809387207, 11.071432113647461, 1.8895169496536255, -15.325493812561035, -3.918994426727295, 14.899455070495605, -2.327515125274658, -9.845921516418457, -7.0475077629089355, 5.966861248016357, -19.905336380004883, -5.425149917602539, -6.72802209854126, 13.304023742675781, -13.211012840270996, 12.253095626831055, 17.703105926513672, -14.494993209838867, 12.062026977539062, 11.510025978088379, -13.96458911895752, 16.810583114624023, 11.07608699798584, -3.1972146034240723, 3.3887109756469727, -6.7464985847473145, 17.880855560302734, -1.8457496166229248, -2.8368239402770996, 18.532806396484375, -6.1538872718811035, 17.461273193359375, -3.750997304916382, 0.9237774014472961, 10.676450729370117, 16.81017303466797, 11.119680404663086, 8.971443176269531, 0.7763270139694214, -16.198774337768555, 8.35567569732666, -3.8160622119903564, 0.8050418496131897, -15.456454277038574, -25.118989944458008, -16.326133728027344, -3.8407788276672363, -2.0026748180389404, 18.658937454223633, -0.9129359722137451, 6.9449334144592285, 0.5969269871711731, 3.6146624088287354, 16.104969024658203, 20.480995178222656, 11.0493745803833, -14.865642547607422, 11.102574348449707, 17.360702514648438, 13.634732246398926, -2.3723602294921875, 16.091720581054688, -9.964533805847168, 10.215540885925293, 4.04412841796875, 4.932117462158203, -15.054398536682129, 10.663328170776367, 7.656578063964844, 16.018150329589844, 1.5262998342514038, -18.809476852416992, 15.758166313171387, -12.171452522277832, 14.781896591186523, -4.047390937805176, -5.944671630859375, 2.7857322692871094, -2.113788604736328, -15.814518928527832, 16.028732299804688], \"z\": [38.31847381591797, -24.97509765625, -31.598236083984375, -18.069801330566406, 40.801063537597656, 30.151582717895508, -6.832521438598633, 41.044010162353516, -2.0598511695861816, -22.210826873779297, -40.37545394897461, -41.2663688659668, -13.053866386413574, -5.985695838928223, 26.53373146057129, -17.60609245300293, -17.650691986083984, -23.02631187438965, 7.586083889007568, 29.641050338745117, -12.613473892211914, -14.12479305267334, -28.474279403686523, -6.053911209106445, -10.533203125, -44.71078872680664, 23.285213470458984, -38.12965774536133, -40.647056579589844, 8.668644905090332, 36.71403503417969, -16.570354461669922, 13.456543922424316, 43.05125045776367, 17.993255615234375, 29.745635986328125, -17.84956169128418, 4.974039554595947, 39.08364486694336, -41.382015228271484, -35.432334899902344, -38.251914978027344, 37.5307502746582, 21.526227951049805, -1.9188021421432495, -41.55695343017578, 37.31361389160156, -43.76200485229492, -44.56332778930664, -34.56892395019531, -42.82566833496094, 16.82234001159668, 20.730043411254883, -3.4162750244140625, -5.432919502258301, -44.39023971557617, 22.824613571166992, 39.1328239440918, 44.77446746826172, 37.70094680786133, 18.256420135498047, 19.353466033935547, 27.701934814453125, -44.78728103637695, 44.538875579833984, -35.91470718383789, 24.56303596496582, -11.800572395324707, 23.263893127441406, -7.818439483642578, 30.233135223388672, 33.42771530151367, -7.538323879241943, -32.8178596496582, -3.587923049926758, 8.018759727478027, -2.564340829849243, 42.14948654174805, -33.49383544921875, -42.48764419555664, -34.39821243286133, 24.874719619750977, -19.71587562561035, 27.53549575805664, -7.888621807098389, -6.468286037445068, -23.347139358520508, -19.808799743652344, -39.83304977416992, 42.69525909423828, -38.917625427246094, 10.56101131439209, -41.16881561279297, -4.185708045959473, 33.100830078125, -37.64996337890625, 11.295390129089355, -20.11272621154785, 2.3170108795166016, 10.476171493530273, 28.281896591186523, 21.389476776123047, 13.096853256225586, 6.184919357299805, -38.00365447998047, 15.466039657592773, 16.283126831054688, 3.683335304260254, 38.34281921386719, -5.495224475860596, 32.24729919433594, -39.297611236572266, 29.392578125, -7.749543190002441, -19.819303512573242, 35.449363708496094, -44.0128059387207, -28.758468627929688, 12.333670616149902, -1.667377233505249, 23.544851303100586, -0.5513043999671936, -27.373668670654297, -43.8958625793457, -6.989842414855957, -26.579517364501953, 34.269927978515625, 32.38996505737305, -41.04541015625, 18.845947265625, -17.180980682373047, -5.818110942840576, 34.05998229980469, -30.177169799804688, -24.015439987182617, 12.303875923156738, 19.320602416992188, 0.016726039350032806, 7.992980003356934, -36.16230773925781, 20.24176597595215, -9.334086418151855, -26.11086654663086, -32.779502868652344, 23.039636611938477, 42.1259765625, 37.1182975769043, -16.042987823486328, 24.097890853881836, -12.458052635192871, -43.7253303527832, -12.106937408447266, -12.623191833496094, -15.976269721984863, 20.462596893310547, -29.110881805419922, -33.272586822509766, -25.676847457885742, -31.875125885009766, -8.459697723388672, -25.902189254760742, -44.43366622924805, -12.534456253051758, -18.59391975402832, 9.740971565246582, -27.864770889282227, 35.00535202026367, 7.73628044128418, 42.690673828125, -42.7015380859375, 43.20976257324219, 6.503684043884277, -7.4176106452941895, 17.35701560974121, -38.681373596191406, 44.83143615722656, 27.48871421813965, -16.82609748840332, 37.590484619140625, -22.007244110107422, -32.27580261230469, -7.946035861968994, 40.54423141479492, -28.079792022705078, -16.718994140625, 38.77433776855469, 40.94926071166992, -27.867725372314453, -34.79831314086914, -11.632161140441895, -2.931649923324585, 27.49085235595703, 27.00231170654297, -22.24659538269043, 12.592077255249023, -19.038286209106445, 36.499996185302734, -35.63813781738281, 20.396766662597656, -18.266576766967773, -41.583404541015625, 5.6509175300598145, 16.33182144165039, 1.3111276626586914, -1.0536484718322754, 12.752691268920898, 29.972326278686523, 41.2371711730957, -23.405141830444336, 4.788335800170898, -8.42789077758789, -10.08915901184082, -17.718664169311523, -19.11632537841797, 8.194791793823242, 10.481351852416992, -33.97075653076172, 27.92706871032715, -36.51801300048828, -27.00041389465332, -26.44704818725586, -41.82734298706055, 20.999252319335938, 44.1802864074707, -37.979705810546875, 44.21918487548828, 3.5856988430023193, -11.858219146728516, -42.62156295776367, -17.03223991394043, -1.34376859664917, 38.13125991821289, 26.447999954223633, -26.95644187927246, 15.465025901794434, -37.90129470825195, 28.6740779876709, 16.475252151489258, -6.838202953338623, -36.20522689819336, 31.159225463867188, -18.571529388427734, -18.74495506286621, 28.703937530517578, 43.64916229248047, 43.43152618408203, -34.637020111083984, 6.3930816650390625, -29.580175399780273, 44.97518539428711, 29.39754867553711, 41.86214828491211, -12.754171371459961, -1.6210675239562988, -34.80134963989258, -38.082130432128906, 12.730413436889648, -7.431646347045898, 7.009498119354248, -13.507826805114746, 8.016345977783203, 20.965116500854492, -34.79540252685547, 13.191314697265625, -26.454631805419922, -21.990196228027344, 19.502283096313477, -43.26824951171875, 37.8233757019043, 20.87465476989746, -1.0650702714920044, 13.242745399475098, -11.621305465698242, -31.21361541748047, -0.19516178965568542, -1.3785006999969482, -43.45922088623047, 16.38138771057129, 43.78132247924805, 26.68631362915039, 38.05416488647461, -11.408921241760254, -39.196048736572266, -25.915205001831055, 33.765968322753906, 6.238193511962891, -23.693981170654297, -6.3266143798828125, 41.35383605957031, 20.6649169921875, 20.415250778198242, -17.594520568847656, 42.563289642333984, 34.91164016723633, 12.77640151977539, -1.1952283382415771, 40.12251663208008, -36.55059051513672, 9.458824157714844, 34.43394088745117, 16.598060607910156, 34.296875, -0.035753875970840454, 18.628366470336914, -13.346619606018066, -30.187889099121094, -40.97971725463867, -36.56330108642578, 8.819357872009277, 44.39168930053711, -34.73299789428711, -19.127002716064453, 28.604496002197266, 5.428918838500977, 5.77506160736084, -23.58348846435547, -12.786507606506348, -10.32617473602295, 28.135696411132812, 3.7696499824523926, 6.105479717254639, 19.777677536010742, 12.617511749267578, 2.545422315597534, 33.450042724609375, -3.897613048553467, -30.112789154052734, 22.780803680419922, -18.902935028076172, 4.461575984954834, -13.692484855651855, -26.92426109313965, -36.23860549926758, -10.405789375305176, -18.60215950012207, -7.067619323730469, -35.389495849609375, 36.952781677246094, 8.549543380737305, 13.457220077514648, 28.46319007873535, -39.59054946899414, -24.721799850463867, -23.893402099609375, 39.37786102294922, 9.238053321838379, 17.776586532592773, -13.413280487060547, -8.989527702331543, 19.49928092956543, 17.020965576171875, -32.33574676513672, 10.444944381713867, -11.432304382324219, -16.48725128173828, 23.691024780273438, 19.073945999145508, -13.027580261230469, 30.428895950317383, -25.43260383605957, -30.855998992919922, -18.97532844543457, 6.925889015197754, -43.19791793823242, -30.332448959350586, 2.4489216804504395, 43.36029052734375, 37.91944885253906, 6.518381118774414, -22.131175994873047, 25.97596549987793, 3.9044606685638428, 17.931852340698242, 40.82797622680664, -44.277164459228516, 21.505573272705078, 28.772403717041016, 11.794764518737793, -1.3617680072784424, -17.208404541015625, 34.42368698120117, 2.6985604763031006, 7.359890460968018, 7.87492561340332, 24.868412017822266, -33.680763244628906, 2.675039768218994, 35.656917572021484, -31.332618713378906, 42.484981536865234, -28.70751190185547, -28.929168701171875, -31.583843231201172, 26.702714920043945, -44.70771408081055, 25.09941291809082, -27.951692581176758, -43.22871780395508, -36.14542007446289, -33.58518981933594, 32.40931701660156, -27.472742080688477, -15.921021461486816, -39.899539947509766, 27.9068660736084, -32.682125091552734, -18.099376678466797, -12.300287246704102, -33.12199401855469, 44.508033752441406, -8.206088066101074, 4.326660633087158, 35.51060104370117, -6.004750728607178, -3.6086063385009766, 8.32804012298584, 13.770182609558105, -33.22121047973633, -5.960140705108643, -37.174747467041016, 19.797285079956055, 22.910860061645508, -40.605796813964844, 15.38921070098877, 8.482667922973633, 16.629711151123047, -40.27705383300781, -30.9451961517334, 23.966642379760742, -17.02240562438965, -42.19810104370117, 35.14400863647461, 38.83754348754883, -3.712263345718384, 26.308971405029297, 41.93145751953125, -28.186412811279297, -8.247928619384766, 21.327186584472656, 34.0195426940918, 40.987483978271484, 40.003448486328125, 34.066890716552734, -30.37645721435547, 16.164216995239258, 7.503183364868164, 31.897106170654297, 1.7371817827224731, 26.293468475341797, 33.33393859863281, -7.302725791931152, 1.1392395496368408, -42.36042785644531, -29.979703903198242, -8.685872077941895, 39.30089569091797, -31.9020938873291, -23.064002990722656, -1.1615519523620605, -25.362268447875977, -41.01710891723633, -41.88507080078125, 33.68583297729492, -18.861425399780273, 24.210161209106445, -3.8236589431762695, 6.502312183380127, 26.65736961364746, 33.23685836791992, -33.354862213134766, 19.020124435424805, 9.576560974121094, 4.891273498535156, 41.57455825805664, 39.78976821899414, -0.7428064942359924, -13.344649314880371, 13.511402130126953, -6.506882667541504, 1.7717618942260742, 42.022979736328125, -23.03253746032715, 31.082929611206055, 9.559610366821289, 26.21796989440918, 35.00184631347656, -25.433704376220703, 44.15077590942383, 3.100446939468384, -33.799560546875, -2.6997323036193848, 30.469501495361328, -4.251625061035156, 20.401538848876953, 24.67099380493164, 34.56773376464844, -43.44171905517578, 3.657942533493042, 23.32411003112793, 13.812307357788086]}, {\"mode\": \"markers\", \"name\": \"Predicted Function\", \"opacity\": 0.5, \"type\": \"scatter3d\", \"x\": [-15.42171859741211, 1.3642513751983643, 21.058818817138672, 15.451199531555176, -14.267854690551758, -8.358251571655273, -3.7183330059051514, -10.048810958862305, 9.477813720703125, 7.690367698669434, 16.608165740966797, 20.13100814819336, 11.965404510498047, 0.5060542225837708, -3.4659314155578613, 8.880106925964355, 12.525578498840332, 3.4179224967956543, 10.407002449035645, -9.076683044433594, 12.943056106567383, 14.57514762878418, 6.255768775939941, -4.505823135375977, 2.604710102081299, 15.465863227844238, -23.039257049560547, 15.403757095336914, 18.22441291809082, -6.54174280166626, -23.437917709350586, 7.746615409851074, -6.499331474304199, -7.225386142730713, -18.012575149536133, -4.874510765075684, 12.99863052368164, 3.992643117904663, -23.959077835083008, 19.394912719726562, 18.638669967651367, 14.90478801727295, -15.758222579956055, -7.149892330169678, 4.788538455963135, 20.01186752319336, -19.468460083007812, 17.29143524169922, 15.86652946472168, 16.16510772705078, 17.61254119873047, -20.337934494018555, 2.6451175212860107, 0.6398180723190308, -0.4372583329677582, 17.849529266357422, -24.446640014648438, -8.46320915222168, -14.465335845947266, -15.395512580871582, -2.7460367679595947, -7.372076511383057, -16.35826873779297, 16.136445999145508, -21.780879974365234, 20.124855041503906, -6.789066791534424, 12.846290588378906, -4.98947286605835, 11.666155815124512, -12.064790725708008, -19.88959312438965, -2.72686505317688, 14.554253578186035, 12.733748435974121, -0.5833142399787903, 0.49433064460754395, -19.67071533203125, 17.92032814025879, 12.475836753845215, 12.685026168823242, -22.780550003051758, 10.955562591552734, 8.925209045410156, 14.078950881958008, 3.7486302852630615, 4.038510799407959, 10.288948059082031, 14.344816207885742, -21.115758895874023, 16.08379364013672, -18.49970817565918, 18.815107345581055, 1.0164604187011719, -21.542436599731445, 10.24461841583252, -1.2347607612609863, 3.7203762531280518, 5.440751075744629, -4.826700210571289, 2.805328607559204, -11.756303787231445, -0.1654583364725113, 0.2287677675485611, 14.856663703918457, -22.922897338867188, -4.906729698181152, -2.3523337841033936, -12.344172477722168, 13.216444969177246, -24.649433135986328, 17.934823989868164, -2.154839515686035, 1.1329495906829834, 11.650398254394531, -24.428909301757812, 17.914398193359375, 15.645095825195312, 11.340370178222656, 8.806926727294922, -21.020660400390625, -0.43232062458992004, 15.030647277832031, 17.772994995117188, 0.09077625721693039, 9.517930030822754, -5.959609508514404, -19.89027214050293, 15.793136596679688, -16.215600967407227, 11.714811325073242, 11.88742446899414, -21.077232360839844, 8.230108261108398, 15.072291374206543, -0.6048752069473267, -16.698362350463867, -3.3199150562286377, 1.2135745286941528, 18.60761070251465, -0.46956950426101685, 1.9113789796829224, 8.60603141784668, 18.76510238647461, -5.508815288543701, -11.673323631286621, -22.7675838470459, 7.500875473022461, -20.229534149169922, 10.806744575500488, 18.739465713500977, 4.581486701965332, 9.814189910888672, 12.943011283874512, -4.4117960929870605, 3.7680418491363525, 9.49974250793457, 11.521124839782715, 11.10409164428711, 0.29427099227905273, 1.3381645679473877, 14.841106414794922, 5.346561431884766, 12.608038902282715, -16.672964096069336, 14.842963218688965, -20.192922592163086, -1.3645358085632324, -21.826213836669922, 19.783708572387695, -23.341733932495117, -16.563261032104492, 7.720203876495361, -18.35733985900879, 15.520978927612305, -13.608003616333008, -5.137588024139404, 14.907404899597168, -8.75778865814209, 8.956342697143555, 9.742281913757324, 2.2878599166870117, -23.132949829101562, 4.169877529144287, 1.3861857652664185, -17.286365509033203, -9.778230667114258, 5.356292724609375, 12.077710151672363, 6.163235187530518, 7.9776458740234375, 0.549986720085144, -7.970695972442627, 0.8944559693336487, 3.5086374282836914, 12.215067863464355, -19.598188400268555, 14.919239044189453, 8.005989074707031, 13.332813262939453, 20.233930587768555, 1.8033150434494019, -21.826324462890625, -16.239843368530273, -1.9322727918624878, -6.785748481750488, 7.141524791717529, -7.282686233520508, 5.592051982879639, 0.34882307052612305, 4.09085750579834, 1.153114676475525, 9.717785835266113, 2.62085223197937, 5.496065616607666, -19.048633575439453, 18.7802677154541, 1.54445219039917, 9.56157398223877, 9.128140449523926, 16.515365600585938, 16.486257553100586, -5.112999439239502, -12.80278205871582, 14.426319122314453, -12.830693244934082, -2.4850945472717285, 3.968691349029541, 19.02206802368164, 14.56313705444336, 6.051176071166992, -14.433006286621094, 8.619646072387695, 1.6414695978164673, -4.010716438293457, 15.844992637634277, -5.436429023742676, -3.396373748779297, 1.6346036195755005, 11.011812210083008, -17.826698303222656, 13.597906112670898, 3.6937506198883057, 0.19683191180229187, -23.536203384399414, -22.760271072387695, 8.278670310974121, -16.40492820739746, 7.713069915771484, -8.352875709533691, -7.539945125579834, -10.323283195495605, 4.819910049438477, -1.7674002647399902, 12.61674690246582, 16.700475692749023, -6.331127166748047, -4.157311916351318, -0.6813564896583557, 10.670186996459961, -0.5273224711418152, 10.76563549041748, 9.86433219909668, 8.606780052185059, 14.03211784362793, 8.657747268676758, -14.43166732788086, 18.197349548339844, -6.491738319396973, 2.11098575592041, 6.324470520019531, -13.365314483642578, 4.808817386627197, 13.452537536621094, -0.3189094364643097, -3.1109824180603027, 15.866599082946777, -20.51027488708496, -18.70941162109375, -13.058149337768555, -3.1783673763275146, 6.754961967468262, 15.35718059539795, 1.9922274351119995, -20.65877914428711, -17.90897560119629, 14.760210037231445, -0.3634713590145111, -11.333528518676758, -4.670771598815918, -5.327582836151123, 12.520803451538086, -8.044836044311523, -20.22292137145996, -1.1389037370681763, 9.295019149780273, -20.704965591430664, 19.500764846801758, -17.187824249267578, -6.659937858581543, -5.8126139640808105, -5.512753486633301, -2.861692428588867, -13.97701644897461, 9.819063186645508, 7.962233543395996, 8.475030899047852, 20.06760597229004, -6.277100086212158, -10.98016357421875, 9.60010814666748, 14.435836791992188, -7.734501838684082, -0.5934511423110962, 11.644315719604492, 4.070924758911133, 4.486080646514893, 13.518749237060547, -2.9488375186920166, 3.8012166023254395, -13.158537864685059, -14.17773151397705, -3.923694610595703, 5.696261882781982, -22.3201847076416, -15.462810516357422, 9.595600128173828, -4.242887020111084, 10.761141777038574, 8.643622398376465, 6.6955108642578125, 2.8396992683410645, 10.187050819396973, 13.576542854309082, 12.53528881072998, -2.6985433101654053, 11.103583335876465, -19.098377227783203, -1.8791542053222656, -3.939497947692871, -7.928405284881592, 16.76032066345215, 11.970160484313965, -3.212143659591675, -14.857933044433594, -2.31543231010437, -19.352401733398438, 0.6402411460876465, 1.95609450340271, -1.0742628574371338, -25.353872299194336, 2.603076457977295, -18.91922378540039, 13.606667518615723, 6.794644355773926, -21.34743881225586, -17.004661560058594, 1.8033541440963745, -13.302434921264648, 6.134946346282959, 9.298822402954102, 10.625931739807129, -16.531335830688477, 16.84560203552246, 13.10784912109375, 0.40232565999031067, -22.64253044128418, -2.626556873321533, -0.3393583297729492, 3.650324583053589, -3.432677984237671, 12.308618545532227, -18.887039184570312, -6.164346218109131, 16.792177200317383, -1.5321485996246338, -6.012959957122803, -1.3814533948898315, 5.677067279815674, 8.12038516998291, -26.209732055664062, 4.268545627593994, 9.28831672668457, -15.04975414276123, -21.93977165222168, 15.76172161102295, 7.0267229080200195, -21.501880645751953, 10.492932319641113, -23.810344696044922, 15.627593040466309, 8.189512252807617, 19.346620559692383, -2.563977003097534, 16.186342239379883, -3.1342318058013916, 14.691743850708008, 8.567207336425781, 10.190577507019043, 13.088940620422363, -7.215879440307617, 10.044992446899414, 13.560519218444824, 19.79037094116211, 6.413141250610352, 17.892894744873047, 15.470746040344238, 15.143950462341309, 17.59286880493164, -12.378605842590332, 1.260995626449585, 0.6431565880775452, -25.66861343383789, 0.5520126223564148, -16.31901741027832, -4.845098972320557, 1.6043859720230103, 17.518884658813477, 4.7260332107543945, 7.109995365142822, -20.513774871826172, -21.732452392578125, 17.636676788330078, -22.759037017822266, 10.078526496887207, -22.255859375, 11.123927116394043, 19.265430450439453, -25.852937698364258, 9.102012634277344, 19.11632537841797, -21.830974578857422, -13.369452476501465, 1.950454831123352, -11.225258827209473, -9.921836853027344, 16.212305068969727, 6.5762128829956055, -12.367199897766113, -7.109982967376709, -8.990644454956055, -23.707019805908203, -20.78389549255371, 20.871187210083008, -20.297204971313477, -0.349435418844223, -19.35594367980957, -5.503857135772705, -2.38132643699646, -21.234901428222656, 4.535196781158447, -5.343695163726807, 20.803775787353516, 14.943812370300293, 1.789985179901123, -22.55837631225586, 14.448990821838379, 6.685309410095215, -1.0992708206176758, 1.6966216564178467, 15.088329315185547, 10.787454605102539, -6.294314861297607, 11.218592643737793, -6.6590070724487305, -15.396505355834961, -15.71168327331543, 7.058238983154297, -21.602018356323242, 13.444911003112793, -7.306931972503662, -17.25560760498047, -1.1528229713439941, -6.16840124130249, -15.720906257629395, -2.8481783866882324, 2.191392183303833, -2.518388032913208, 11.235428810119629, -5.265964508056641, -11.79300594329834, 2.8137500286102295, -21.02677345275879, -17.170923233032227, -3.0585989952087402, -7.103700637817383, 8.927172660827637, -19.267621994018555, 1.288075566291809, 8.388960838317871, 8.03994083404541, -7.9147114753723145, 1.7058409452438354, -6.345545291900635, -18.5982666015625, -21.8182373046875, 14.591517448425293, 4.671553611755371, -5.398636817932129, -2.905707597732544], \"y\": [9.955373764038086, 7.144267559051514, 2.421900987625122, -24.515392303466797, 13.319206237792969, 14.925386428833008, -2.923358917236328, 16.8380069732666, -18.6933650970459, 11.12059497833252, -2.288256883621216, 2.3906147480010986, 11.630675315856934, 10.717826843261719, 17.022371292114258, -21.934120178222656, -20.152799606323242, 8.93928050994873, 17.08796501159668, 14.506739616394043, 12.407632827758789, 13.626511573791504, 9.75540542602539, 0.08398459106683731, -11.839994430541992, 0.20423515141010284, 3.295339584350586, -20.219112396240234, -16.952892303466797, -0.8152819871902466, 9.954585075378418, -22.126537322998047, 1.0655401945114136, 20.023759841918945, -2.384255886077881, 19.2564697265625, -24.390626907348633, -0.4994937777519226, 10.382883071899414, 1.5474261045455933, -13.444284439086914, -19.685630798339844, 9.32341480255127, 14.5213041305542, -22.395456314086914, -2.7424306869506836, 10.310152053833008, 2.3407323360443115, 1.847137212753296, -16.287952423095703, -17.969390869140625, -4.2002997398376465, -3.0042643547058105, -13.300942420959473, 15.857481002807617, 1.2210642099380493, 3.92707896232605, 16.43544578552246, 15.426969528198242, 9.18548583984375, -8.775164604187012, -1.7601176500320435, 8.254904747009277, 0.9346323013305664, 6.884518623352051, 1.6702462434768677, -12.561354637145996, 13.13929271697998, -16.573623657226562, 12.462465286254883, 8.293011665344238, -2.622011661529541, -3.3190114498138428, 7.635854721069336, -16.544919967651367, 13.359463691711426, -15.687434196472168, 8.256246566772461, -2.842498302459717, -5.9168291091918945, 6.166857719421387, 9.5889253616333, -20.930768966674805, 15.374236106872559, 14.93598461151123, 10.071277618408203, -10.668437004089355, -20.38787841796875, -2.980494260787964, 6.553887844085693, -19.48981285095215, 0.1119687408208847, -15.659536361694336, -11.169343948364258, 4.02368688583374, -10.850481033325195, -9.355660438537598, -15.794827461242676, -1.6749744415283203, -13.2567720413208, -1.8956677913665771, 11.673956871032715, -3.3291258811950684, -8.449868202209473, -21.8857364654541, -0.30397024750709534, -14.630412101745605, 9.918190956115723, 13.59749984741211, 15.575194358825684, 9.70018482208252, -16.209457397460938, 2.4595015048980713, 1.6964576244354248, -23.604948043823242, 5.814091682434082, 3.8217222690582275, -15.463788986206055, 16.07574462890625, -18.564128875732422, -6.93813419342041, -15.12172794342041, 11.440701484680176, 3.0426013469696045, 0.045913342386484146, -3.102321147918701, -16.939550399780273, 0.06362809985876083, 5.865764617919922, -7.257656097412109, -25.77397918701172, 14.031389236450195, -4.113309383392334, 0.8232820630073547, 13.000276565551758, -6.418396472930908, -7.516678810119629, -15.314958572387695, -2.0155932903289795, -3.2700483798980713, -4.581685543060303, -9.959836959838867, -1.1949183940887451, -6.509629249572754, -15.057489395141602, 16.706546783447266, 10.52424144744873, -23.026283264160156, -5.295749187469482, 11.366724014282227, -4.893257141113281, -10.939661026000977, 10.67984390258789, -22.82839584350586, 18.122859954833984, 3.697819709777832, 0.39530956745147705, 6.376865863800049, -2.5473527908325195, 10.097564697265625, 5.132917881011963, -0.1830333024263382, 11.501189231872559, -23.736774444580078, 5.277421474456787, -15.777928352355957, 0.6813570857048035, -5.441336154937744, 5.9491868019104, 0.4942070245742798, 5.787228584289551, -5.893280029296875, -4.818140029907227, 2.0656166076660156, -19.029314041137695, 16.1774959564209, 4.566737651824951, -25.410688400268555, 15.547950744628906, -4.7008376121521, -1.6570788621902466, 11.986340522766113, 11.315214157104492, -8.967713356018066, -14.910837173461914, 10.318181991577148, 18.65886116027832, -9.690085411071777, -10.12912654876709, 4.051603317260742, -19.786977767944336, -4.148550987243652, 0.359303742647171, 6.069088935852051, -2.5007803440093994, -20.44352149963379, 6.585440635681152, -3.161376953125, 18.101295471191406, -25.43857192993164, 0.0014318698085844517, 15.070516586303711, -2.142129898071289, 3.534517288208008, -16.188156127929688, 3.4920382499694824, 19.265209197998047, 19.122037887573242, -11.43118667602539, 17.688236236572266, 10.79423999786377, -14.155755996704102, -23.279937744140625, -14.950166702270508, 18.591062545776367, -4.779102325439453, -7.146489143371582, -3.218959093093872, -8.334342956542969, -6.605238914489746, -13.290799140930176, -4.120262622833252, 4.01865291595459, 15.40177059173584, -19.47828483581543, 16.04442596435547, -5.757498264312744, 9.323470115661621, 2.19570255279541, -24.582685470581055, -21.99993896484375, 10.83437728881836, 15.207249641418457, 5.982829570770264, -15.13354778289795, -22.971237182617188, 18.325895309448242, -17.61215591430664, 1.5928010940551758, -6.168369770050049, -5.2150726318359375, -23.9244327545166, -16.504138946533203, -5.232437610626221, 6.684728145599365, 6.006678581237793, -10.313790321350098, 4.269150733947754, 1.1432546377182007, 19.97209358215332, 1.9367092847824097, 17.414817810058594, 5.3973894119262695, -15.569567680358887, -9.586853981018066, -20.935531616210938, 1.8860453367233276, -2.5674617290496826, 2.263059377670288, 10.735767364501953, 13.676884651184082, 15.16152572631836, -9.996552467346191, 17.669254302978516, 11.606258392333984, -4.250447750091553, 7.979775428771973, -1.5368236303329468, 18.38832664489746, -2.043645143508911, -21.148723602294922, 8.296730995178223, 9.74731731414795, -2.8722593784332275, -13.95573902130127, -13.941765785217285, -3.457041025161743, 3.203796148300171, 8.093603134155273, 10.765608787536621, 19.59471321105957, -2.192553997039795, -2.3393938541412354, 4.647819519042969, -1.7124477624893188, -6.841298580169678, -14.877551078796387, -1.4181843996047974, 15.537744522094727, 16.808406829833984, 16.23967742919922, -19.18863296508789, 18.98883819580078, -1.1348835229873657, 0.49734732508659363, -18.020811080932617, 5.370570659637451, -3.6226532459259033, -6.366514682769775, -14.432361602783203, -13.165365219116211, -17.483062744140625, -16.104448318481445, 8.349788665771484, 11.453624725341797, 2.0953710079193115, -9.365399360656738, 3.326601266860962, 3.928490400314331, 17.974536895751953, -9.32141399383545, -23.82131576538086, -2.6479413509368896, 17.1350154876709, 14.925334930419922, -11.5945405960083, 5.503159046173096, -15.561785697937012, 2.514347791671753, 0.9834305644035339, 7.0608625411987305, 9.05259895324707, 15.397098541259766, -2.2531960010528564, 2.930027484893799, -3.5198965072631836, -6.165311336517334, -17.285205841064453, -19.550922393798828, 13.686272621154785, 0.06681676208972931, 3.688161849975586, 1.4177870750427246, -16.07672882080078, -21.251399993896484, -4.2851972579956055, -8.768354415893555, 9.380599021911621, 16.85312271118164, 16.038917541503906, -1.8649201393127441, -18.065521240234375, 7.242475509643555, -1.699587106704712, 11.271794319152832, -7.858938694000244, -4.204473972320557, 4.488372325897217, 17.4395809173584, -8.62810230255127, 4.930290699005127, 6.827776908874512, -5.694096088409424, 14.199844360351562, -22.38593292236328, 2.7245254516601562, -7.075900077819824, 2.6821413040161133, 12.124327659606934, 10.695310592651367, -0.6400275826454163, -22.7807674407959, -2.3239712715148926, 3.717245101928711, 7.403334140777588, 1.4434349536895752, 5.0323100090026855, 19.541597366333008, -8.165864944458008, 12.051198959350586, 3.4685709476470947, 15.74559211730957, 3.5183019638061523, 19.7227783203125, 2.9842774868011475, 13.464200019836426, 2.6360185146331787, -6.987492561340332, -22.339168548583984, -22.664443969726562, 6.706446647644043, 0.03856895864009857, 13.177085876464844, 5.799948692321777, 9.543205261230469, 9.953015327453613, -4.999307632446289, -0.19269876182079315, -6.9214677810668945, 7.764125347137451, -16.188274383544922, -0.01392260380089283, -2.6115195751190186, 3.271730422973633, -0.28573542833328247, -9.87756061553955, -16.45841407775879, -9.023626327514648, 0.24918782711029053, -3.472419261932373, -16.436019897460938, -4.356172561645508, -22.94611167907715, -1.0965797901153564, 19.227859497070312, -3.4685139656066895, -24.982555389404297, -13.656468391418457, -13.197022438049316, 17.08917808532715, 10.430232048034668, 16.9302978515625, 7.020596027374268, 1.0100189447402954, 2.676669120788574, 14.224363327026367, -0.602142333984375, -13.923993110656738, 10.356651306152344, -9.700596809387207, 11.071432113647461, 1.8895169496536255, -15.325493812561035, -3.918994426727295, 14.899455070495605, -2.327515125274658, -9.845921516418457, -7.0475077629089355, 5.966861248016357, -19.905336380004883, -5.425149917602539, -6.72802209854126, 13.304023742675781, -13.211012840270996, 12.253095626831055, 17.703105926513672, -14.494993209838867, 12.062026977539062, 11.510025978088379, -13.96458911895752, 16.810583114624023, 11.07608699798584, -3.1972146034240723, 3.3887109756469727, -6.7464985847473145, 17.880855560302734, -1.8457496166229248, -2.8368239402770996, 18.532806396484375, -6.1538872718811035, 17.461273193359375, -3.750997304916382, 0.9237774014472961, 10.676450729370117, 16.81017303466797, 11.119680404663086, 8.971443176269531, 0.7763270139694214, -16.198774337768555, 8.35567569732666, -3.8160622119903564, 0.8050418496131897, -15.456454277038574, -25.118989944458008, -16.326133728027344, -3.8407788276672363, -2.0026748180389404, 18.658937454223633, -0.9129359722137451, 6.9449334144592285, 0.5969269871711731, 3.6146624088287354, 16.104969024658203, 20.480995178222656, 11.0493745803833, -14.865642547607422, 11.102574348449707, 17.360702514648438, 13.634732246398926, -2.3723602294921875, 16.091720581054688, -9.964533805847168, 10.215540885925293, 4.04412841796875, 4.932117462158203, -15.054398536682129, 10.663328170776367, 7.656578063964844, 16.018150329589844, 1.5262998342514038, -18.809476852416992, 15.758166313171387, -12.171452522277832, 14.781896591186523, -4.047390937805176, -5.944671630859375, 2.7857322692871094, -2.113788604736328, -15.814518928527832, 16.028732299804688], \"z\": [-47.5765380859375, -31.914113998413086, -38.145938873291016, -19.60584831237793, 41.475341796875, 37.65486145019531, -5.060067176818848, 41.73896789550781, 0.933752715587616, -11.740337371826172, -41.262481689453125, -41.2624397277832, -11.361083984375, -5.8011627197265625, 23.30978775024414, -18.204832077026367, -18.179941177368164, -24.564254760742188, 8.62742805480957, 26.012510299682617, -10.289490699768066, -12.012556076049805, -26.514623641967773, -6.143481254577637, -8.2232666015625, -40.76099395751953, 30.853862762451172, -28.817319869995117, -34.26424789428711, 9.478198051452637, 36.97843933105469, -17.467370986938477, 17.563894271850586, 42.98722839355469, 19.233530044555664, 25.839908599853516, -18.220462799072266, -27.6175537109375, 39.77069091796875, -38.673912048339844, -35.100955963134766, -29.662511825561523, 37.65863800048828, 21.982166290283203, 0.7297623753547668, -41.769676208496094, 37.72491455078125, -40.76099395751953, -40.76099395751953, -29.405689239501953, -34.203975677490234, 29.474029541015625, 18.295608520507812, -0.6425800323486328, -4.004238128662109, -40.7696533203125, 30.136859893798828, 39.76605987548828, 45.178497314453125, 37.748985290527344, 15.758941650390625, 20.08698844909668, 24.5064640045166, -40.76995086669922, 45.027076721191406, -37.914974212646484, 30.86492347717285, -9.307482719421387, 30.374042510986328, -6.460752010345459, 25.837146759033203, 33.796424865722656, -5.243393421173096, -35.53535461425781, -0.0804935172200203, -45.4993782043457, 0.4051066040992737, 42.74517059326172, -40.76741409301758, -41.265869140625, -32.28522872924805, 27.336759567260742, -19.92456817626953, 23.546045303344727, -5.9601593017578125, -4.982807159423828, -11.713953018188477, -20.88319969177246, -38.003265380859375, 43.42659378051758, -29.984607696533203, 13.073019027709961, -37.42560577392578, -1.2462761402130127, 32.85654830932617, -29.72163963317871, 12.099495887756348, -21.15243911743164, -3.968222141265869, 13.107995986938477, 23.726634979248047, 21.394176483154297, 18.03756332397461, 5.8230133056640625, -28.78843116760254, 13.835648536682129, 29.03424072265625, -3.2740213871002197, 39.30197525024414, -3.620082139968872, 36.433807373046875, -34.091819763183594, 25.362110137939453, -5.588603973388672, -19.9405574798584, 35.397151947021484, -41.772335052490234, -28.269168853759766, 9.940743446350098, 1.3444451093673706, 30.390668869018555, 2.515748977661133, -24.313716888427734, -41.770809173583984, -4.611510276794434, -24.107994079589844, 33.4386100769043, 32.06003189086914, -38.40291976928711, 17.819616317749023, -17.884601593017578, -3.658592462539673, 34.032470703125, -25.64241600036621, -13.477330207824707, 10.022444725036621, 19.11175537109375, 13.718986511230469, 9.615867614746094, -40.77018356323242, 20.265893936157227, -6.004191875457764, -13.805145263671875, -36.177818298339844, 30.184818267822266, 42.790889739990234, 37.453704833984375, -16.939781188964844, 31.431148529052734, -10.720681190490723, -40.76887130737305, -10.461910247802734, -10.454937934875488, -17.207942962646484, 21.195484161376953, -25.976688385009766, -31.567869186401367, -23.472393035888672, -31.901721954345703, -9.600973129272461, -25.418691635131836, -39.70010757446289, -9.766975402832031, -18.56711769104004, 10.925894737243652, -22.215646743774414, 34.64818572998047, 9.362447738647461, 43.430057525634766, -41.275386810302734, 43.75619125366211, 10.933860778808594, -6.395680904388428, 15.231237411499023, -30.00790023803711, 45.220375061035156, 23.828332901000977, -19.045454025268555, 38.17509841918945, -12.919547080993652, -27.021263122558594, -6.441070556640625, 40.75599670410156, -24.547176361083984, -0.0606832392513752, 39.316070556640625, 41.79812240600586, -24.074552536010742, -30.19560432434082, -9.648463249206543, 0.21441484987735748, 23.774328231811523, 23.434680938720703, -23.741878509521484, 10.11098861694336, -18.994548797607422, 36.60201644897461, -39.574188232421875, 18.566177368164062, -19.05203628540039, -41.773372650146484, 6.932766437530518, 28.998207092285156, -1.6936264038085938, 1.919428825378418, 16.772668838500977, 25.208118438720703, 41.77009201049805, -22.20844078063965, 6.303389549255371, -6.553739547729492, -0.19787006080150604, -18.31549644470215, -20.230323791503906, 8.721724510192871, 13.430924415588379, -34.289947509765625, 23.832550048828125, -37.27937698364258, -25.138408660888672, -24.47947120666504, -41.275386810302734, 21.09819984436035, 44.653167724609375, -29.67366600036621, 44.66462707519531, 6.06909704208374, -12.272159576416016, -41.77423858642578, -18.42701530456543, 1.396209478378296, 38.794857025146484, 22.851926803588867, -31.561697006225586, 14.066067695617676, -28.771127700805664, 25.307392120361328, 13.940732955932617, -4.906610488891602, -37.02307891845703, 26.92235565185547, -18.602462768554688, -19.588056564331055, 23.962642669677734, 44.173404693603516, 43.98219299316406, -30.037954330444336, 7.116703987121582, -25.347972869873047, 45.325721740722656, 25.7664794921875, 42.46870803833008, -11.263300895690918, 1.2750517129898071, -33.85629653930664, -29.11764907836914, 16.966785430908203, -5.95571756362915, 8.199594497680664, -11.762876510620117, 9.310673713684082, 17.13327407836914, -30.67884635925293, 17.120468139648438, -23.590917587280273, -12.240328788757324, 20.04463005065918, -41.77423858642578, 38.541133880615234, 21.069095611572266, 1.8076012134552002, 17.285005569458008, -9.949136734008789, -33.18423080444336, 2.85557222366333, 1.8399120569229126, -41.28092956542969, 14.448067665100098, 44.08919143676758, 23.467615127563477, 38.4873161315918, -10.942550659179688, -38.66117858886719, -24.755449295043945, 33.49357604980469, 11.698780059814453, -22.46628761291504, -3.989259719848633, 42.02717208862305, 21.00507926940918, 20.553176879882812, -18.80908966064453, 42.611515045166016, 34.48728942871094, 17.7652645111084, 1.6091822385787964, 40.42914581298828, -41.77501678466797, 11.873038291931152, 34.35261917114258, 29.0145263671875, 33.26435852050781, 13.695782661437988, 18.27455711364746, -10.714974403381348, -25.877412796020508, -37.136322021484375, -38.421348571777344, 9.61242961883545, 44.826507568359375, -34.08521270751953, -19.162010192871094, 25.27033805847168, 6.543039321899414, 6.318769931793213, -12.207781791687012, -11.442164421081543, -8.456619262695312, 24.592241287231445, 5.781242847442627, 7.041769981384277, 20.41626739501953, 16.6092472076416, -4.433009624481201, 32.964691162109375, -1.294317364692688, -26.25847053527832, 29.569446563720703, -19.418245315551758, 7.324133396148682, -11.400606155395508, -25.017684936523438, -32.94886016845703, -8.366171836853027, -18.474504470825195, -4.682631969451904, -36.706886291503906, 37.29619216918945, 9.095696449279785, 17.478885650634766, 24.740652084350586, -30.336095809936523, -13.357277870178223, -23.4395694732666, 40.052101135253906, 11.383625984191895, 28.58109474182129, -12.58353042602539, -7.018021583557129, 15.861145973205566, 29.345596313476562, -35.98499298095703, 13.270105361938477, -7.065290451049805, -17.266183853149414, 30.156051635742188, 19.337909698486328, -10.802560806274414, 37.75004196166992, -23.481748580932617, -25.740942001342773, -19.060821533203125, 11.070721626281738, -39.06258010864258, -26.913536071777344, -3.0052714347839355, 43.8905029296875, 38.27113723754883, 6.979731559753418, -13.311957359313965, 22.543149948120117, 5.642908096313477, 19.362516403198242, 41.477943420410156, -41.285926818847656, 21.29120635986328, 25.060176849365234, 10.343135833740234, 1.3273581266403198, -18.03753089904785, 34.4047737121582, 5.426117420196533, 7.605876445770264, 7.366406440734863, 27.683603286743164, -32.135406494140625, -3.810049057006836, 35.37149429321289, -35.251060485839844, 43.26137924194336, -28.727052688598633, -24.774478912353516, -41.77744674682617, 23.26143455505371, -41.782318115234375, 28.226755142211914, -21.996299743652344, -38.60995864868164, -32.424842834472656, -35.34803009033203, 32.01089096069336, -26.045654296875, -17.215654373168945, -41.77778244018555, 23.760854721069336, -41.26525115966797, -19.64148712158203, -11.392107009887695, -32.15205764770508, 44.94613265991211, -9.695351600646973, 6.162605285644531, 35.45005416870117, -3.7055344581604004, -0.792631983757019, 9.044052124023438, 18.68561363220215, -32.32621383666992, -3.274174213409424, -34.11765670776367, 20.333271026611328, 29.54343032836914, -36.156192779541016, 14.11349105834961, 9.886270523071289, 29.52719497680664, -34.09362030029297, -34.15519332885742, 30.541837692260742, -16.94388771057129, -40.767215728759766, 34.148372650146484, 39.679931640625, -0.7734619379043579, 22.661067962646484, 42.52825927734375, -26.232419967651367, -5.019726276397705, 21.79591178894043, 33.963050842285156, 41.6435546875, 40.33586883544922, 34.01032257080078, -32.846065521240234, 14.294685363769531, 8.718500137329102, 31.660839080810547, -2.30187726020813, 22.567092895507812, 32.597808837890625, -5.295464515686035, -1.8533004522323608, -41.26545333862305, -25.369876861572266, -7.243340492248535, 39.65704345703125, -31.835723876953125, -13.152127265930176, 1.8162177801132202, -25.79452133178711, -40.76727294921875, -35.165000915527344, 33.25917434692383, -18.899181365966797, 29.387346267700195, -1.0076223611831665, 8.188517570495605, 22.253833770751953, 32.79171371459961, -32.68931579589844, 18.478214263916016, 11.412592887878418, 6.107060432434082, 42.21195983886719, 40.42987823486328, 2.437678575515747, -12.856423377990723, 17.342906951904297, -4.182146072387695, -2.8496339321136475, 42.64814376831055, -10.764996528625488, 26.348920822143555, 11.365835189819336, 22.09253692626953, 34.87458038330078, -13.599361419677734, 44.5593147277832, 5.301115989685059, -26.435718536376953, 0.7423615455627441, 37.95844268798828, -1.1064496040344238, 19.850357055664062, 28.09293556213379, 33.930023193359375, -40.76729202270508, 4.940509796142578, 31.11772346496582, 17.70187759399414]}],\n",
              "                        {\"margin\": {\"b\": 10, \"l\": 10, \"r\": 20, \"t\": 10}, \"scene\": {\"xaxis\": {\"title\": {\"text\": \"X1\"}}, \"yaxis\": {\"title\": {\"text\": \"X2\"}}, \"zaxis\": {\"title\": {\"text\": \"Y\"}}}, \"template\": {\"data\": {\"bar\": [{\"error_x\": {\"color\": \"#2a3f5f\"}, \"error_y\": {\"color\": \"#2a3f5f\"}, \"marker\": {\"line\": {\"color\": \"#E5ECF6\", \"width\": 0.5}}, \"type\": \"bar\"}], \"barpolar\": [{\"marker\": {\"line\": {\"color\": \"#E5ECF6\", \"width\": 0.5}}, \"type\": \"barpolar\"}], \"carpet\": [{\"aaxis\": {\"endlinecolor\": \"#2a3f5f\", \"gridcolor\": \"white\", \"linecolor\": \"white\", \"minorgridcolor\": \"white\", \"startlinecolor\": \"#2a3f5f\"}, \"baxis\": {\"endlinecolor\": \"#2a3f5f\", \"gridcolor\": \"white\", \"linecolor\": \"white\", \"minorgridcolor\": \"white\", \"startlinecolor\": \"#2a3f5f\"}, \"type\": \"carpet\"}], \"choropleth\": [{\"colorbar\": {\"outlinewidth\": 0, \"ticks\": \"\"}, \"type\": \"choropleth\"}], \"contour\": [{\"colorbar\": {\"outlinewidth\": 0, \"ticks\": \"\"}, \"colorscale\": [[0.0, \"#0d0887\"], [0.1111111111111111, \"#46039f\"], [0.2222222222222222, \"#7201a8\"], [0.3333333333333333, \"#9c179e\"], [0.4444444444444444, \"#bd3786\"], [0.5555555555555556, \"#d8576b\"], [0.6666666666666666, \"#ed7953\"], [0.7777777777777778, \"#fb9f3a\"], [0.8888888888888888, \"#fdca26\"], [1.0, \"#f0f921\"]], \"type\": \"contour\"}], \"contourcarpet\": [{\"colorbar\": {\"outlinewidth\": 0, \"ticks\": \"\"}, \"type\": \"contourcarpet\"}], \"heatmap\": [{\"colorbar\": {\"outlinewidth\": 0, \"ticks\": \"\"}, \"colorscale\": [[0.0, \"#0d0887\"], [0.1111111111111111, \"#46039f\"], [0.2222222222222222, \"#7201a8\"], [0.3333333333333333, \"#9c179e\"], [0.4444444444444444, \"#bd3786\"], [0.5555555555555556, \"#d8576b\"], [0.6666666666666666, \"#ed7953\"], [0.7777777777777778, \"#fb9f3a\"], [0.8888888888888888, \"#fdca26\"], [1.0, \"#f0f921\"]], \"type\": \"heatmap\"}], \"heatmapgl\": [{\"colorbar\": {\"outlinewidth\": 0, \"ticks\": \"\"}, \"colorscale\": [[0.0, \"#0d0887\"], [0.1111111111111111, \"#46039f\"], [0.2222222222222222, \"#7201a8\"], [0.3333333333333333, \"#9c179e\"], [0.4444444444444444, \"#bd3786\"], [0.5555555555555556, \"#d8576b\"], [0.6666666666666666, \"#ed7953\"], [0.7777777777777778, \"#fb9f3a\"], [0.8888888888888888, \"#fdca26\"], [1.0, \"#f0f921\"]], \"type\": \"heatmapgl\"}], \"histogram\": [{\"marker\": {\"colorbar\": {\"outlinewidth\": 0, \"ticks\": \"\"}}, \"type\": \"histogram\"}], \"histogram2d\": [{\"colorbar\": {\"outlinewidth\": 0, \"ticks\": \"\"}, \"colorscale\": [[0.0, \"#0d0887\"], [0.1111111111111111, \"#46039f\"], [0.2222222222222222, \"#7201a8\"], [0.3333333333333333, \"#9c179e\"], [0.4444444444444444, \"#bd3786\"], [0.5555555555555556, \"#d8576b\"], [0.6666666666666666, \"#ed7953\"], [0.7777777777777778, \"#fb9f3a\"], [0.8888888888888888, \"#fdca26\"], [1.0, \"#f0f921\"]], \"type\": \"histogram2d\"}], \"histogram2dcontour\": [{\"colorbar\": {\"outlinewidth\": 0, \"ticks\": \"\"}, \"colorscale\": [[0.0, \"#0d0887\"], [0.1111111111111111, \"#46039f\"], [0.2222222222222222, \"#7201a8\"], [0.3333333333333333, \"#9c179e\"], [0.4444444444444444, \"#bd3786\"], [0.5555555555555556, \"#d8576b\"], [0.6666666666666666, \"#ed7953\"], [0.7777777777777778, \"#fb9f3a\"], [0.8888888888888888, \"#fdca26\"], [1.0, \"#f0f921\"]], \"type\": \"histogram2dcontour\"}], \"mesh3d\": [{\"colorbar\": {\"outlinewidth\": 0, \"ticks\": \"\"}, \"type\": \"mesh3d\"}], \"parcoords\": [{\"line\": {\"colorbar\": {\"outlinewidth\": 0, \"ticks\": \"\"}}, \"type\": \"parcoords\"}], \"pie\": [{\"automargin\": true, \"type\": \"pie\"}], \"scatter\": [{\"marker\": {\"colorbar\": {\"outlinewidth\": 0, \"ticks\": \"\"}}, \"type\": \"scatter\"}], \"scatter3d\": [{\"line\": {\"colorbar\": {\"outlinewidth\": 0, \"ticks\": \"\"}}, \"marker\": {\"colorbar\": {\"outlinewidth\": 0, \"ticks\": \"\"}}, \"type\": \"scatter3d\"}], \"scattercarpet\": [{\"marker\": {\"colorbar\": {\"outlinewidth\": 0, \"ticks\": \"\"}}, \"type\": \"scattercarpet\"}], \"scattergeo\": [{\"marker\": {\"colorbar\": {\"outlinewidth\": 0, \"ticks\": \"\"}}, \"type\": \"scattergeo\"}], \"scattergl\": [{\"marker\": {\"colorbar\": {\"outlinewidth\": 0, \"ticks\": \"\"}}, \"type\": \"scattergl\"}], \"scattermapbox\": [{\"marker\": {\"colorbar\": {\"outlinewidth\": 0, \"ticks\": \"\"}}, \"type\": \"scattermapbox\"}], \"scatterpolar\": [{\"marker\": {\"colorbar\": {\"outlinewidth\": 0, \"ticks\": \"\"}}, \"type\": \"scatterpolar\"}], \"scatterpolargl\": [{\"marker\": {\"colorbar\": {\"outlinewidth\": 0, \"ticks\": \"\"}}, \"type\": \"scatterpolargl\"}], \"scatterternary\": [{\"marker\": {\"colorbar\": {\"outlinewidth\": 0, \"ticks\": \"\"}}, \"type\": \"scatterternary\"}], \"surface\": [{\"colorbar\": {\"outlinewidth\": 0, \"ticks\": \"\"}, \"colorscale\": [[0.0, \"#0d0887\"], [0.1111111111111111, \"#46039f\"], [0.2222222222222222, \"#7201a8\"], [0.3333333333333333, \"#9c179e\"], [0.4444444444444444, \"#bd3786\"], [0.5555555555555556, \"#d8576b\"], [0.6666666666666666, \"#ed7953\"], [0.7777777777777778, \"#fb9f3a\"], [0.8888888888888888, \"#fdca26\"], [1.0, \"#f0f921\"]], \"type\": \"surface\"}], \"table\": [{\"cells\": {\"fill\": {\"color\": \"#EBF0F8\"}, \"line\": {\"color\": \"white\"}}, \"header\": {\"fill\": {\"color\": \"#C8D4E3\"}, \"line\": {\"color\": \"white\"}}, \"type\": \"table\"}]}, \"layout\": {\"annotationdefaults\": {\"arrowcolor\": \"#2a3f5f\", \"arrowhead\": 0, \"arrowwidth\": 1}, \"coloraxis\": {\"colorbar\": {\"outlinewidth\": 0, \"ticks\": \"\"}}, \"colorscale\": {\"diverging\": [[0, \"#8e0152\"], [0.1, \"#c51b7d\"], [0.2, \"#de77ae\"], [0.3, \"#f1b6da\"], [0.4, \"#fde0ef\"], [0.5, \"#f7f7f7\"], [0.6, \"#e6f5d0\"], [0.7, \"#b8e186\"], [0.8, \"#7fbc41\"], [0.9, \"#4d9221\"], [1, \"#276419\"]], \"sequential\": [[0.0, \"#0d0887\"], [0.1111111111111111, \"#46039f\"], [0.2222222222222222, \"#7201a8\"], [0.3333333333333333, \"#9c179e\"], [0.4444444444444444, \"#bd3786\"], [0.5555555555555556, \"#d8576b\"], [0.6666666666666666, \"#ed7953\"], [0.7777777777777778, \"#fb9f3a\"], [0.8888888888888888, \"#fdca26\"], [1.0, \"#f0f921\"]], \"sequentialminus\": [[0.0, \"#0d0887\"], [0.1111111111111111, \"#46039f\"], [0.2222222222222222, \"#7201a8\"], [0.3333333333333333, \"#9c179e\"], [0.4444444444444444, \"#bd3786\"], [0.5555555555555556, \"#d8576b\"], [0.6666666666666666, \"#ed7953\"], [0.7777777777777778, \"#fb9f3a\"], [0.8888888888888888, \"#fdca26\"], [1.0, \"#f0f921\"]]}, \"colorway\": [\"#636efa\", \"#EF553B\", \"#00cc96\", \"#ab63fa\", \"#FFA15A\", \"#19d3f3\", \"#FF6692\", \"#B6E880\", \"#FF97FF\", \"#FECB52\"], \"font\": {\"color\": \"#2a3f5f\"}, \"geo\": {\"bgcolor\": \"white\", \"lakecolor\": \"white\", \"landcolor\": \"#E5ECF6\", \"showlakes\": true, \"showland\": true, \"subunitcolor\": \"white\"}, \"hoverlabel\": {\"align\": \"left\"}, \"hovermode\": \"closest\", \"mapbox\": {\"style\": \"light\"}, \"paper_bgcolor\": \"white\", \"plot_bgcolor\": \"#E5ECF6\", \"polar\": {\"angularaxis\": {\"gridcolor\": \"white\", \"linecolor\": \"white\", \"ticks\": \"\"}, \"bgcolor\": \"#E5ECF6\", \"radialaxis\": {\"gridcolor\": \"white\", \"linecolor\": \"white\", \"ticks\": \"\"}}, \"scene\": {\"xaxis\": {\"backgroundcolor\": \"#E5ECF6\", \"gridcolor\": \"white\", \"gridwidth\": 2, \"linecolor\": \"white\", \"showbackground\": true, \"ticks\": \"\", \"zerolinecolor\": \"white\"}, \"yaxis\": {\"backgroundcolor\": \"#E5ECF6\", \"gridcolor\": \"white\", \"gridwidth\": 2, \"linecolor\": \"white\", \"showbackground\": true, \"ticks\": \"\", \"zerolinecolor\": \"white\"}, \"zaxis\": {\"backgroundcolor\": \"#E5ECF6\", \"gridcolor\": \"white\", \"gridwidth\": 2, \"linecolor\": \"white\", \"showbackground\": true, \"ticks\": \"\", \"zerolinecolor\": \"white\"}}, \"shapedefaults\": {\"line\": {\"color\": \"#2a3f5f\"}}, \"ternary\": {\"aaxis\": {\"gridcolor\": \"white\", \"linecolor\": \"white\", \"ticks\": \"\"}, \"baxis\": {\"gridcolor\": \"white\", \"linecolor\": \"white\", \"ticks\": \"\"}, \"bgcolor\": \"#E5ECF6\", \"caxis\": {\"gridcolor\": \"white\", \"linecolor\": \"white\", \"ticks\": \"\"}}, \"title\": {\"x\": 0.05}, \"xaxis\": {\"automargin\": true, \"gridcolor\": \"white\", \"linecolor\": \"white\", \"ticks\": \"\", \"title\": {\"standoff\": 15}, \"zerolinecolor\": \"white\", \"zerolinewidth\": 2}, \"yaxis\": {\"automargin\": true, \"gridcolor\": \"white\", \"linecolor\": \"white\", \"ticks\": \"\", \"title\": {\"standoff\": 15}, \"zerolinecolor\": \"white\", \"zerolinewidth\": 2}}}, \"width\": 700},\n",
              "                        {\"responsive\": true}\n",
              "                    ).then(function(){\n",
              "                            \n",
              "var gd = document.getElementById('1e23d26c-fcdc-4874-94df-bde170f362fd');\n",
              "var x = new MutationObserver(function (mutations, observer) {{\n",
              "        var display = window.getComputedStyle(gd).display;\n",
              "        if (!display || display === 'none') {{\n",
              "            console.log([gd, 'removed!']);\n",
              "            Plotly.purge(gd);\n",
              "            observer.disconnect();\n",
              "        }}\n",
              "}});\n",
              "\n",
              "// Listen for the removal of the full notebook cells\n",
              "var notebookContainer = gd.closest('#notebook-container');\n",
              "if (notebookContainer) {{\n",
              "    x.observe(notebookContainer, {childList: true});\n",
              "}}\n",
              "\n",
              "// Listen for the clearing of the current output cell\n",
              "var outputEl = gd.closest('.output');\n",
              "if (outputEl) {{\n",
              "    x.observe(outputEl, {childList: true});\n",
              "}}\n",
              "\n",
              "                        })\n",
              "                };\n",
              "                \n",
              "            </script>\n",
              "        </div>\n",
              "</body>\n",
              "</html>"
            ]
          },
          "metadata": {
            "tags": []
          }
        }
      ]
    }
  ]
}