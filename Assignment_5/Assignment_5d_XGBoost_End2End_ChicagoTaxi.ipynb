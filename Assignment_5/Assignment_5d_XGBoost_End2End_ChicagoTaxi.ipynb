{
  "nbformat": 4,
  "nbformat_minor": 0,
  "metadata": {
    "colab": {
      "name": "Assignment_5d_XGBoost_End2End_ChicagoTaxi.ipynb",
      "provenance": [],
      "collapsed_sections": [],
      "toc_visible": true,
      "include_colab_link": true
    },
    "kernelspec": {
      "display_name": "Python 3",
      "language": "python",
      "name": "python3"
    },
    "language_info": {
      "codemirror_mode": {
        "name": "ipython",
        "version": 3
      },
      "file_extension": ".py",
      "mimetype": "text/x-python",
      "name": "python",
      "nbconvert_exporter": "python",
      "pygments_lexer": "ipython3",
      "version": "3.7.1"
    }
  },
  "cells": [
    {
      "cell_type": "markdown",
      "metadata": {
        "id": "view-in-github",
        "colab_type": "text"
      },
      "source": [
        "<a href=\"https://colab.research.google.com/github/s-c-soma/Deeplearning-CMPE-258/blob/main/Assignment_5/Assignment_5d_XGBoost_End2End_ChicagoTaxi.ipynb\" target=\"_parent\"><img src=\"https://colab.research.google.com/assets/colab-badge.svg\" alt=\"Open In Colab\"/></a>"
      ]
    },
    {
      "cell_type": "markdown",
      "metadata": {
        "id": "23R0Z9RojXYW"
      },
      "source": [
        "# End2End Model Using ChicagoTaxi Dataset and using XGBoost\n",
        "\n"
      ]
    },
    {
      "cell_type": "markdown",
      "metadata": {
        "id": "sfSQ-kX-MLEr"
      },
      "source": [
        "## Implementation Details and Discussion\n",
        "\n",
        "* This colab implements the end to end model for Chicago Taxi Dataset using XGBoost\n",
        "\n",
        "* Here I have followed the steps following reference colab provided by Professor:\n",
        "> 1. Data Load: 25k Taxi data\n",
        "> 2. Pre-processing of the data like droping NA values\n",
        "> 3. Then I have done some feature engineering on the features\n",
        "> 4. After that I have extracted the features\n",
        "> 5. Then I have setup the params and model\n",
        "> 6. After 100 round of training train-rmse:2.37277,test-rmse:3.11873\n",
        "\n",
        "**Extra Credit**: I have achieved state of art **3.0 rmse accuracy**\n"
      ]
    },
    {
      "cell_type": "markdown",
      "metadata": {
        "id": "B3B-qWOjJeSv"
      },
      "source": [
        "# Check if GPU/TPU available"
      ]
    },
    {
      "cell_type": "code",
      "metadata": {
        "colab": {
          "base_uri": "https://localhost:8080/"
        },
        "id": "S6MhLJuHJh2z",
        "outputId": "8c5bf946-65e1-4f88-81f9-c84adf19c008"
      },
      "source": [
        "gpu_info = !nvidia-smi\n",
        "gpu_info = '\\n'.join(gpu_info)\n",
        "if gpu_info.find('failed') >= 0:\n",
        "  print('Select the Runtime > \"Change runtime type\" menu to enable a GPU accelerator, ')\n",
        "  print('and then re-execute this cell.')\n",
        "else:\n",
        "  print(gpu_info)"
      ],
      "execution_count": null,
      "outputs": [
        {
          "output_type": "stream",
          "text": [
            "Sat Apr 24 08:33:56 2021       \n",
            "+-----------------------------------------------------------------------------+\n",
            "| NVIDIA-SMI 465.19.01    Driver Version: 460.32.03    CUDA Version: 11.2     |\n",
            "|-------------------------------+----------------------+----------------------+\n",
            "| GPU  Name        Persistence-M| Bus-Id        Disp.A | Volatile Uncorr. ECC |\n",
            "| Fan  Temp  Perf  Pwr:Usage/Cap|         Memory-Usage | GPU-Util  Compute M. |\n",
            "|                               |                      |               MIG M. |\n",
            "|===============================+======================+======================|\n",
            "|   0  Tesla P100-PCIE...  Off  | 00000000:00:04.0 Off |                    0 |\n",
            "| N/A   36C    P0    28W / 250W |      0MiB / 16280MiB |      0%      Default |\n",
            "|                               |                      |                  N/A |\n",
            "+-------------------------------+----------------------+----------------------+\n",
            "                                                                               \n",
            "+-----------------------------------------------------------------------------+\n",
            "| Processes:                                                                  |\n",
            "|  GPU   GI   CI        PID   Type   Process name                  GPU Memory |\n",
            "|        ID   ID                                                   Usage      |\n",
            "|=============================================================================|\n",
            "|  No running processes found                                                 |\n",
            "+-----------------------------------------------------------------------------+\n"
          ],
          "name": "stdout"
        }
      ]
    },
    {
      "cell_type": "markdown",
      "metadata": {
        "id": "vZzc26BAFG6t"
      },
      "source": [
        "# import libraries"
      ]
    },
    {
      "cell_type": "code",
      "metadata": {
        "id": "pETw-a1mYOUL"
      },
      "source": [
        "# load some default Python modules\n",
        "import numpy as np\n",
        "import pandas as pd\n",
        "\n",
        "import matplotlib.pyplot as plt\n",
        "import seaborn as sns\n",
        "% matplotlib inline\n",
        "\n",
        "plt.style.use('seaborn-whitegrid')\n",
        "\n",
        "import warnings\n",
        "warnings.filterwarnings('ignore')"
      ],
      "execution_count": null,
      "outputs": []
    },
    {
      "cell_type": "markdown",
      "metadata": {
        "id": "enQcr69pZKUc"
      },
      "source": [
        "# Load Data\n",
        "Download New York City Taxi Fare dataset from Kaggle API \n",
        "\n",
        "* Competition link: https://www.kaggle.com/c/new-york-city-taxi-fare-prediction/overview\n",
        "* Tutorial on Kaggle API: https://towardsdatascience.com/setting-up-kaggle-in-google-colab-ebb281b61463\n"
      ]
    },
    {
      "cell_type": "code",
      "metadata": {
        "colab": {
          "base_uri": "https://localhost:8080/"
        },
        "id": "jQluDzgeYU9W",
        "outputId": "ccacc97e-f8d3-477b-885d-19c95b73368b"
      },
      "source": [
        "!pip install kaggle\n",
        "!mkdir .kaggle"
      ],
      "execution_count": null,
      "outputs": [
        {
          "output_type": "stream",
          "text": [
            "Requirement already satisfied: kaggle in /Users/haley/anaconda3/lib/python3.7/site-packages (1.5.12)\n",
            "Requirement already satisfied: requests in /Users/haley/anaconda3/lib/python3.7/site-packages (from kaggle) (2.21.0)\n",
            "Requirement already satisfied: python-dateutil in /Users/haley/anaconda3/lib/python3.7/site-packages (from kaggle) (2.7.5)\n",
            "Requirement already satisfied: tqdm in /Users/haley/anaconda3/lib/python3.7/site-packages (from kaggle) (4.56.0)\n",
            "Requirement already satisfied: certifi in /Users/haley/anaconda3/lib/python3.7/site-packages (from kaggle) (2020.6.20)\n",
            "Requirement already satisfied: python-slugify in /Users/haley/anaconda3/lib/python3.7/site-packages (from kaggle) (4.0.1)\n",
            "Requirement already satisfied: six>=1.10 in /Users/haley/anaconda3/lib/python3.7/site-packages (from kaggle) (1.15.0)\n",
            "Requirement already satisfied: urllib3 in /Users/haley/anaconda3/lib/python3.7/site-packages (from kaggle) (1.24.1)\n",
            "Requirement already satisfied: chardet<3.1.0,>=3.0.2 in /Users/haley/anaconda3/lib/python3.7/site-packages (from requests->kaggle) (3.0.4)\n",
            "Requirement already satisfied: idna<2.9,>=2.5 in /Users/haley/anaconda3/lib/python3.7/site-packages (from requests->kaggle) (2.8)\n",
            "Requirement already satisfied: text-unidecode>=1.3 in /Users/haley/anaconda3/lib/python3.7/site-packages (from python-slugify->kaggle) (1.3)\n",
            "\u001b[33mWARNING: You are using pip version 20.2.2; however, version 21.0.1 is available.\n",
            "You should consider upgrading via the '/Users/haley/anaconda3/bin/python -m pip install --upgrade pip' command.\u001b[0m\n"
          ],
          "name": "stdout"
        }
      ]
    },
    {
      "cell_type": "code",
      "metadata": {
        "id": "tOzX4oeGY0zt"
      },
      "source": [
        "import json\n",
        "token = {\"username\":\"\",\"key\":\"\"}\n",
        "with open('/Users/haley/Desktop/258_HW/.kaggle/kaggle.json', 'w') as file:\n",
        "    json.dump(token, file)"
      ],
      "execution_count": null,
      "outputs": []
    },
    {
      "cell_type": "code",
      "metadata": {
        "colab": {
          "base_uri": "https://localhost:8080/"
        },
        "id": "f1oZ0J7QY2xY",
        "outputId": "947c93cb-2595-479a-f04c-a1f38090fd2c"
      },
      "source": [
        "!cp /Users/haley/Desktop/258_HW/.kaggle/kaggle.json ~/.kaggle/kaggle.json\n",
        "!kaggle config set -n path -v{/Users/haley/Desktop/258_HW}"
      ],
      "execution_count": null,
      "outputs": [
        {
          "output_type": "stream",
          "text": [
            "Warning: Your Kaggle API key is readable by other users on this system! To fix this, you can run 'chmod 600 /Users/haley/.kaggle/kaggle.json'\n",
            "- path is now set to: {/Users/haley/Desktop/258_HW}\n"
          ],
          "name": "stdout"
        }
      ]
    },
    {
      "cell_type": "code",
      "metadata": {
        "id": "v_C3TKYDY7Q5"
      },
      "source": [
        "!chmod 600 /Users/haley/.kaggle/kaggle.json"
      ],
      "execution_count": null,
      "outputs": []
    },
    {
      "cell_type": "code",
      "metadata": {
        "colab": {
          "base_uri": "https://localhost:8080/"
        },
        "id": "-hfOPT2NZB_h",
        "outputId": "0f04cd0a-69d1-4203-d66c-e07a95ef73df"
      },
      "source": [
        "!kaggle competitions download -c new-york-city-taxi-fare-prediction -p /Users/haley"
      ],
      "execution_count": null,
      "outputs": [
        {
          "output_type": "stream",
          "text": [
            "Downloading new-york-city-taxi-fare-prediction.zip to /Users/haley\n",
            "100%|█████████████████████████████████████▉| 1.56G/1.56G [01:03<00:00, 28.6MB/s]\n",
            "100%|██████████████████████████████████████| 1.56G/1.56G [01:03<00:00, 26.5MB/s]\n"
          ],
          "name": "stdout"
        }
      ]
    },
    {
      "cell_type": "markdown",
      "metadata": {
        "id": "ZjZ5G7oNY9Rr"
      },
      "source": [
        "# Data Cleaning/Preprocessing"
      ]
    },
    {
      "cell_type": "code",
      "metadata": {
        "id": "_RLFIXYfZqge",
        "outputId": "35407b77-8127-446c-b01a-56ff83710cdf"
      },
      "source": [
        "df = pd.read_csv('new-york-city-taxi-fare-prediction/train.csv')\n",
        "df.shape"
      ],
      "execution_count": null,
      "outputs": [
        {
          "output_type": "execute_result",
          "data": {
            "text/plain": [
              "(55423856, 8)"
            ]
          },
          "metadata": {
            "tags": []
          },
          "execution_count": 13
        }
      ]
    },
    {
      "cell_type": "code",
      "metadata": {
        "id": "LPuI1JCB7Q5E"
      },
      "source": [
        "df_sample = df.sample(25000) # Only use 25k data from the NYC Taxi Dataset"
      ],
      "execution_count": null,
      "outputs": []
    },
    {
      "cell_type": "code",
      "metadata": {
        "id": "aWSfJ3dA7Q5E"
      },
      "source": [
        "df_sample.to_csv(\"NYC_data.csv\") # Save sample data for other notebooks"
      ],
      "execution_count": null,
      "outputs": []
    },
    {
      "cell_type": "code",
      "metadata": {
        "scrolled": true,
        "id": "HUryQNIj7Q5F",
        "outputId": "568bd7c1-4f55-4a66-a9e0-6e7f5ead4df2"
      },
      "source": [
        "df_sample"
      ],
      "execution_count": null,
      "outputs": [
        {
          "output_type": "execute_result",
          "data": {
            "text/html": [
              "<div>\n",
              "<style scoped>\n",
              "    .dataframe tbody tr th:only-of-type {\n",
              "        vertical-align: middle;\n",
              "    }\n",
              "\n",
              "    .dataframe tbody tr th {\n",
              "        vertical-align: top;\n",
              "    }\n",
              "\n",
              "    .dataframe thead th {\n",
              "        text-align: right;\n",
              "    }\n",
              "</style>\n",
              "<table border=\"1\" class=\"dataframe\">\n",
              "  <thead>\n",
              "    <tr style=\"text-align: right;\">\n",
              "      <th></th>\n",
              "      <th>key</th>\n",
              "      <th>fare_amount</th>\n",
              "      <th>pickup_datetime</th>\n",
              "      <th>pickup_longitude</th>\n",
              "      <th>pickup_latitude</th>\n",
              "      <th>dropoff_longitude</th>\n",
              "      <th>dropoff_latitude</th>\n",
              "      <th>passenger_count</th>\n",
              "    </tr>\n",
              "  </thead>\n",
              "  <tbody>\n",
              "    <tr>\n",
              "      <th>6918581</th>\n",
              "      <td>2012-04-20 18:20:00.00000043</td>\n",
              "      <td>9.70</td>\n",
              "      <td>2012-04-20 18:20:00 UTC</td>\n",
              "      <td>-73.957867</td>\n",
              "      <td>40.765155</td>\n",
              "      <td>-73.984122</td>\n",
              "      <td>40.759095</td>\n",
              "      <td>4</td>\n",
              "    </tr>\n",
              "    <tr>\n",
              "      <th>6135694</th>\n",
              "      <td>2009-12-19 15:43:21.0000003</td>\n",
              "      <td>4.10</td>\n",
              "      <td>2009-12-19 15:43:21 UTC</td>\n",
              "      <td>-73.954563</td>\n",
              "      <td>40.780773</td>\n",
              "      <td>-73.961841</td>\n",
              "      <td>40.779553</td>\n",
              "      <td>1</td>\n",
              "    </tr>\n",
              "    <tr>\n",
              "      <th>38328861</th>\n",
              "      <td>2014-08-17 08:24:36.0000001</td>\n",
              "      <td>6.00</td>\n",
              "      <td>2014-08-17 08:24:36 UTC</td>\n",
              "      <td>-73.992020</td>\n",
              "      <td>40.748710</td>\n",
              "      <td>-74.001072</td>\n",
              "      <td>40.755467</td>\n",
              "      <td>2</td>\n",
              "    </tr>\n",
              "    <tr>\n",
              "      <th>28356410</th>\n",
              "      <td>2011-01-01 13:48:15.0000001</td>\n",
              "      <td>7.30</td>\n",
              "      <td>2011-01-01 13:48:15 UTC</td>\n",
              "      <td>-73.973956</td>\n",
              "      <td>40.743322</td>\n",
              "      <td>-73.990257</td>\n",
              "      <td>40.756541</td>\n",
              "      <td>1</td>\n",
              "    </tr>\n",
              "    <tr>\n",
              "      <th>8634320</th>\n",
              "      <td>2009-12-15 22:33:21.0000003</td>\n",
              "      <td>6.90</td>\n",
              "      <td>2009-12-15 22:33:21 UTC</td>\n",
              "      <td>-73.979009</td>\n",
              "      <td>40.761543</td>\n",
              "      <td>-73.996857</td>\n",
              "      <td>40.742475</td>\n",
              "      <td>1</td>\n",
              "    </tr>\n",
              "    <tr>\n",
              "      <th>...</th>\n",
              "      <td>...</td>\n",
              "      <td>...</td>\n",
              "      <td>...</td>\n",
              "      <td>...</td>\n",
              "      <td>...</td>\n",
              "      <td>...</td>\n",
              "      <td>...</td>\n",
              "      <td>...</td>\n",
              "    </tr>\n",
              "    <tr>\n",
              "      <th>46069258</th>\n",
              "      <td>2014-04-02 20:15:05.0000007</td>\n",
              "      <td>21.00</td>\n",
              "      <td>2014-04-02 20:15:05 UTC</td>\n",
              "      <td>0.000000</td>\n",
              "      <td>0.000000</td>\n",
              "      <td>-73.967152</td>\n",
              "      <td>40.608312</td>\n",
              "      <td>1</td>\n",
              "    </tr>\n",
              "    <tr>\n",
              "      <th>30358263</th>\n",
              "      <td>2010-06-03 13:18:10.0000002</td>\n",
              "      <td>11.70</td>\n",
              "      <td>2010-06-03 13:18:10 UTC</td>\n",
              "      <td>-74.005335</td>\n",
              "      <td>40.707280</td>\n",
              "      <td>-74.003799</td>\n",
              "      <td>40.748153</td>\n",
              "      <td>1</td>\n",
              "    </tr>\n",
              "    <tr>\n",
              "      <th>7321525</th>\n",
              "      <td>2013-07-02 23:58:00.00000039</td>\n",
              "      <td>5.50</td>\n",
              "      <td>2013-07-02 23:58:00 UTC</td>\n",
              "      <td>-73.982965</td>\n",
              "      <td>40.739532</td>\n",
              "      <td>-73.970382</td>\n",
              "      <td>40.756327</td>\n",
              "      <td>5</td>\n",
              "    </tr>\n",
              "    <tr>\n",
              "      <th>17786812</th>\n",
              "      <td>2010-04-01 14:55:11.0000002</td>\n",
              "      <td>27.87</td>\n",
              "      <td>2010-04-01 14:55:11 UTC</td>\n",
              "      <td>-73.863547</td>\n",
              "      <td>40.769549</td>\n",
              "      <td>-73.967525</td>\n",
              "      <td>40.805443</td>\n",
              "      <td>2</td>\n",
              "    </tr>\n",
              "    <tr>\n",
              "      <th>8424025</th>\n",
              "      <td>2012-09-18 09:58:29.0000001</td>\n",
              "      <td>5.00</td>\n",
              "      <td>2012-09-18 09:58:29 UTC</td>\n",
              "      <td>-73.954195</td>\n",
              "      <td>40.821545</td>\n",
              "      <td>-73.961574</td>\n",
              "      <td>40.812998</td>\n",
              "      <td>1</td>\n",
              "    </tr>\n",
              "  </tbody>\n",
              "</table>\n",
              "<p>25000 rows × 8 columns</p>\n",
              "</div>"
            ],
            "text/plain": [
              "                                   key  fare_amount          pickup_datetime  \\\n",
              "6918581   2012-04-20 18:20:00.00000043         9.70  2012-04-20 18:20:00 UTC   \n",
              "6135694    2009-12-19 15:43:21.0000003         4.10  2009-12-19 15:43:21 UTC   \n",
              "38328861   2014-08-17 08:24:36.0000001         6.00  2014-08-17 08:24:36 UTC   \n",
              "28356410   2011-01-01 13:48:15.0000001         7.30  2011-01-01 13:48:15 UTC   \n",
              "8634320    2009-12-15 22:33:21.0000003         6.90  2009-12-15 22:33:21 UTC   \n",
              "...                                ...          ...                      ...   \n",
              "46069258   2014-04-02 20:15:05.0000007        21.00  2014-04-02 20:15:05 UTC   \n",
              "30358263   2010-06-03 13:18:10.0000002        11.70  2010-06-03 13:18:10 UTC   \n",
              "7321525   2013-07-02 23:58:00.00000039         5.50  2013-07-02 23:58:00 UTC   \n",
              "17786812   2010-04-01 14:55:11.0000002        27.87  2010-04-01 14:55:11 UTC   \n",
              "8424025    2012-09-18 09:58:29.0000001         5.00  2012-09-18 09:58:29 UTC   \n",
              "\n",
              "          pickup_longitude  pickup_latitude  dropoff_longitude  \\\n",
              "6918581         -73.957867        40.765155         -73.984122   \n",
              "6135694         -73.954563        40.780773         -73.961841   \n",
              "38328861        -73.992020        40.748710         -74.001072   \n",
              "28356410        -73.973956        40.743322         -73.990257   \n",
              "8634320         -73.979009        40.761543         -73.996857   \n",
              "...                    ...              ...                ...   \n",
              "46069258          0.000000         0.000000         -73.967152   \n",
              "30358263        -74.005335        40.707280         -74.003799   \n",
              "7321525         -73.982965        40.739532         -73.970382   \n",
              "17786812        -73.863547        40.769549         -73.967525   \n",
              "8424025         -73.954195        40.821545         -73.961574   \n",
              "\n",
              "          dropoff_latitude  passenger_count  \n",
              "6918581          40.759095                4  \n",
              "6135694          40.779553                1  \n",
              "38328861         40.755467                2  \n",
              "28356410         40.756541                1  \n",
              "8634320          40.742475                1  \n",
              "...                    ...              ...  \n",
              "46069258         40.608312                1  \n",
              "30358263         40.748153                1  \n",
              "7321525          40.756327                5  \n",
              "17786812         40.805443                2  \n",
              "8424025          40.812998                1  \n",
              "\n",
              "[25000 rows x 8 columns]"
            ]
          },
          "metadata": {
            "tags": []
          },
          "execution_count": 99
        }
      ]
    },
    {
      "cell_type": "markdown",
      "metadata": {
        "id": "5QtrpusPFisq"
      },
      "source": [
        "# Pre Processing"
      ]
    },
    {
      "cell_type": "code",
      "metadata": {
        "id": "00F4G6sK7Q5F"
      },
      "source": [
        "df_sample = df_sample.dropna()\n",
        "df_sample = df_sample.drop_duplicates()"
      ],
      "execution_count": null,
      "outputs": []
    },
    {
      "cell_type": "code",
      "metadata": {
        "scrolled": false,
        "id": "gZuu1yIb7Q5F",
        "outputId": "5c3d088a-6b25-441f-b0b8-415b5a077f79"
      },
      "source": [
        "df_sample.describe()"
      ],
      "execution_count": null,
      "outputs": [
        {
          "output_type": "execute_result",
          "data": {
            "text/html": [
              "<div>\n",
              "<style scoped>\n",
              "    .dataframe tbody tr th:only-of-type {\n",
              "        vertical-align: middle;\n",
              "    }\n",
              "\n",
              "    .dataframe tbody tr th {\n",
              "        vertical-align: top;\n",
              "    }\n",
              "\n",
              "    .dataframe thead th {\n",
              "        text-align: right;\n",
              "    }\n",
              "</style>\n",
              "<table border=\"1\" class=\"dataframe\">\n",
              "  <thead>\n",
              "    <tr style=\"text-align: right;\">\n",
              "      <th></th>\n",
              "      <th>fare_amount</th>\n",
              "      <th>pickup_longitude</th>\n",
              "      <th>pickup_latitude</th>\n",
              "      <th>dropoff_longitude</th>\n",
              "      <th>dropoff_latitude</th>\n",
              "      <th>passenger_count</th>\n",
              "    </tr>\n",
              "  </thead>\n",
              "  <tbody>\n",
              "    <tr>\n",
              "      <th>count</th>\n",
              "      <td>25000.000000</td>\n",
              "      <td>25000.000000</td>\n",
              "      <td>25000.000000</td>\n",
              "      <td>25000.000000</td>\n",
              "      <td>25000.000000</td>\n",
              "      <td>25000.000000</td>\n",
              "    </tr>\n",
              "    <tr>\n",
              "      <th>mean</th>\n",
              "      <td>11.230264</td>\n",
              "      <td>-72.498820</td>\n",
              "      <td>39.953620</td>\n",
              "      <td>-72.456549</td>\n",
              "      <td>39.911780</td>\n",
              "      <td>1.676000</td>\n",
              "    </tr>\n",
              "    <tr>\n",
              "      <th>std</th>\n",
              "      <td>9.481905</td>\n",
              "      <td>10.443341</td>\n",
              "      <td>7.071689</td>\n",
              "      <td>10.585145</td>\n",
              "      <td>6.566459</td>\n",
              "      <td>1.304198</td>\n",
              "    </tr>\n",
              "    <tr>\n",
              "      <th>min</th>\n",
              "      <td>0.000000</td>\n",
              "      <td>-74.689831</td>\n",
              "      <td>-74.000353</td>\n",
              "      <td>-74.689831</td>\n",
              "      <td>-74.001537</td>\n",
              "      <td>0.000000</td>\n",
              "    </tr>\n",
              "    <tr>\n",
              "      <th>25%</th>\n",
              "      <td>6.000000</td>\n",
              "      <td>-73.991920</td>\n",
              "      <td>40.735795</td>\n",
              "      <td>-73.991259</td>\n",
              "      <td>40.734021</td>\n",
              "      <td>1.000000</td>\n",
              "    </tr>\n",
              "    <tr>\n",
              "      <th>50%</th>\n",
              "      <td>8.500000</td>\n",
              "      <td>-73.981830</td>\n",
              "      <td>40.752976</td>\n",
              "      <td>-73.980136</td>\n",
              "      <td>40.753132</td>\n",
              "      <td>1.000000</td>\n",
              "    </tr>\n",
              "    <tr>\n",
              "      <th>75%</th>\n",
              "      <td>12.500000</td>\n",
              "      <td>-73.967197</td>\n",
              "      <td>40.767344</td>\n",
              "      <td>-73.963265</td>\n",
              "      <td>40.768369</td>\n",
              "      <td>2.000000</td>\n",
              "    </tr>\n",
              "    <tr>\n",
              "      <th>max</th>\n",
              "      <td>300.000000</td>\n",
              "      <td>40.769807</td>\n",
              "      <td>482.500000</td>\n",
              "      <td>40.774482</td>\n",
              "      <td>404.216667</td>\n",
              "      <td>6.000000</td>\n",
              "    </tr>\n",
              "  </tbody>\n",
              "</table>\n",
              "</div>"
            ],
            "text/plain": [
              "        fare_amount  pickup_longitude  pickup_latitude  dropoff_longitude  \\\n",
              "count  25000.000000      25000.000000     25000.000000       25000.000000   \n",
              "mean      11.230264        -72.498820        39.953620         -72.456549   \n",
              "std        9.481905         10.443341         7.071689          10.585145   \n",
              "min        0.000000        -74.689831       -74.000353         -74.689831   \n",
              "25%        6.000000        -73.991920        40.735795         -73.991259   \n",
              "50%        8.500000        -73.981830        40.752976         -73.980136   \n",
              "75%       12.500000        -73.967197        40.767344         -73.963265   \n",
              "max      300.000000         40.769807       482.500000          40.774482   \n",
              "\n",
              "       dropoff_latitude  passenger_count  \n",
              "count      25000.000000     25000.000000  \n",
              "mean          39.911780         1.676000  \n",
              "std            6.566459         1.304198  \n",
              "min          -74.001537         0.000000  \n",
              "25%           40.734021         1.000000  \n",
              "50%           40.753132         1.000000  \n",
              "75%           40.768369         2.000000  \n",
              "max          404.216667         6.000000  "
            ]
          },
          "metadata": {
            "tags": []
          },
          "execution_count": 101
        }
      ]
    },
    {
      "cell_type": "markdown",
      "metadata": {
        "id": "VOktS62J7Q5F"
      },
      "source": [
        "# Feature Engineering"
      ]
    },
    {
      "cell_type": "code",
      "metadata": {
        "id": "Vq4NIZnq7Q5G"
      },
      "source": [
        "def prepare_time_features(df):\n",
        "    df['pickup_datetime'] = df['pickup_datetime'].str.slice(0, 16)\n",
        "    df['pickup_datetime'] = pd.to_datetime(df['pickup_datetime'], utc=True, format='%Y-%m-%d %H:%M')\n",
        "    df['hour_of_day'] = df.pickup_datetime.dt.hour\n",
        "    df['month'] = df.pickup_datetime.dt.month\n",
        "    df[\"year\"] = df.pickup_datetime.dt.year\n",
        "    df[\"weekday\"] = df.pickup_datetime.dt.weekday\n",
        "    return df"
      ],
      "execution_count": null,
      "outputs": []
    },
    {
      "cell_type": "code",
      "metadata": {
        "id": "QadDC3R27Q5G"
      },
      "source": [
        "def distance(lat1, lon1, lat2, lon2):\n",
        "    p = 0.017453292519943295 # Pi/180\n",
        "    a = 0.5 - np.cos((lat2 - lat1) * p)/2 + np.cos(lat1 * p) * np.cos(lat2 * p) * (1 - np.cos((lon2 - lon1) * p)) / 2\n",
        "    return 0.6213712 * 12742 * np.arcsin(np.sqrt(a))"
      ],
      "execution_count": null,
      "outputs": []
    },
    {
      "cell_type": "code",
      "metadata": {
        "id": "xq1C6RIY7Q5G"
      },
      "source": [
        "def transform(data):\n",
        "    # Distances to nearby airports, \n",
        "    jfk = (-73.7781, 40.6413)\n",
        "    ewr = (-74.1745, 40.6895)\n",
        "    lgr = (-73.8740, 40.7769)\n",
        "\n",
        "    data['pickup_distance_to_jfk'] = distance(jfk[1], jfk[0],\n",
        "                                         data['pickup_latitude'], data['pickup_longitude'])\n",
        "    data['dropoff_distance_to_jfk'] = distance(jfk[1], jfk[0],\n",
        "                                           data['dropoff_latitude'], data['dropoff_longitude'])\n",
        "    data['pickup_distance_to_ewr'] = distance(ewr[1], ewr[0], \n",
        "                                          data['pickup_latitude'], data['pickup_longitude'])\n",
        "    data['dropoff_distance_to_ewr'] = distance(ewr[1], ewr[0],\n",
        "                                           data['dropoff_latitude'], data['dropoff_longitude'])\n",
        "    data['pickup_distance_to_lgr'] = distance(lgr[1], lgr[0],\n",
        "                                          data['pickup_latitude'], data['pickup_longitude'])\n",
        "    data['dropoff_distance_to_lgr'] = distance(lgr[1], lgr[0],\n",
        "                                           data['dropoff_latitude'], data['dropoff_longitude'])\n",
        "    \n",
        "    return data"
      ],
      "execution_count": null,
      "outputs": []
    },
    {
      "cell_type": "code",
      "metadata": {
        "id": "5gdzMoKE7Q5G"
      },
      "source": [
        "df_sample = prepare_time_features(df_sample)\n",
        "df_sample['distance_miles'] = distance(df_sample.pickup_latitude, df_sample.pickup_longitude,df_sample.dropoff_latitude, df_sample.dropoff_longitude)"
      ],
      "execution_count": null,
      "outputs": []
    },
    {
      "cell_type": "code",
      "metadata": {
        "scrolled": true,
        "id": "l2yDA42j7Q5H",
        "colab": {
          "base_uri": "https://localhost:8080/",
          "height": 241
        },
        "outputId": "30fadaf9-910f-48f3-f613-479d3c5dd640"
      },
      "source": [
        "df_sample = transform(df_sample)\n",
        "df_train = df_sample.drop(columns=['key','pickup_datetime'])\n",
        "df_train.head()"
      ],
      "execution_count": null,
      "outputs": [
        {
          "output_type": "execute_result",
          "data": {
            "text/html": [
              "<div>\n",
              "<style scoped>\n",
              "    .dataframe tbody tr th:only-of-type {\n",
              "        vertical-align: middle;\n",
              "    }\n",
              "\n",
              "    .dataframe tbody tr th {\n",
              "        vertical-align: top;\n",
              "    }\n",
              "\n",
              "    .dataframe thead th {\n",
              "        text-align: right;\n",
              "    }\n",
              "</style>\n",
              "<table border=\"1\" class=\"dataframe\">\n",
              "  <thead>\n",
              "    <tr style=\"text-align: right;\">\n",
              "      <th></th>\n",
              "      <th>Unnamed: 0</th>\n",
              "      <th>fare_amount</th>\n",
              "      <th>pickup_longitude</th>\n",
              "      <th>pickup_latitude</th>\n",
              "      <th>dropoff_longitude</th>\n",
              "      <th>dropoff_latitude</th>\n",
              "      <th>passenger_count</th>\n",
              "      <th>hour_of_day</th>\n",
              "      <th>month</th>\n",
              "      <th>year</th>\n",
              "      <th>weekday</th>\n",
              "      <th>distance_miles</th>\n",
              "      <th>pickup_distance_to_jfk</th>\n",
              "      <th>dropoff_distance_to_jfk</th>\n",
              "      <th>pickup_distance_to_ewr</th>\n",
              "      <th>dropoff_distance_to_ewr</th>\n",
              "      <th>pickup_distance_to_lgr</th>\n",
              "      <th>dropoff_distance_to_lgr</th>\n",
              "    </tr>\n",
              "  </thead>\n",
              "  <tbody>\n",
              "    <tr>\n",
              "      <th>0</th>\n",
              "      <td>6918581</td>\n",
              "      <td>9.7</td>\n",
              "      <td>-73.957867</td>\n",
              "      <td>40.765155</td>\n",
              "      <td>-73.984122</td>\n",
              "      <td>40.759095</td>\n",
              "      <td>4</td>\n",
              "      <td>18</td>\n",
              "      <td>4</td>\n",
              "      <td>2012</td>\n",
              "      <td>4</td>\n",
              "      <td>1.436387</td>\n",
              "      <td>12.723780</td>\n",
              "      <td>13.516804</td>\n",
              "      <td>12.489521</td>\n",
              "      <td>11.067880</td>\n",
              "      <td>4.462835</td>\n",
              "      <td>5.892372</td>\n",
              "    </tr>\n",
              "    <tr>\n",
              "      <th>1</th>\n",
              "      <td>6135694</td>\n",
              "      <td>4.1</td>\n",
              "      <td>-73.954563</td>\n",
              "      <td>40.780773</td>\n",
              "      <td>-73.961841</td>\n",
              "      <td>40.779553</td>\n",
              "      <td>1</td>\n",
              "      <td>15</td>\n",
              "      <td>12</td>\n",
              "      <td>2009</td>\n",
              "      <td>5</td>\n",
              "      <td>0.389996</td>\n",
              "      <td>13.352104</td>\n",
              "      <td>13.559267</td>\n",
              "      <td>13.128499</td>\n",
              "      <td>12.754368</td>\n",
              "      <td>4.223540</td>\n",
              "      <td>4.599535</td>\n",
              "    </tr>\n",
              "    <tr>\n",
              "      <th>2</th>\n",
              "      <td>38328861</td>\n",
              "      <td>6.0</td>\n",
              "      <td>-73.992020</td>\n",
              "      <td>40.748710</td>\n",
              "      <td>-74.001072</td>\n",
              "      <td>40.755467</td>\n",
              "      <td>2</td>\n",
              "      <td>8</td>\n",
              "      <td>8</td>\n",
              "      <td>2014</td>\n",
              "      <td>6</td>\n",
              "      <td>0.665161</td>\n",
              "      <td>13.440951</td>\n",
              "      <td>14.094173</td>\n",
              "      <td>10.394813</td>\n",
              "      <td>10.161043</td>\n",
              "      <td>6.476132</td>\n",
              "      <td>6.812570</td>\n",
              "    </tr>\n",
              "    <tr>\n",
              "      <th>3</th>\n",
              "      <td>28356410</td>\n",
              "      <td>7.3</td>\n",
              "      <td>-73.973956</td>\n",
              "      <td>40.743322</td>\n",
              "      <td>-73.990257</td>\n",
              "      <td>40.756541</td>\n",
              "      <td>1</td>\n",
              "      <td>13</td>\n",
              "      <td>1</td>\n",
              "      <td>2011</td>\n",
              "      <td>5</td>\n",
              "      <td>1.249886</td>\n",
              "      <td>12.448576</td>\n",
              "      <td>13.671388</td>\n",
              "      <td>11.141253</td>\n",
              "      <td>10.702055</td>\n",
              "      <td>5.722552</td>\n",
              "      <td>6.244181</td>\n",
              "    </tr>\n",
              "    <tr>\n",
              "      <th>4</th>\n",
              "      <td>8634320</td>\n",
              "      <td>6.9</td>\n",
              "      <td>-73.979009</td>\n",
              "      <td>40.761543</td>\n",
              "      <td>-73.996857</td>\n",
              "      <td>40.742475</td>\n",
              "      <td>1</td>\n",
              "      <td>22</td>\n",
              "      <td>12</td>\n",
              "      <td>2009</td>\n",
              "      <td>1</td>\n",
              "      <td>1.615064</td>\n",
              "      <td>13.407936</td>\n",
              "      <td>13.424094</td>\n",
              "      <td>11.382396</td>\n",
              "      <td>9.997209</td>\n",
              "      <td>5.596372</td>\n",
              "      <td>6.855570</td>\n",
              "    </tr>\n",
              "  </tbody>\n",
              "</table>\n",
              "</div>"
            ],
            "text/plain": [
              "   Unnamed: 0  fare_amount  ...  pickup_distance_to_lgr  dropoff_distance_to_lgr\n",
              "0     6918581          9.7  ...                4.462835                 5.892372\n",
              "1     6135694          4.1  ...                4.223540                 4.599535\n",
              "2    38328861          6.0  ...                6.476132                 6.812570\n",
              "3    28356410          7.3  ...                5.722552                 6.244181\n",
              "4     8634320          6.9  ...                5.596372                 6.855570\n",
              "\n",
              "[5 rows x 18 columns]"
            ]
          },
          "metadata": {
            "tags": []
          },
          "execution_count": 10
        }
      ]
    },
    {
      "cell_type": "code",
      "metadata": {
        "id": "eDsjnwF07Q5H",
        "colab": {
          "base_uri": "https://localhost:8080/"
        },
        "outputId": "ef1e43f4-aa00-4586-cb42-a0d3de1dbc9f"
      },
      "source": [
        "from sklearn.model_selection import train_test_split \n",
        "X_train, X_test, y_train, y_test = train_test_split(df_train.drop('fare_amount', axis=1),\n",
        "                                                    df_train['fare_amount'], test_size=0.3, random_state = 42)\n",
        "print(X_train.shape)\n",
        "print(y_train.shape)\n",
        "print(X_test.shape)\n",
        "print(y_test.shape)"
      ],
      "execution_count": null,
      "outputs": [
        {
          "output_type": "stream",
          "text": [
            "(17500, 17)\n",
            "(17500,)\n",
            "(7500, 17)\n",
            "(7500,)\n"
          ],
          "name": "stdout"
        }
      ]
    },
    {
      "cell_type": "markdown",
      "metadata": {
        "id": "j9fzQ2k3ZMWF"
      },
      "source": [
        "# XGBoost Model"
      ]
    },
    {
      "cell_type": "markdown",
      "metadata": {
        "id": "x1mqeuVyF3pX"
      },
      "source": [
        "## Param Setup"
      ]
    },
    {
      "cell_type": "code",
      "metadata": {
        "id": "RHYDBr3rZcq6",
        "scrolled": true
      },
      "source": [
        "import xgboost as xgb\n",
        "params = {\n",
        "    'max_depth': 8,\n",
        "    'gamma' :0,\n",
        "    'eta':.05, \n",
        "    'subsample': 1,\n",
        "    'colsample_bytree': 0.9, \n",
        "    'objective':'reg:linear',\n",
        "    'eval_metric':'rmse',\n",
        "    'silent': 0\n",
        "}"
      ],
      "execution_count": null,
      "outputs": []
    },
    {
      "cell_type": "markdown",
      "metadata": {
        "id": "kJbP5dopF0Sb"
      },
      "source": [
        "## Model and Training"
      ]
    },
    {
      "cell_type": "code",
      "metadata": {
        "id": "2OuORcKdX6j7",
        "colab": {
          "base_uri": "https://localhost:8080/"
        },
        "outputId": "a57784a7-07c9-4c35-95b6-ed25d02f8482"
      },
      "source": [
        "def XGBmodel(X_train,X_test,y_train,y_test,params):\n",
        "    matrix_train = xgb.DMatrix(X_train,label=y_train)\n",
        "    matrix_test = xgb.DMatrix(X_test,label=y_test)\n",
        "    model=xgb.train(params=params,\n",
        "                    dtrain=matrix_train,num_boost_round=5000, \n",
        "                    early_stopping_rounds=10,evals=[(matrix_train, 'train'),(matrix_test,'test')])\n",
        "    return model\n",
        "model = XGBmodel(X_train,X_test,y_train,y_test,params)"
      ],
      "execution_count": null,
      "outputs": [
        {
          "output_type": "stream",
          "text": [
            "[02:25:06] WARNING: /workspace/src/objective/regression_obj.cu:152: reg:linear is now deprecated in favor of reg:squarederror.\n",
            "[0]\ttrain-rmse:13.7565\ttest-rmse:13.4699\n",
            "Multiple eval metrics have been passed: 'test-rmse' will be used for early stopping.\n",
            "\n",
            "Will train until test-rmse hasn't improved in 10 rounds.\n",
            "[1]\ttrain-rmse:13.143\ttest-rmse:12.8597\n",
            "[2]\ttrain-rmse:12.5592\ttest-rmse:12.2869\n",
            "[3]\ttrain-rmse:12.0345\ttest-rmse:11.7714\n",
            "[4]\ttrain-rmse:11.5085\ttest-rmse:11.251\n",
            "[5]\ttrain-rmse:11.0114\ttest-rmse:10.7601\n",
            "[6]\ttrain-rmse:10.5403\ttest-rmse:10.2984\n",
            "[7]\ttrain-rmse:10.0956\ttest-rmse:9.86193\n",
            "[8]\ttrain-rmse:9.67346\ttest-rmse:9.45222\n",
            "[9]\ttrain-rmse:9.27329\ttest-rmse:9.06563\n",
            "[10]\ttrain-rmse:8.89625\ttest-rmse:8.70027\n",
            "[11]\ttrain-rmse:8.53966\ttest-rmse:8.35654\n",
            "[12]\ttrain-rmse:8.20253\ttest-rmse:8.03827\n",
            "[13]\ttrain-rmse:7.88486\ttest-rmse:7.73461\n",
            "[14]\ttrain-rmse:7.60156\ttest-rmse:7.46295\n",
            "[15]\ttrain-rmse:7.31514\ttest-rmse:7.19613\n",
            "[16]\ttrain-rmse:7.0461\ttest-rmse:6.945\n",
            "[17]\ttrain-rmse:6.79351\ttest-rmse:6.70893\n",
            "[18]\ttrain-rmse:6.55222\ttest-rmse:6.48964\n",
            "[19]\ttrain-rmse:6.32825\ttest-rmse:6.28392\n",
            "[20]\ttrain-rmse:6.11783\ttest-rmse:6.09121\n",
            "[21]\ttrain-rmse:5.91973\ttest-rmse:5.9139\n",
            "[22]\ttrain-rmse:5.73214\ttest-rmse:5.74733\n",
            "[23]\ttrain-rmse:5.56659\ttest-rmse:5.59882\n",
            "[24]\ttrain-rmse:5.39753\ttest-rmse:5.45306\n",
            "[25]\ttrain-rmse:5.25203\ttest-rmse:5.32228\n",
            "[26]\ttrain-rmse:5.09774\ttest-rmse:5.2003\n",
            "[27]\ttrain-rmse:4.95696\ttest-rmse:5.08442\n",
            "[28]\ttrain-rmse:4.82488\ttest-rmse:4.97821\n",
            "[29]\ttrain-rmse:4.6992\ttest-rmse:4.87969\n",
            "[30]\ttrain-rmse:4.58084\ttest-rmse:4.79089\n",
            "[31]\ttrain-rmse:4.48187\ttest-rmse:4.70925\n",
            "[32]\ttrain-rmse:4.37807\ttest-rmse:4.63065\n",
            "[33]\ttrain-rmse:4.28294\ttest-rmse:4.56005\n",
            "[34]\ttrain-rmse:4.19076\ttest-rmse:4.49457\n",
            "[35]\ttrain-rmse:4.10346\ttest-rmse:4.43773\n",
            "[36]\ttrain-rmse:4.02061\ttest-rmse:4.383\n",
            "[37]\ttrain-rmse:3.9479\ttest-rmse:4.333\n",
            "[38]\ttrain-rmse:3.87455\ttest-rmse:4.28622\n",
            "[39]\ttrain-rmse:3.8134\ttest-rmse:4.24424\n",
            "[40]\ttrain-rmse:3.75025\ttest-rmse:4.20416\n",
            "[41]\ttrain-rmse:3.68832\ttest-rmse:4.16645\n",
            "[42]\ttrain-rmse:3.63096\ttest-rmse:4.13374\n",
            "[43]\ttrain-rmse:3.5771\ttest-rmse:4.1013\n",
            "[44]\ttrain-rmse:3.525\ttest-rmse:4.07759\n",
            "[45]\ttrain-rmse:3.47672\ttest-rmse:4.05617\n",
            "[46]\ttrain-rmse:3.43248\ttest-rmse:4.03571\n",
            "[47]\ttrain-rmse:3.39382\ttest-rmse:4.01588\n",
            "[48]\ttrain-rmse:3.35393\ttest-rmse:3.99793\n",
            "[49]\ttrain-rmse:3.31792\ttest-rmse:3.97924\n",
            "[50]\ttrain-rmse:3.28287\ttest-rmse:3.96408\n",
            "[51]\ttrain-rmse:3.25193\ttest-rmse:3.94997\n",
            "[52]\ttrain-rmse:3.22236\ttest-rmse:3.93768\n",
            "[53]\ttrain-rmse:3.19235\ttest-rmse:3.92504\n",
            "[54]\ttrain-rmse:3.16598\ttest-rmse:3.91492\n",
            "[55]\ttrain-rmse:3.13872\ttest-rmse:3.90451\n",
            "[56]\ttrain-rmse:3.11439\ttest-rmse:3.89394\n",
            "[57]\ttrain-rmse:3.0897\ttest-rmse:3.8868\n",
            "[58]\ttrain-rmse:3.06242\ttest-rmse:3.87924\n",
            "[59]\ttrain-rmse:3.03752\ttest-rmse:3.87451\n",
            "[60]\ttrain-rmse:3.01568\ttest-rmse:3.86845\n",
            "[61]\ttrain-rmse:2.9954\ttest-rmse:3.86137\n",
            "[62]\ttrain-rmse:2.97742\ttest-rmse:3.85499\n",
            "[63]\ttrain-rmse:2.9609\ttest-rmse:3.84969\n",
            "[64]\ttrain-rmse:2.94485\ttest-rmse:3.84639\n",
            "[65]\ttrain-rmse:2.9264\ttest-rmse:3.84267\n",
            "[66]\ttrain-rmse:2.91186\ttest-rmse:3.83831\n",
            "[67]\ttrain-rmse:2.89737\ttest-rmse:3.83718\n",
            "[68]\ttrain-rmse:2.88234\ttest-rmse:3.83514\n",
            "[69]\ttrain-rmse:2.87006\ttest-rmse:3.83242\n",
            "[70]\ttrain-rmse:2.85438\ttest-rmse:3.82894\n",
            "[71]\ttrain-rmse:2.83961\ttest-rmse:3.82795\n",
            "[72]\ttrain-rmse:2.82364\ttest-rmse:3.82796\n",
            "[73]\ttrain-rmse:2.81122\ttest-rmse:3.8266\n",
            "[74]\ttrain-rmse:2.7951\ttest-rmse:3.82507\n",
            "[75]\ttrain-rmse:2.7797\ttest-rmse:3.82228\n",
            "[76]\ttrain-rmse:2.76907\ttest-rmse:3.82063\n",
            "[77]\ttrain-rmse:2.75577\ttest-rmse:3.82105\n",
            "[78]\ttrain-rmse:2.74769\ttest-rmse:3.81981\n",
            "[79]\ttrain-rmse:2.73677\ttest-rmse:3.819\n",
            "[80]\ttrain-rmse:2.72477\ttest-rmse:3.81911\n",
            "[81]\ttrain-rmse:2.71626\ttest-rmse:3.81794\n",
            "[82]\ttrain-rmse:2.70651\ttest-rmse:3.81691\n",
            "[83]\ttrain-rmse:2.69763\ttest-rmse:3.81515\n",
            "[84]\ttrain-rmse:2.6812\ttest-rmse:3.81579\n",
            "[85]\ttrain-rmse:2.66909\ttest-rmse:3.81792\n",
            "[86]\ttrain-rmse:2.66165\ttest-rmse:3.81605\n",
            "[87]\ttrain-rmse:2.64942\ttest-rmse:3.8157\n",
            "[88]\ttrain-rmse:2.6394\ttest-rmse:3.8174\n",
            "[89]\ttrain-rmse:2.62985\ttest-rmse:3.81592\n",
            "[90]\ttrain-rmse:2.62079\ttest-rmse:3.81421\n",
            "[91]\ttrain-rmse:2.61033\ttest-rmse:3.8124\n",
            "[92]\ttrain-rmse:2.59968\ttest-rmse:3.8113\n",
            "[93]\ttrain-rmse:2.5848\ttest-rmse:3.81277\n",
            "[94]\ttrain-rmse:2.5741\ttest-rmse:3.81216\n",
            "[95]\ttrain-rmse:2.56197\ttest-rmse:3.81171\n",
            "[96]\ttrain-rmse:2.5531\ttest-rmse:3.81394\n",
            "[97]\ttrain-rmse:2.54817\ttest-rmse:3.8128\n",
            "[98]\ttrain-rmse:2.53767\ttest-rmse:3.81149\n",
            "[99]\ttrain-rmse:2.5319\ttest-rmse:3.81199\n",
            "[100]\ttrain-rmse:2.51452\ttest-rmse:3.81195\n",
            "[101]\ttrain-rmse:2.50456\ttest-rmse:3.80931\n",
            "[102]\ttrain-rmse:2.48382\ttest-rmse:3.81025\n",
            "[103]\ttrain-rmse:2.47601\ttest-rmse:3.81132\n",
            "[104]\ttrain-rmse:2.46756\ttest-rmse:3.8123\n",
            "[105]\ttrain-rmse:2.45019\ttest-rmse:3.81326\n",
            "[106]\ttrain-rmse:2.43469\ttest-rmse:3.81573\n",
            "[107]\ttrain-rmse:2.42826\ttest-rmse:3.81532\n",
            "[108]\ttrain-rmse:2.411\ttest-rmse:3.81564\n",
            "[109]\ttrain-rmse:2.40286\ttest-rmse:3.81682\n",
            "[110]\ttrain-rmse:2.39357\ttest-rmse:3.81794\n",
            "[111]\ttrain-rmse:2.37277\ttest-rmse:3.81873\n",
            "Stopping. Best iteration:\n",
            "[101]\ttrain-rmse:2.50456\ttest-rmse:3.80931\n",
            "\n"
          ],
          "name": "stdout"
        }
      ]
    }
  ]
}