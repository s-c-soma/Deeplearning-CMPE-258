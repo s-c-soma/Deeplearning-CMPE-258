{
  "nbformat": 4,
  "nbformat_minor": 0,
  "metadata": {
    "colab": {
      "name": "Assignment_6b2_CNN based_Image_Classifier_Pytorch.ipynb",
      "provenance": [],
      "collapsed_sections": [],
      "toc_visible": true,
      "machine_shape": "hm",
      "include_colab_link": true
    },
    "kernelspec": {
      "display_name": "Python 3",
      "language": "python",
      "name": "python3"
    },
    "language_info": {
      "codemirror_mode": {
        "name": "ipython",
        "version": 3
      },
      "file_extension": ".py",
      "mimetype": "text/x-python",
      "name": "python",
      "nbconvert_exporter": "python",
      "pygments_lexer": "ipython3",
      "version": "3.7.1"
    },
    "accelerator": "GPU",
    "widgets": {
      "application/vnd.jupyter.widget-state+json": {
        "6a317ef3b84442b18785f676f1e9b279": {
          "model_module": "@jupyter-widgets/controls",
          "model_name": "HBoxModel",
          "state": {
            "_view_name": "HBoxView",
            "_dom_classes": [],
            "_model_name": "HBoxModel",
            "_view_module": "@jupyter-widgets/controls",
            "_model_module_version": "1.5.0",
            "_view_count": null,
            "_view_module_version": "1.5.0",
            "box_style": "",
            "layout": "IPY_MODEL_6198b2c9249a4219b4f12f7a4b10e651",
            "_model_module": "@jupyter-widgets/controls",
            "children": [
              "IPY_MODEL_a95d103b4d2d4ce8981c8c2ab38702cd",
              "IPY_MODEL_d92404823755436388257d5c6ee54e0f"
            ]
          }
        },
        "6198b2c9249a4219b4f12f7a4b10e651": {
          "model_module": "@jupyter-widgets/base",
          "model_name": "LayoutModel",
          "state": {
            "_view_name": "LayoutView",
            "grid_template_rows": null,
            "right": null,
            "justify_content": null,
            "_view_module": "@jupyter-widgets/base",
            "overflow": null,
            "_model_module_version": "1.2.0",
            "_view_count": null,
            "flex_flow": null,
            "width": null,
            "min_width": null,
            "border": null,
            "align_items": null,
            "bottom": null,
            "_model_module": "@jupyter-widgets/base",
            "top": null,
            "grid_column": null,
            "overflow_y": null,
            "overflow_x": null,
            "grid_auto_flow": null,
            "grid_area": null,
            "grid_template_columns": null,
            "flex": null,
            "_model_name": "LayoutModel",
            "justify_items": null,
            "grid_row": null,
            "max_height": null,
            "align_content": null,
            "visibility": null,
            "align_self": null,
            "height": null,
            "min_height": null,
            "padding": null,
            "grid_auto_rows": null,
            "grid_gap": null,
            "max_width": null,
            "order": null,
            "_view_module_version": "1.2.0",
            "grid_template_areas": null,
            "object_position": null,
            "object_fit": null,
            "grid_auto_columns": null,
            "margin": null,
            "display": null,
            "left": null
          }
        },
        "a95d103b4d2d4ce8981c8c2ab38702cd": {
          "model_module": "@jupyter-widgets/controls",
          "model_name": "FloatProgressModel",
          "state": {
            "_view_name": "ProgressView",
            "style": "IPY_MODEL_6759782c637b421191d4d84b19767754",
            "_dom_classes": [],
            "description": "",
            "_model_name": "FloatProgressModel",
            "bar_style": "success",
            "max": 9912422,
            "_view_module": "@jupyter-widgets/controls",
            "_model_module_version": "1.5.0",
            "value": 9912422,
            "_view_count": null,
            "_view_module_version": "1.5.0",
            "orientation": "horizontal",
            "min": 0,
            "description_tooltip": null,
            "_model_module": "@jupyter-widgets/controls",
            "layout": "IPY_MODEL_5ea74c030c3b4325a63671dc1b5b21c5"
          }
        },
        "d92404823755436388257d5c6ee54e0f": {
          "model_module": "@jupyter-widgets/controls",
          "model_name": "HTMLModel",
          "state": {
            "_view_name": "HTMLView",
            "style": "IPY_MODEL_8d8d26b471f04b0d9b3732c5afb6b378",
            "_dom_classes": [],
            "description": "",
            "_model_name": "HTMLModel",
            "placeholder": "​",
            "_view_module": "@jupyter-widgets/controls",
            "_model_module_version": "1.5.0",
            "value": " 9913344/? [05:42&lt;00:00, 28932.49it/s]",
            "_view_count": null,
            "_view_module_version": "1.5.0",
            "description_tooltip": null,
            "_model_module": "@jupyter-widgets/controls",
            "layout": "IPY_MODEL_97efbda1725e407e8faa76b2fd8eb21c"
          }
        },
        "6759782c637b421191d4d84b19767754": {
          "model_module": "@jupyter-widgets/controls",
          "model_name": "ProgressStyleModel",
          "state": {
            "_view_name": "StyleView",
            "_model_name": "ProgressStyleModel",
            "description_width": "initial",
            "_view_module": "@jupyter-widgets/base",
            "_model_module_version": "1.5.0",
            "_view_count": null,
            "_view_module_version": "1.2.0",
            "bar_color": null,
            "_model_module": "@jupyter-widgets/controls"
          }
        },
        "5ea74c030c3b4325a63671dc1b5b21c5": {
          "model_module": "@jupyter-widgets/base",
          "model_name": "LayoutModel",
          "state": {
            "_view_name": "LayoutView",
            "grid_template_rows": null,
            "right": null,
            "justify_content": null,
            "_view_module": "@jupyter-widgets/base",
            "overflow": null,
            "_model_module_version": "1.2.0",
            "_view_count": null,
            "flex_flow": null,
            "width": null,
            "min_width": null,
            "border": null,
            "align_items": null,
            "bottom": null,
            "_model_module": "@jupyter-widgets/base",
            "top": null,
            "grid_column": null,
            "overflow_y": null,
            "overflow_x": null,
            "grid_auto_flow": null,
            "grid_area": null,
            "grid_template_columns": null,
            "flex": null,
            "_model_name": "LayoutModel",
            "justify_items": null,
            "grid_row": null,
            "max_height": null,
            "align_content": null,
            "visibility": null,
            "align_self": null,
            "height": null,
            "min_height": null,
            "padding": null,
            "grid_auto_rows": null,
            "grid_gap": null,
            "max_width": null,
            "order": null,
            "_view_module_version": "1.2.0",
            "grid_template_areas": null,
            "object_position": null,
            "object_fit": null,
            "grid_auto_columns": null,
            "margin": null,
            "display": null,
            "left": null
          }
        },
        "8d8d26b471f04b0d9b3732c5afb6b378": {
          "model_module": "@jupyter-widgets/controls",
          "model_name": "DescriptionStyleModel",
          "state": {
            "_view_name": "StyleView",
            "_model_name": "DescriptionStyleModel",
            "description_width": "",
            "_view_module": "@jupyter-widgets/base",
            "_model_module_version": "1.5.0",
            "_view_count": null,
            "_view_module_version": "1.2.0",
            "_model_module": "@jupyter-widgets/controls"
          }
        },
        "97efbda1725e407e8faa76b2fd8eb21c": {
          "model_module": "@jupyter-widgets/base",
          "model_name": "LayoutModel",
          "state": {
            "_view_name": "LayoutView",
            "grid_template_rows": null,
            "right": null,
            "justify_content": null,
            "_view_module": "@jupyter-widgets/base",
            "overflow": null,
            "_model_module_version": "1.2.0",
            "_view_count": null,
            "flex_flow": null,
            "width": null,
            "min_width": null,
            "border": null,
            "align_items": null,
            "bottom": null,
            "_model_module": "@jupyter-widgets/base",
            "top": null,
            "grid_column": null,
            "overflow_y": null,
            "overflow_x": null,
            "grid_auto_flow": null,
            "grid_area": null,
            "grid_template_columns": null,
            "flex": null,
            "_model_name": "LayoutModel",
            "justify_items": null,
            "grid_row": null,
            "max_height": null,
            "align_content": null,
            "visibility": null,
            "align_self": null,
            "height": null,
            "min_height": null,
            "padding": null,
            "grid_auto_rows": null,
            "grid_gap": null,
            "max_width": null,
            "order": null,
            "_view_module_version": "1.2.0",
            "grid_template_areas": null,
            "object_position": null,
            "object_fit": null,
            "grid_auto_columns": null,
            "margin": null,
            "display": null,
            "left": null
          }
        },
        "0a01de14c50b4448a6b090ae1484d810": {
          "model_module": "@jupyter-widgets/controls",
          "model_name": "HBoxModel",
          "state": {
            "_view_name": "HBoxView",
            "_dom_classes": [],
            "_model_name": "HBoxModel",
            "_view_module": "@jupyter-widgets/controls",
            "_model_module_version": "1.5.0",
            "_view_count": null,
            "_view_module_version": "1.5.0",
            "box_style": "",
            "layout": "IPY_MODEL_f3358f8ddb0f445b8ba95272bbd5e693",
            "_model_module": "@jupyter-widgets/controls",
            "children": [
              "IPY_MODEL_c8f9860a34504960bc368fa7c9529850",
              "IPY_MODEL_95361501d5704e93889cef4808f41a39"
            ]
          }
        },
        "f3358f8ddb0f445b8ba95272bbd5e693": {
          "model_module": "@jupyter-widgets/base",
          "model_name": "LayoutModel",
          "state": {
            "_view_name": "LayoutView",
            "grid_template_rows": null,
            "right": null,
            "justify_content": null,
            "_view_module": "@jupyter-widgets/base",
            "overflow": null,
            "_model_module_version": "1.2.0",
            "_view_count": null,
            "flex_flow": null,
            "width": null,
            "min_width": null,
            "border": null,
            "align_items": null,
            "bottom": null,
            "_model_module": "@jupyter-widgets/base",
            "top": null,
            "grid_column": null,
            "overflow_y": null,
            "overflow_x": null,
            "grid_auto_flow": null,
            "grid_area": null,
            "grid_template_columns": null,
            "flex": null,
            "_model_name": "LayoutModel",
            "justify_items": null,
            "grid_row": null,
            "max_height": null,
            "align_content": null,
            "visibility": null,
            "align_self": null,
            "height": null,
            "min_height": null,
            "padding": null,
            "grid_auto_rows": null,
            "grid_gap": null,
            "max_width": null,
            "order": null,
            "_view_module_version": "1.2.0",
            "grid_template_areas": null,
            "object_position": null,
            "object_fit": null,
            "grid_auto_columns": null,
            "margin": null,
            "display": null,
            "left": null
          }
        },
        "c8f9860a34504960bc368fa7c9529850": {
          "model_module": "@jupyter-widgets/controls",
          "model_name": "FloatProgressModel",
          "state": {
            "_view_name": "ProgressView",
            "style": "IPY_MODEL_eb7fee73947d40189d808ffa8cc5d564",
            "_dom_classes": [],
            "description": "",
            "_model_name": "FloatProgressModel",
            "bar_style": "success",
            "max": 28881,
            "_view_module": "@jupyter-widgets/controls",
            "_model_module_version": "1.5.0",
            "value": 28881,
            "_view_count": null,
            "_view_module_version": "1.5.0",
            "orientation": "horizontal",
            "min": 0,
            "description_tooltip": null,
            "_model_module": "@jupyter-widgets/controls",
            "layout": "IPY_MODEL_14b9e08798d14532b7c67847cbb6ab7a"
          }
        },
        "95361501d5704e93889cef4808f41a39": {
          "model_module": "@jupyter-widgets/controls",
          "model_name": "HTMLModel",
          "state": {
            "_view_name": "HTMLView",
            "style": "IPY_MODEL_0938b7cff55245c5ad9b32e314cb5915",
            "_dom_classes": [],
            "description": "",
            "_model_name": "HTMLModel",
            "placeholder": "​",
            "_view_module": "@jupyter-widgets/controls",
            "_model_module_version": "1.5.0",
            "value": " 29696/? [00:48&lt;00:00, 610.85it/s]",
            "_view_count": null,
            "_view_module_version": "1.5.0",
            "description_tooltip": null,
            "_model_module": "@jupyter-widgets/controls",
            "layout": "IPY_MODEL_9e6d4632258a4b17a42435a1b0139210"
          }
        },
        "eb7fee73947d40189d808ffa8cc5d564": {
          "model_module": "@jupyter-widgets/controls",
          "model_name": "ProgressStyleModel",
          "state": {
            "_view_name": "StyleView",
            "_model_name": "ProgressStyleModel",
            "description_width": "initial",
            "_view_module": "@jupyter-widgets/base",
            "_model_module_version": "1.5.0",
            "_view_count": null,
            "_view_module_version": "1.2.0",
            "bar_color": null,
            "_model_module": "@jupyter-widgets/controls"
          }
        },
        "14b9e08798d14532b7c67847cbb6ab7a": {
          "model_module": "@jupyter-widgets/base",
          "model_name": "LayoutModel",
          "state": {
            "_view_name": "LayoutView",
            "grid_template_rows": null,
            "right": null,
            "justify_content": null,
            "_view_module": "@jupyter-widgets/base",
            "overflow": null,
            "_model_module_version": "1.2.0",
            "_view_count": null,
            "flex_flow": null,
            "width": null,
            "min_width": null,
            "border": null,
            "align_items": null,
            "bottom": null,
            "_model_module": "@jupyter-widgets/base",
            "top": null,
            "grid_column": null,
            "overflow_y": null,
            "overflow_x": null,
            "grid_auto_flow": null,
            "grid_area": null,
            "grid_template_columns": null,
            "flex": null,
            "_model_name": "LayoutModel",
            "justify_items": null,
            "grid_row": null,
            "max_height": null,
            "align_content": null,
            "visibility": null,
            "align_self": null,
            "height": null,
            "min_height": null,
            "padding": null,
            "grid_auto_rows": null,
            "grid_gap": null,
            "max_width": null,
            "order": null,
            "_view_module_version": "1.2.0",
            "grid_template_areas": null,
            "object_position": null,
            "object_fit": null,
            "grid_auto_columns": null,
            "margin": null,
            "display": null,
            "left": null
          }
        },
        "0938b7cff55245c5ad9b32e314cb5915": {
          "model_module": "@jupyter-widgets/controls",
          "model_name": "DescriptionStyleModel",
          "state": {
            "_view_name": "StyleView",
            "_model_name": "DescriptionStyleModel",
            "description_width": "",
            "_view_module": "@jupyter-widgets/base",
            "_model_module_version": "1.5.0",
            "_view_count": null,
            "_view_module_version": "1.2.0",
            "_model_module": "@jupyter-widgets/controls"
          }
        },
        "9e6d4632258a4b17a42435a1b0139210": {
          "model_module": "@jupyter-widgets/base",
          "model_name": "LayoutModel",
          "state": {
            "_view_name": "LayoutView",
            "grid_template_rows": null,
            "right": null,
            "justify_content": null,
            "_view_module": "@jupyter-widgets/base",
            "overflow": null,
            "_model_module_version": "1.2.0",
            "_view_count": null,
            "flex_flow": null,
            "width": null,
            "min_width": null,
            "border": null,
            "align_items": null,
            "bottom": null,
            "_model_module": "@jupyter-widgets/base",
            "top": null,
            "grid_column": null,
            "overflow_y": null,
            "overflow_x": null,
            "grid_auto_flow": null,
            "grid_area": null,
            "grid_template_columns": null,
            "flex": null,
            "_model_name": "LayoutModel",
            "justify_items": null,
            "grid_row": null,
            "max_height": null,
            "align_content": null,
            "visibility": null,
            "align_self": null,
            "height": null,
            "min_height": null,
            "padding": null,
            "grid_auto_rows": null,
            "grid_gap": null,
            "max_width": null,
            "order": null,
            "_view_module_version": "1.2.0",
            "grid_template_areas": null,
            "object_position": null,
            "object_fit": null,
            "grid_auto_columns": null,
            "margin": null,
            "display": null,
            "left": null
          }
        },
        "4497919e0d4348e8a3546e961d46b92f": {
          "model_module": "@jupyter-widgets/controls",
          "model_name": "HBoxModel",
          "state": {
            "_view_name": "HBoxView",
            "_dom_classes": [],
            "_model_name": "HBoxModel",
            "_view_module": "@jupyter-widgets/controls",
            "_model_module_version": "1.5.0",
            "_view_count": null,
            "_view_module_version": "1.5.0",
            "box_style": "",
            "layout": "IPY_MODEL_54c06c5d0aff451bac922fbd9138f0e3",
            "_model_module": "@jupyter-widgets/controls",
            "children": [
              "IPY_MODEL_0d565ed2ec884cd6bf90e5f00ce46fdd",
              "IPY_MODEL_584eb5e1bdb44720a5a0ff0e821acce9"
            ]
          }
        },
        "54c06c5d0aff451bac922fbd9138f0e3": {
          "model_module": "@jupyter-widgets/base",
          "model_name": "LayoutModel",
          "state": {
            "_view_name": "LayoutView",
            "grid_template_rows": null,
            "right": null,
            "justify_content": null,
            "_view_module": "@jupyter-widgets/base",
            "overflow": null,
            "_model_module_version": "1.2.0",
            "_view_count": null,
            "flex_flow": null,
            "width": null,
            "min_width": null,
            "border": null,
            "align_items": null,
            "bottom": null,
            "_model_module": "@jupyter-widgets/base",
            "top": null,
            "grid_column": null,
            "overflow_y": null,
            "overflow_x": null,
            "grid_auto_flow": null,
            "grid_area": null,
            "grid_template_columns": null,
            "flex": null,
            "_model_name": "LayoutModel",
            "justify_items": null,
            "grid_row": null,
            "max_height": null,
            "align_content": null,
            "visibility": null,
            "align_self": null,
            "height": null,
            "min_height": null,
            "padding": null,
            "grid_auto_rows": null,
            "grid_gap": null,
            "max_width": null,
            "order": null,
            "_view_module_version": "1.2.0",
            "grid_template_areas": null,
            "object_position": null,
            "object_fit": null,
            "grid_auto_columns": null,
            "margin": null,
            "display": null,
            "left": null
          }
        },
        "0d565ed2ec884cd6bf90e5f00ce46fdd": {
          "model_module": "@jupyter-widgets/controls",
          "model_name": "FloatProgressModel",
          "state": {
            "_view_name": "ProgressView",
            "style": "IPY_MODEL_b40eb9a5c88045b7b22a98d0ab6eb0d3",
            "_dom_classes": [],
            "description": "",
            "_model_name": "FloatProgressModel",
            "bar_style": "success",
            "max": 1648877,
            "_view_module": "@jupyter-widgets/controls",
            "_model_module_version": "1.5.0",
            "value": 1648877,
            "_view_count": null,
            "_view_module_version": "1.5.0",
            "orientation": "horizontal",
            "min": 0,
            "description_tooltip": null,
            "_model_module": "@jupyter-widgets/controls",
            "layout": "IPY_MODEL_ec05ec15dca246889e2fc86aedaeb9df"
          }
        },
        "584eb5e1bdb44720a5a0ff0e821acce9": {
          "model_module": "@jupyter-widgets/controls",
          "model_name": "HTMLModel",
          "state": {
            "_view_name": "HTMLView",
            "style": "IPY_MODEL_e353ddb0d8ac499284de2b8fb1824c80",
            "_dom_classes": [],
            "description": "",
            "_model_name": "HTMLModel",
            "placeholder": "​",
            "_view_module": "@jupyter-widgets/controls",
            "_model_module_version": "1.5.0",
            "value": " 1649664/? [00:48&lt;00:00, 34268.57it/s]",
            "_view_count": null,
            "_view_module_version": "1.5.0",
            "description_tooltip": null,
            "_model_module": "@jupyter-widgets/controls",
            "layout": "IPY_MODEL_fb6cd004e9b3406f9842e9f041d1d20e"
          }
        },
        "b40eb9a5c88045b7b22a98d0ab6eb0d3": {
          "model_module": "@jupyter-widgets/controls",
          "model_name": "ProgressStyleModel",
          "state": {
            "_view_name": "StyleView",
            "_model_name": "ProgressStyleModel",
            "description_width": "initial",
            "_view_module": "@jupyter-widgets/base",
            "_model_module_version": "1.5.0",
            "_view_count": null,
            "_view_module_version": "1.2.0",
            "bar_color": null,
            "_model_module": "@jupyter-widgets/controls"
          }
        },
        "ec05ec15dca246889e2fc86aedaeb9df": {
          "model_module": "@jupyter-widgets/base",
          "model_name": "LayoutModel",
          "state": {
            "_view_name": "LayoutView",
            "grid_template_rows": null,
            "right": null,
            "justify_content": null,
            "_view_module": "@jupyter-widgets/base",
            "overflow": null,
            "_model_module_version": "1.2.0",
            "_view_count": null,
            "flex_flow": null,
            "width": null,
            "min_width": null,
            "border": null,
            "align_items": null,
            "bottom": null,
            "_model_module": "@jupyter-widgets/base",
            "top": null,
            "grid_column": null,
            "overflow_y": null,
            "overflow_x": null,
            "grid_auto_flow": null,
            "grid_area": null,
            "grid_template_columns": null,
            "flex": null,
            "_model_name": "LayoutModel",
            "justify_items": null,
            "grid_row": null,
            "max_height": null,
            "align_content": null,
            "visibility": null,
            "align_self": null,
            "height": null,
            "min_height": null,
            "padding": null,
            "grid_auto_rows": null,
            "grid_gap": null,
            "max_width": null,
            "order": null,
            "_view_module_version": "1.2.0",
            "grid_template_areas": null,
            "object_position": null,
            "object_fit": null,
            "grid_auto_columns": null,
            "margin": null,
            "display": null,
            "left": null
          }
        },
        "e353ddb0d8ac499284de2b8fb1824c80": {
          "model_module": "@jupyter-widgets/controls",
          "model_name": "DescriptionStyleModel",
          "state": {
            "_view_name": "StyleView",
            "_model_name": "DescriptionStyleModel",
            "description_width": "",
            "_view_module": "@jupyter-widgets/base",
            "_model_module_version": "1.5.0",
            "_view_count": null,
            "_view_module_version": "1.2.0",
            "_model_module": "@jupyter-widgets/controls"
          }
        },
        "fb6cd004e9b3406f9842e9f041d1d20e": {
          "model_module": "@jupyter-widgets/base",
          "model_name": "LayoutModel",
          "state": {
            "_view_name": "LayoutView",
            "grid_template_rows": null,
            "right": null,
            "justify_content": null,
            "_view_module": "@jupyter-widgets/base",
            "overflow": null,
            "_model_module_version": "1.2.0",
            "_view_count": null,
            "flex_flow": null,
            "width": null,
            "min_width": null,
            "border": null,
            "align_items": null,
            "bottom": null,
            "_model_module": "@jupyter-widgets/base",
            "top": null,
            "grid_column": null,
            "overflow_y": null,
            "overflow_x": null,
            "grid_auto_flow": null,
            "grid_area": null,
            "grid_template_columns": null,
            "flex": null,
            "_model_name": "LayoutModel",
            "justify_items": null,
            "grid_row": null,
            "max_height": null,
            "align_content": null,
            "visibility": null,
            "align_self": null,
            "height": null,
            "min_height": null,
            "padding": null,
            "grid_auto_rows": null,
            "grid_gap": null,
            "max_width": null,
            "order": null,
            "_view_module_version": "1.2.0",
            "grid_template_areas": null,
            "object_position": null,
            "object_fit": null,
            "grid_auto_columns": null,
            "margin": null,
            "display": null,
            "left": null
          }
        },
        "d714c6fbe6cb4c6393bed52996b3dd77": {
          "model_module": "@jupyter-widgets/controls",
          "model_name": "HBoxModel",
          "state": {
            "_view_name": "HBoxView",
            "_dom_classes": [],
            "_model_name": "HBoxModel",
            "_view_module": "@jupyter-widgets/controls",
            "_model_module_version": "1.5.0",
            "_view_count": null,
            "_view_module_version": "1.5.0",
            "box_style": "",
            "layout": "IPY_MODEL_75ed6ceff6f344959f70218c564f73a4",
            "_model_module": "@jupyter-widgets/controls",
            "children": [
              "IPY_MODEL_1d168274a4524df0b6a7f0af7e98482d",
              "IPY_MODEL_0ffa035fafdb4f87b412834a96cd944b"
            ]
          }
        },
        "75ed6ceff6f344959f70218c564f73a4": {
          "model_module": "@jupyter-widgets/base",
          "model_name": "LayoutModel",
          "state": {
            "_view_name": "LayoutView",
            "grid_template_rows": null,
            "right": null,
            "justify_content": null,
            "_view_module": "@jupyter-widgets/base",
            "overflow": null,
            "_model_module_version": "1.2.0",
            "_view_count": null,
            "flex_flow": null,
            "width": null,
            "min_width": null,
            "border": null,
            "align_items": null,
            "bottom": null,
            "_model_module": "@jupyter-widgets/base",
            "top": null,
            "grid_column": null,
            "overflow_y": null,
            "overflow_x": null,
            "grid_auto_flow": null,
            "grid_area": null,
            "grid_template_columns": null,
            "flex": null,
            "_model_name": "LayoutModel",
            "justify_items": null,
            "grid_row": null,
            "max_height": null,
            "align_content": null,
            "visibility": null,
            "align_self": null,
            "height": null,
            "min_height": null,
            "padding": null,
            "grid_auto_rows": null,
            "grid_gap": null,
            "max_width": null,
            "order": null,
            "_view_module_version": "1.2.0",
            "grid_template_areas": null,
            "object_position": null,
            "object_fit": null,
            "grid_auto_columns": null,
            "margin": null,
            "display": null,
            "left": null
          }
        },
        "1d168274a4524df0b6a7f0af7e98482d": {
          "model_module": "@jupyter-widgets/controls",
          "model_name": "FloatProgressModel",
          "state": {
            "_view_name": "ProgressView",
            "style": "IPY_MODEL_fbf71d5186be4b678e7e0efd2b9ec217",
            "_dom_classes": [],
            "description": "",
            "_model_name": "FloatProgressModel",
            "bar_style": "success",
            "max": 4542,
            "_view_module": "@jupyter-widgets/controls",
            "_model_module_version": "1.5.0",
            "value": 4542,
            "_view_count": null,
            "_view_module_version": "1.5.0",
            "orientation": "horizontal",
            "min": 0,
            "description_tooltip": null,
            "_model_module": "@jupyter-widgets/controls",
            "layout": "IPY_MODEL_24de90bf18c1472fba4d692bcfad3843"
          }
        },
        "0ffa035fafdb4f87b412834a96cd944b": {
          "model_module": "@jupyter-widgets/controls",
          "model_name": "HTMLModel",
          "state": {
            "_view_name": "HTMLView",
            "style": "IPY_MODEL_2650c9db967041849274ea33f794f03e",
            "_dom_classes": [],
            "description": "",
            "_model_name": "HTMLModel",
            "placeholder": "​",
            "_view_module": "@jupyter-widgets/controls",
            "_model_module_version": "1.5.0",
            "value": " 5120/? [00:01&lt;00:00, 4603.49it/s]",
            "_view_count": null,
            "_view_module_version": "1.5.0",
            "description_tooltip": null,
            "_model_module": "@jupyter-widgets/controls",
            "layout": "IPY_MODEL_e7625fa9a8fb4b8c975a11bfc018f691"
          }
        },
        "fbf71d5186be4b678e7e0efd2b9ec217": {
          "model_module": "@jupyter-widgets/controls",
          "model_name": "ProgressStyleModel",
          "state": {
            "_view_name": "StyleView",
            "_model_name": "ProgressStyleModel",
            "description_width": "initial",
            "_view_module": "@jupyter-widgets/base",
            "_model_module_version": "1.5.0",
            "_view_count": null,
            "_view_module_version": "1.2.0",
            "bar_color": null,
            "_model_module": "@jupyter-widgets/controls"
          }
        },
        "24de90bf18c1472fba4d692bcfad3843": {
          "model_module": "@jupyter-widgets/base",
          "model_name": "LayoutModel",
          "state": {
            "_view_name": "LayoutView",
            "grid_template_rows": null,
            "right": null,
            "justify_content": null,
            "_view_module": "@jupyter-widgets/base",
            "overflow": null,
            "_model_module_version": "1.2.0",
            "_view_count": null,
            "flex_flow": null,
            "width": null,
            "min_width": null,
            "border": null,
            "align_items": null,
            "bottom": null,
            "_model_module": "@jupyter-widgets/base",
            "top": null,
            "grid_column": null,
            "overflow_y": null,
            "overflow_x": null,
            "grid_auto_flow": null,
            "grid_area": null,
            "grid_template_columns": null,
            "flex": null,
            "_model_name": "LayoutModel",
            "justify_items": null,
            "grid_row": null,
            "max_height": null,
            "align_content": null,
            "visibility": null,
            "align_self": null,
            "height": null,
            "min_height": null,
            "padding": null,
            "grid_auto_rows": null,
            "grid_gap": null,
            "max_width": null,
            "order": null,
            "_view_module_version": "1.2.0",
            "grid_template_areas": null,
            "object_position": null,
            "object_fit": null,
            "grid_auto_columns": null,
            "margin": null,
            "display": null,
            "left": null
          }
        },
        "2650c9db967041849274ea33f794f03e": {
          "model_module": "@jupyter-widgets/controls",
          "model_name": "DescriptionStyleModel",
          "state": {
            "_view_name": "StyleView",
            "_model_name": "DescriptionStyleModel",
            "description_width": "",
            "_view_module": "@jupyter-widgets/base",
            "_model_module_version": "1.5.0",
            "_view_count": null,
            "_view_module_version": "1.2.0",
            "_model_module": "@jupyter-widgets/controls"
          }
        },
        "e7625fa9a8fb4b8c975a11bfc018f691": {
          "model_module": "@jupyter-widgets/base",
          "model_name": "LayoutModel",
          "state": {
            "_view_name": "LayoutView",
            "grid_template_rows": null,
            "right": null,
            "justify_content": null,
            "_view_module": "@jupyter-widgets/base",
            "overflow": null,
            "_model_module_version": "1.2.0",
            "_view_count": null,
            "flex_flow": null,
            "width": null,
            "min_width": null,
            "border": null,
            "align_items": null,
            "bottom": null,
            "_model_module": "@jupyter-widgets/base",
            "top": null,
            "grid_column": null,
            "overflow_y": null,
            "overflow_x": null,
            "grid_auto_flow": null,
            "grid_area": null,
            "grid_template_columns": null,
            "flex": null,
            "_model_name": "LayoutModel",
            "justify_items": null,
            "grid_row": null,
            "max_height": null,
            "align_content": null,
            "visibility": null,
            "align_self": null,
            "height": null,
            "min_height": null,
            "padding": null,
            "grid_auto_rows": null,
            "grid_gap": null,
            "max_width": null,
            "order": null,
            "_view_module_version": "1.2.0",
            "grid_template_areas": null,
            "object_position": null,
            "object_fit": null,
            "grid_auto_columns": null,
            "margin": null,
            "display": null,
            "left": null
          }
        }
      }
    }
  },
  "cells": [
    {
      "cell_type": "markdown",
      "metadata": {
        "id": "view-in-github",
        "colab_type": "text"
      },
      "source": [
        "<a href=\"https://colab.research.google.com/github/s-c-soma/Deeplearning-CMPE-258/blob/main/Assignment_6/Assignment_6b2_CNN_based_Image_Classifier_Pytorch.ipynb\" target=\"_parent\"><img src=\"https://colab.research.google.com/assets/colab-badge.svg\" alt=\"Open In Colab\"/></a>"
      ]
    },
    {
      "cell_type": "markdown",
      "metadata": {
        "id": "23R0Z9RojXYW"
      },
      "source": [
        "# CNN based image classifier Using Pytorch\n",
        "\n"
      ]
    },
    {
      "cell_type": "markdown",
      "metadata": {
        "id": "ZhsuwjVjoDiM"
      },
      "source": [
        "## Implementation Details and Discussion\n",
        "\n",
        "* This colab implements the CNN based clsssifier using Keras.\n",
        "\n",
        "* Here I have followed the steps following :\n",
        "> 1. I have used two different datasets. One is custom- Food image dataset and the Fashion MNIST dataset\n",
        "> 2. Some preprocessing such as augmentation and standardization on datasets\n",
        "> 3. Then I have build the networt to build CNN based classifier\n",
        "> 4. Then I have trained the classifier model \n",
        "> 5. Finally I have done some prediction\n",
        "> 6. After 5 epochs:\n",
        "** With Food image Dataset:\n",
        ">> loss: 0.5425 - accuracy: 0.8308 - val_loss: 0.4063 - val_accuracy: 0.8635\n",
        "** With F MINST Dataset:\n",
        ">> Loss:1.164, Accuracy:75.583, Testing Loss 0.001, Testing Accuracy:98.320\n",
        "\n"
      ]
    },
    {
      "cell_type": "markdown",
      "metadata": {
        "id": "B3B-qWOjJeSv"
      },
      "source": [
        "# Check if GPU/TPU available"
      ]
    },
    {
      "cell_type": "code",
      "metadata": {
        "colab": {
          "base_uri": "https://localhost:8080/"
        },
        "id": "S6MhLJuHJh2z",
        "outputId": "c3567ccf-3ea2-4a86-ca89-cd4166221792"
      },
      "source": [
        "gpu_info = !nvidia-smi\n",
        "gpu_info = '\\n'.join(gpu_info)\n",
        "if gpu_info.find('failed') >= 0:\n",
        "  print('Select the Runtime > \"Change runtime type\" menu to enable a GPU accelerator, ')\n",
        "  print('and then re-execute this cell.')\n",
        "else:\n",
        "  print(gpu_info)"
      ],
      "execution_count": null,
      "outputs": [
        {
          "output_type": "stream",
          "text": [
            "Sat May  1 05:35:12 2021       \n",
            "+-----------------------------------------------------------------------------+\n",
            "| NVIDIA-SMI 465.19.01    Driver Version: 460.32.03    CUDA Version: 11.2     |\n",
            "|-------------------------------+----------------------+----------------------+\n",
            "| GPU  Name        Persistence-M| Bus-Id        Disp.A | Volatile Uncorr. ECC |\n",
            "| Fan  Temp  Perf  Pwr:Usage/Cap|         Memory-Usage | GPU-Util  Compute M. |\n",
            "|                               |                      |               MIG M. |\n",
            "|===============================+======================+======================|\n",
            "|   0  Tesla P100-PCIE...  Off  | 00000000:00:04.0 Off |                    0 |\n",
            "| N/A   39C    P0    26W / 250W |      0MiB / 16280MiB |      0%      Default |\n",
            "|                               |                      |                  N/A |\n",
            "+-------------------------------+----------------------+----------------------+\n",
            "                                                                               \n",
            "+-----------------------------------------------------------------------------+\n",
            "| Processes:                                                                  |\n",
            "|  GPU   GI   CI        PID   Type   Process name                  GPU Memory |\n",
            "|        ID   ID                                                   Usage      |\n",
            "|=============================================================================|\n",
            "|  No running processes found                                                 |\n",
            "+-----------------------------------------------------------------------------+\n"
          ],
          "name": "stdout"
        }
      ]
    },
    {
      "cell_type": "markdown",
      "metadata": {
        "id": "vZzc26BAFG6t"
      },
      "source": [
        "# import libraries"
      ]
    },
    {
      "cell_type": "code",
      "metadata": {
        "id": "pETw-a1mYOUL"
      },
      "source": [
        "# load some default Python modules\n",
        "import numpy as np\n",
        "import pandas as pd\n",
        "\n",
        "import matplotlib.pyplot as plt\n",
        "import seaborn as sns\n",
        "import matplotlib.pyplot as plt\n",
        "import tensorflow as tf\n",
        "from keras.datasets import mnist\n",
        "from sklearn.metrics import mean_squared_error\n",
        "import itertools\n",
        "import math\n",
        "import matplotlib.pyplot as plt\n",
        "import tensorflow as tf\n",
        "from keras.datasets import fashion_mnist\n",
        "from sklearn.metrics import mean_squared_error\n",
        "import itertools\n",
        "import math\n",
        "from sklearn.metrics import confusion_matrix\n",
        "from keras.utils.np_utils import to_categorical\n",
        "from sklearn.model_selection import train_test_split\n",
        "from keras.preprocessing.image import ImageDataGenerator\n",
        "from keras.models import Sequential\n",
        "from keras.layers import Dense, Dropout, Conv2D, MaxPool2D\n",
        "from tensorflow import keras\n",
        "import torch\n",
        "import torch.nn as nn\n",
        "import torchvision.transforms as transforms\n",
        "import torchvision.datasets as datasets\n",
        "from torch.autograd import Variable\n",
        "torch.cuda.is_available()\n",
        "from tensorflow.keras.callbacks import ReduceLROnPlateau, ModelCheckpoint, EarlyStopping, TensorBoard\n",
        "% matplotlib inline\n",
        "\n",
        "plt.style.use('seaborn-whitegrid')\n",
        "\n",
        "import warnings\n",
        "warnings.filterwarnings('ignore')"
      ],
      "execution_count": 1,
      "outputs": []
    },
    {
      "cell_type": "markdown",
      "metadata": {
        "id": "7-dgMw0ZiDo4"
      },
      "source": [
        "# Load Data - Food and Grocery"
      ]
    },
    {
      "cell_type": "code",
      "metadata": {
        "colab": {
          "base_uri": "https://localhost:8080/"
        },
        "id": "2wq_jHy7iG4j",
        "outputId": "c7d88a5f-96d8-427e-94a9-fa827421a115"
      },
      "source": [
        "!curl -O https://download.microsoft.com/download/3/E/1/3E1C3F21-ECDB-4869-8368-6DEBA77B919F/kagglecatsanddogs_3367a.zip"
      ],
      "execution_count": null,
      "outputs": [
        {
          "output_type": "stream",
          "text": [
            "  % Total    % Received % Xferd  Average Speed   Time    Time     Time  Current\n",
            "                                 Dload  Upload   Total   Spent    Left  Speed\n",
            "100  786M  100  786M    0     0   134M      0  0:00:05  0:00:05 --:--:--  136M\n"
          ],
          "name": "stdout"
        }
      ]
    },
    {
      "cell_type": "code",
      "metadata": {
        "colab": {
          "base_uri": "https://localhost:8080/"
        },
        "id": "_OR7H4hpiK5O",
        "outputId": "170e07aa-6654-4ccc-cb4e-847e1cb06d25"
      },
      "source": [
        "!unzip -q kagglecatsanddogs_3367a.zip\n",
        "!ls"
      ],
      "execution_count": null,
      "outputs": [
        {
          "output_type": "stream",
          "text": [
            " kagglecatsanddogs_3367a.zip   PetImages        sample_data\n",
            "'MSR-LA - 3467.docx'\t      'readme[1].txt'\n"
          ],
          "name": "stdout"
        }
      ]
    },
    {
      "cell_type": "code",
      "metadata": {
        "colab": {
          "base_uri": "https://localhost:8080/"
        },
        "id": "MUSyD1oZiQZW",
        "outputId": "f3454fc3-05cb-4e2f-de13-d95fb90fdd76"
      },
      "source": [
        "!ls PetImages"
      ],
      "execution_count": null,
      "outputs": [
        {
          "output_type": "stream",
          "text": [
            "Cat  Dog\n"
          ],
          "name": "stdout"
        }
      ]
    },
    {
      "cell_type": "code",
      "metadata": {
        "colab": {
          "base_uri": "https://localhost:8080/"
        },
        "id": "aF3zfmD5iXUZ",
        "outputId": "43f3d750-61d0-4bf0-9cd7-6864f9a82242"
      },
      "source": [
        "!wget https://storage.googleapis.com/ztm_tf_course/food_vision/10_food_classes_all_data.zip"
      ],
      "execution_count": 2,
      "outputs": [
        {
          "output_type": "stream",
          "text": [
            "--2021-05-01 06:35:50--  https://storage.googleapis.com/ztm_tf_course/food_vision/10_food_classes_all_data.zip\n",
            "Resolving storage.googleapis.com (storage.googleapis.com)... 108.177.127.128, 172.217.218.128, 74.125.143.128, ...\n",
            "Connecting to storage.googleapis.com (storage.googleapis.com)|108.177.127.128|:443... connected.\n",
            "HTTP request sent, awaiting response... 200 OK\n",
            "Length: 519183241 (495M) [application/zip]\n",
            "Saving to: ‘10_food_classes_all_data.zip’\n",
            "\n",
            "10_food_classes_all 100%[===================>] 495.13M   105MB/s    in 5.0s    \n",
            "\n",
            "2021-05-01 06:35:56 (98.2 MB/s) - ‘10_food_classes_all_data.zip’ saved [519183241/519183241]\n",
            "\n"
          ],
          "name": "stdout"
        }
      ]
    },
    {
      "cell_type": "code",
      "metadata": {
        "id": "7w_F671tpFSv"
      },
      "source": [
        "# Unzip the downloaded file\n",
        "def unzip_data(filename):\n",
        "  \"\"\"\n",
        "  Utility function to unzip a zipped file.\n",
        "  \"\"\"\n",
        "  zip_ref = zipfile.ZipFile(filename, \"r\")\n",
        "  zip_ref.extractall()\n",
        "  zip_ref.close()"
      ],
      "execution_count": 3,
      "outputs": []
    },
    {
      "cell_type": "code",
      "metadata": {
        "id": "GZoOfShnpOUH"
      },
      "source": [
        "import zipfile\n",
        "import tensorflow as tf\n",
        "from tensorflow import keras\n",
        "from tensorflow.keras import layers\n",
        "from tensorflow.keras.layers.experimental import preprocessing"
      ],
      "execution_count": 5,
      "outputs": []
    },
    {
      "cell_type": "code",
      "metadata": {
        "id": "bB-s9aWKpIcv"
      },
      "source": [
        "unzip_data(\"10_food_classes_all_data.zip\")"
      ],
      "execution_count": 7,
      "outputs": []
    },
    {
      "cell_type": "code",
      "metadata": {
        "colab": {
          "base_uri": "https://localhost:8080/"
        },
        "id": "-4Kpnzb2pS7F",
        "outputId": "c9467ccf-371d-48fe-98a4-3eee62f3e6e5"
      },
      "source": [
        "!ls 10_food_classes_all_data"
      ],
      "execution_count": 9,
      "outputs": [
        {
          "output_type": "stream",
          "text": [
            "test  train\n"
          ],
          "name": "stdout"
        }
      ]
    },
    {
      "cell_type": "markdown",
      "metadata": {
        "id": "enQcr69pZKUc"
      },
      "source": [
        "# Load Data- F-MNIST\n",
        "\n"
      ]
    },
    {
      "cell_type": "code",
      "metadata": {
        "colab": {
          "base_uri": "https://localhost:8080/",
          "height": 513,
          "referenced_widgets": [
            "6a317ef3b84442b18785f676f1e9b279",
            "6198b2c9249a4219b4f12f7a4b10e651",
            "a95d103b4d2d4ce8981c8c2ab38702cd",
            "d92404823755436388257d5c6ee54e0f",
            "6759782c637b421191d4d84b19767754",
            "5ea74c030c3b4325a63671dc1b5b21c5",
            "8d8d26b471f04b0d9b3732c5afb6b378",
            "97efbda1725e407e8faa76b2fd8eb21c",
            "0a01de14c50b4448a6b090ae1484d810",
            "f3358f8ddb0f445b8ba95272bbd5e693",
            "c8f9860a34504960bc368fa7c9529850",
            "95361501d5704e93889cef4808f41a39",
            "eb7fee73947d40189d808ffa8cc5d564",
            "14b9e08798d14532b7c67847cbb6ab7a",
            "0938b7cff55245c5ad9b32e314cb5915",
            "9e6d4632258a4b17a42435a1b0139210",
            "4497919e0d4348e8a3546e961d46b92f",
            "54c06c5d0aff451bac922fbd9138f0e3",
            "0d565ed2ec884cd6bf90e5f00ce46fdd",
            "584eb5e1bdb44720a5a0ff0e821acce9",
            "b40eb9a5c88045b7b22a98d0ab6eb0d3",
            "ec05ec15dca246889e2fc86aedaeb9df",
            "e353ddb0d8ac499284de2b8fb1824c80",
            "fb6cd004e9b3406f9842e9f041d1d20e",
            "d714c6fbe6cb4c6393bed52996b3dd77",
            "75ed6ceff6f344959f70218c564f73a4",
            "1d168274a4524df0b6a7f0af7e98482d",
            "0ffa035fafdb4f87b412834a96cd944b",
            "fbf71d5186be4b678e7e0efd2b9ec217",
            "24de90bf18c1472fba4d692bcfad3843",
            "2650c9db967041849274ea33f794f03e",
            "e7625fa9a8fb4b8c975a11bfc018f691"
          ]
        },
        "id": "jQluDzgeYU9W",
        "outputId": "002022c4-d9f1-4ec0-87c4-202ad81fdead"
      },
      "source": [
        "mean_gray= 0.1307\n",
        "stddev_gray= 0.3081\n",
        "#normalize the image with std and mean\n",
        "#e.g: input[channel]=(input[channel]-mean[channel])/std(channel)\n",
        "transforms = transforms.Compose([transforms.ToTensor(), transforms.Normalize((mean_gray,),(stddev_gray,))])\n",
        "\n",
        "train_dataset=datasets.MNIST(root='./data', train=True, transform=transforms, download=True)\n",
        "test_dataset=datasets.MNIST(root='./data', train=False, transform=transforms)"
      ],
      "execution_count": 28,
      "outputs": [
        {
          "output_type": "stream",
          "text": [
            "Downloading http://yann.lecun.com/exdb/mnist/train-images-idx3-ubyte.gz\n",
            "Downloading http://yann.lecun.com/exdb/mnist/train-images-idx3-ubyte.gz to ./data/MNIST/raw/train-images-idx3-ubyte.gz\n"
          ],
          "name": "stdout"
        },
        {
          "output_type": "display_data",
          "data": {
            "application/vnd.jupyter.widget-view+json": {
              "model_id": "6a317ef3b84442b18785f676f1e9b279",
              "version_minor": 0,
              "version_major": 2
            },
            "text/plain": [
              "HBox(children=(FloatProgress(value=0.0, max=9912422.0), HTML(value='')))"
            ]
          },
          "metadata": {
            "tags": []
          }
        },
        {
          "output_type": "stream",
          "text": [
            "\n",
            "Extracting ./data/MNIST/raw/train-images-idx3-ubyte.gz to ./data/MNIST/raw\n",
            "\n",
            "Downloading http://yann.lecun.com/exdb/mnist/train-labels-idx1-ubyte.gz\n",
            "Downloading http://yann.lecun.com/exdb/mnist/train-labels-idx1-ubyte.gz to ./data/MNIST/raw/train-labels-idx1-ubyte.gz\n"
          ],
          "name": "stdout"
        },
        {
          "output_type": "display_data",
          "data": {
            "application/vnd.jupyter.widget-view+json": {
              "model_id": "0a01de14c50b4448a6b090ae1484d810",
              "version_minor": 0,
              "version_major": 2
            },
            "text/plain": [
              "HBox(children=(FloatProgress(value=0.0, max=28881.0), HTML(value='')))"
            ]
          },
          "metadata": {
            "tags": []
          }
        },
        {
          "output_type": "stream",
          "text": [
            "\n",
            "Extracting ./data/MNIST/raw/train-labels-idx1-ubyte.gz to ./data/MNIST/raw\n",
            "\n",
            "Downloading http://yann.lecun.com/exdb/mnist/t10k-images-idx3-ubyte.gz\n",
            "Downloading http://yann.lecun.com/exdb/mnist/t10k-images-idx3-ubyte.gz to ./data/MNIST/raw/t10k-images-idx3-ubyte.gz\n"
          ],
          "name": "stdout"
        },
        {
          "output_type": "display_data",
          "data": {
            "application/vnd.jupyter.widget-view+json": {
              "model_id": "4497919e0d4348e8a3546e961d46b92f",
              "version_minor": 0,
              "version_major": 2
            },
            "text/plain": [
              "HBox(children=(FloatProgress(value=0.0, max=1648877.0), HTML(value='')))"
            ]
          },
          "metadata": {
            "tags": []
          }
        },
        {
          "output_type": "stream",
          "text": [
            "\n",
            "Extracting ./data/MNIST/raw/t10k-images-idx3-ubyte.gz to ./data/MNIST/raw\n",
            "\n",
            "Downloading http://yann.lecun.com/exdb/mnist/t10k-labels-idx1-ubyte.gz\n",
            "Downloading http://yann.lecun.com/exdb/mnist/t10k-labels-idx1-ubyte.gz to ./data/MNIST/raw/t10k-labels-idx1-ubyte.gz\n"
          ],
          "name": "stdout"
        },
        {
          "output_type": "display_data",
          "data": {
            "application/vnd.jupyter.widget-view+json": {
              "model_id": "d714c6fbe6cb4c6393bed52996b3dd77",
              "version_minor": 0,
              "version_major": 2
            },
            "text/plain": [
              "HBox(children=(FloatProgress(value=0.0, max=4542.0), HTML(value='')))"
            ]
          },
          "metadata": {
            "tags": []
          }
        },
        {
          "output_type": "stream",
          "text": [
            "\n",
            "Extracting ./data/MNIST/raw/t10k-labels-idx1-ubyte.gz to ./data/MNIST/raw\n",
            "\n",
            "Processing...\n",
            "Done!\n"
          ],
          "name": "stdout"
        }
      ]
    },
    {
      "cell_type": "markdown",
      "metadata": {
        "id": "AQMEoyxcXGyl"
      },
      "source": [
        "# Visualize the dataset"
      ]
    },
    {
      "cell_type": "code",
      "metadata": {
        "id": "QOZKoVe6W3fc",
        "colab": {
          "base_uri": "https://localhost:8080/"
        },
        "outputId": "bcd213ba-c87d-42f3-99c9-0b96ab86b569"
      },
      "source": [
        "image_size = (180, 180)\n",
        "batch_size = 32\n",
        "\n",
        "train_ds = tf.keras.preprocessing.image_dataset_from_directory(\n",
        "    \"PetImages\",\n",
        "    validation_split=0.2,\n",
        "    subset=\"training\",\n",
        "    seed=1337,\n",
        "    image_size=image_size,\n",
        "    batch_size=batch_size,\n",
        ")\n",
        "val_ds = tf.keras.preprocessing.image_dataset_from_directory(\n",
        "    \"PetImages\",\n",
        "    validation_split=0.2,\n",
        "    subset=\"validation\",\n",
        "    seed=1337,\n",
        "    image_size=image_size,\n",
        "    batch_size=batch_size,\n",
        ")"
      ],
      "execution_count": null,
      "outputs": [
        {
          "output_type": "stream",
          "text": [
            "Found 23410 files belonging to 2 classes.\n",
            "Using 18728 files for training.\n",
            "Found 23410 files belonging to 2 classes.\n",
            "Using 4682 files for validation.\n"
          ],
          "name": "stdout"
        }
      ]
    },
    {
      "cell_type": "code",
      "metadata": {
        "colab": {
          "base_uri": "https://localhost:8080/",
          "height": 295
        },
        "id": "W7-MHw-Vi30Y",
        "outputId": "3c8fbb53-9728-43a6-b58a-244977c5aadf"
      },
      "source": [
        "import matplotlib.pyplot as plt\n",
        "label=train_dataset[21][1]\n",
        "print('label:', label)\n",
        "random_image = train_dataset[21][0].numpy() * stddev_gray + mean_gray\n",
        "plt.imshow(random_image.reshape(28,28), cmap='Accent')"
      ],
      "execution_count": 29,
      "outputs": [
        {
          "output_type": "stream",
          "text": [
            "label: 0\n"
          ],
          "name": "stdout"
        },
        {
          "output_type": "execute_result",
          "data": {
            "text/plain": [
              "<matplotlib.image.AxesImage at 0x7fcf9c05b510>"
            ]
          },
          "metadata": {
            "tags": []
          },
          "execution_count": 29
        },
        {
          "output_type": "display_data",
          "data": {
            "image/png": "[encoded data removed]",
            "text/plain": [
              "<Figure size 432x288 with 1 Axes>"
            ]
          },
          "metadata": {
            "tags": [],
            "needs_background": "light"
          }
        }
      ]
    },
    {
      "cell_type": "markdown",
      "metadata": {
        "id": "0k3yqn1fcjDu"
      },
      "source": [
        "# Preprocessing"
      ]
    },
    {
      "cell_type": "markdown",
      "metadata": {
        "id": "Juixq0Hoi-eP"
      },
      "source": [
        "## Data Augmentation"
      ]
    },
    {
      "cell_type": "code",
      "metadata": {
        "id": "pfb1Unq1pc4N"
      },
      "source": [
        "# Setup data inputs\n",
        "IMG_SIZE = (224, 224)\n",
        "\n",
        "def create_data_loaders(train_dir, test_dir, image_size=IMG_SIZE):\n",
        "  \"\"\"\n",
        "  Creates a training and test image BatchDataset from train_dir and test_dir.\n",
        "  \"\"\"\n",
        "  train_data = tf.keras.preprocessing.image_dataset_from_directory(train_dir,\n",
        "                                                                  label_mode=\"categorical\",\n",
        "                                                                  image_size=image_size)\n",
        "  # Note: the test data is the same as the previous experiment, we could\n",
        "  # skip creating this, but we'll leave this here to practice.\n",
        "  test_data = tf.keras.preprocessing.image_dataset_from_directory(test_dir,\n",
        "                                                                  label_mode=\"categorical\",\n",
        "                                                                  image_size=image_size)\n",
        "  \n",
        "  return train_data, test_data"
      ],
      "execution_count": 10,
      "outputs": []
    },
    {
      "cell_type": "code",
      "metadata": {
        "id": "q874ZVYOpgfM"
      },
      "source": [
        "# Create a data augmentation stage with horizontal flipping, rotations, zooms\n",
        "data_augmentation = keras.Sequential([\n",
        "  preprocessing.RandomFlip(\"horizontal\"),\n",
        "  preprocessing.RandomRotation(0.2),\n",
        "  preprocessing.RandomZoom(0.2),\n",
        "  preprocessing.RandomHeight(0.2),\n",
        "  preprocessing.RandomWidth(0.2),\n",
        "  # preprocessing.Rescaling(1./255) # keep for ResNet50V2, remove for EfficientNetB0\n",
        "], name =\"data_augmentation\")"
      ],
      "execution_count": 11,
      "outputs": []
    },
    {
      "cell_type": "markdown",
      "metadata": {
        "id": "Z83NKksMjaiR"
      },
      "source": [
        "## Standardize Image Dataset"
      ]
    },
    {
      "cell_type": "markdown",
      "metadata": {
        "id": "3yx8USDkcqIF"
      },
      "source": [
        "# Train- Testing Split"
      ]
    },
    {
      "cell_type": "code",
      "metadata": {
        "id": "_Rj5rpeYctKe",
        "colab": {
          "base_uri": "https://localhost:8080/"
        },
        "outputId": "62ca50e8-323f-41f7-f94e-12e2a805b4c5"
      },
      "source": [
        "# Create BatchDataset\n",
        "train_data, test_data = create_data_loaders(train_dir=\"10_food_classes_all_data/train/\",\n",
        "                                            test_dir=\"10_food_classes_all_data/test/\")"
      ],
      "execution_count": 19,
      "outputs": [
        {
          "output_type": "stream",
          "text": [
            "Found 7500 files belonging to 10 classes.\n",
            "Found 2500 files belonging to 10 classes.\n"
          ],
          "name": "stdout"
        }
      ]
    },
    {
      "cell_type": "code",
      "metadata": {
        "id": "9jrEn8y1rRpu"
      },
      "source": [
        "batch_size=100\n",
        "epochs=5\n",
        "train_load=torch.utils.data.DataLoader(dataset=train_dataset, batch_size=batch_size, shuffle=True)\n",
        "test_load=torch.utils.data.DataLoader(dataset=test_dataset, batch_size=batch_size, shuffle=False)"
      ],
      "execution_count": 30,
      "outputs": []
    },
    {
      "cell_type": "markdown",
      "metadata": {
        "id": "vylIpHPkdRMf"
      },
      "source": [
        "# Network Build "
      ]
    },
    {
      "cell_type": "code",
      "metadata": {
        "colab": {
          "base_uri": "https://localhost:8080/"
        },
        "id": "FvnhVlZHpoUG",
        "outputId": "509a9557-0a7e-45f8-9647-903c9e8c04a2"
      },
      "source": [
        "# Setup input shape and base model, freezing the base model layers\n",
        "INPUT_SHAPE = (224, 224, 3)\n",
        "BASE_MODEL = tf.keras.applications.EfficientNetB0(include_top=False)\n",
        "\n",
        "def create_model(input_shape=INPUT_SHAPE, base_model=BASE_MODEL, num_classes=10):\n",
        "  # Fine-tune?\n",
        "  base_model.trainable = False\n",
        "\n",
        "  # Create input layer\n",
        "  inputs = layers.Input(shape=input_shape, name=\"input_layer\")\n",
        "\n",
        "  # Add in data augmentation Sequential model as a layer\n",
        "  x = data_augmentation(inputs)\n",
        "\n",
        "  # Give base_model inputs (after augmentation) and don't train it\n",
        "  x = base_model(x, training=False)\n",
        "\n",
        "  # Pool output features of base model\n",
        "  x = layers.GlobalAveragePooling2D(name=\"global_average_pooling_layer\")(x)\n",
        "\n",
        "  # Put a dense layer on as the output\n",
        "  outputs = layers.Dense(num_classes, activation=\"softmax\", name=\"output_layer\")(x)\n",
        "\n",
        "  # Make a model with inputs and outputs\n",
        "  model = keras.Model(inputs, outputs)\n",
        "\n",
        "  # Compile the model\n",
        "  model.compile(loss=\"categorical_crossentropy\",\n",
        "                optimizer=tf.keras.optimizers.Adam(),\n",
        "                metrics=[\"accuracy\"])\n",
        "  \n",
        "  return model"
      ],
      "execution_count": 12,
      "outputs": [
        {
          "output_type": "stream",
          "text": [
            "Downloading data from https://storage.googleapis.com/keras-applications/efficientnetb0_notop.h5\n",
            "16711680/16705208 [==============================] - 0s 0us/step\n"
          ],
          "name": "stdout"
        }
      ]
    },
    {
      "cell_type": "code",
      "metadata": {
        "id": "Rtj2Tnt1psqE"
      },
      "source": [
        "# Create a function to import an image and resize it to be able to be used with our model\n",
        "def load_and_prep_image(filename, img_shape=224, scale=False):\n",
        "  \"\"\"\n",
        "  Reads in an image from filename, turns it into a tensor and reshapes into\n",
        "  (224, 224, 3).\n",
        "  \"\"\"\n",
        "  # Read in the image\n",
        "  img = tf.io.read_file(filename)\n",
        "  # Decode it into a tensor\n",
        "  img = tf.image.decode_jpeg(img)\n",
        "  # Resize the image\n",
        "  img = tf.image.resize(img, [img_shape, img_shape])\n",
        "  # Rescale the image (get all values between 0 and 1)\n",
        "  if scale:\n",
        "    return img/255.\n",
        "  else:\n",
        "    return img"
      ],
      "execution_count": 14,
      "outputs": []
    },
    {
      "cell_type": "code",
      "metadata": {
        "colab": {
          "base_uri": "https://localhost:8080/"
        },
        "id": "6zKz2Ej7pyqU",
        "outputId": "a8a13622-b608-4c23-85d1-a1525deaccb3"
      },
      "source": [
        "import os\n",
        "\n",
        "# Walk through 10 percent data directory and list number of files\n",
        "for dirpath, dirnames, filenames in os.walk(\"10_food_classes_all_data\"):\n",
        "  print(f\"There are {len(dirnames)} directories and {len(filenames)} images in '{dirpath}'.\")"
      ],
      "execution_count": 15,
      "outputs": [
        {
          "output_type": "stream",
          "text": [
            "There are 2 directories and 0 images in '10_food_classes_all_data'.\n",
            "There are 10 directories and 0 images in '10_food_classes_all_data/train'.\n",
            "There are 0 directories and 750 images in '10_food_classes_all_data/train/chicken_curry'.\n",
            "There are 0 directories and 750 images in '10_food_classes_all_data/train/hamburger'.\n",
            "There are 0 directories and 750 images in '10_food_classes_all_data/train/sushi'.\n",
            "There are 0 directories and 750 images in '10_food_classes_all_data/train/ramen'.\n",
            "There are 0 directories and 750 images in '10_food_classes_all_data/train/ice_cream'.\n",
            "There are 0 directories and 750 images in '10_food_classes_all_data/train/steak'.\n",
            "There are 0 directories and 750 images in '10_food_classes_all_data/train/pizza'.\n",
            "There are 0 directories and 750 images in '10_food_classes_all_data/train/chicken_wings'.\n",
            "There are 0 directories and 750 images in '10_food_classes_all_data/train/fried_rice'.\n",
            "There are 0 directories and 750 images in '10_food_classes_all_data/train/grilled_salmon'.\n",
            "There are 10 directories and 0 images in '10_food_classes_all_data/test'.\n",
            "There are 0 directories and 250 images in '10_food_classes_all_data/test/chicken_curry'.\n",
            "There are 0 directories and 250 images in '10_food_classes_all_data/test/hamburger'.\n",
            "There are 0 directories and 250 images in '10_food_classes_all_data/test/sushi'.\n",
            "There are 0 directories and 250 images in '10_food_classes_all_data/test/ramen'.\n",
            "There are 0 directories and 250 images in '10_food_classes_all_data/test/ice_cream'.\n",
            "There are 0 directories and 250 images in '10_food_classes_all_data/test/steak'.\n",
            "There are 0 directories and 250 images in '10_food_classes_all_data/test/pizza'.\n",
            "There are 0 directories and 250 images in '10_food_classes_all_data/test/chicken_wings'.\n",
            "There are 0 directories and 250 images in '10_food_classes_all_data/test/fried_rice'.\n",
            "There are 0 directories and 250 images in '10_food_classes_all_data/test/grilled_salmon'.\n"
          ],
          "name": "stdout"
        }
      ]
    },
    {
      "cell_type": "code",
      "metadata": {
        "colab": {
          "base_uri": "https://localhost:8080/"
        },
        "id": "JwPugM8Wp11E",
        "outputId": "ef968261-9f10-4e16-b542-fa8039963ade"
      },
      "source": [
        "# Check the file in 10_food_classes_10_percent\n",
        "!ls -la 10_food_classes_all_data"
      ],
      "execution_count": 16,
      "outputs": [
        {
          "output_type": "stream",
          "text": [
            "total 16\n",
            "drwxr-xr-x  4 root root 4096 May  1 06:36 .\n",
            "drwxr-xr-x  1 root root 4096 May  1 06:36 ..\n",
            "drwxr-xr-x 12 root root 4096 May  1 06:36 test\n",
            "drwxr-xr-x 12 root root 4096 May  1 06:36 train\n"
          ],
          "name": "stdout"
        }
      ]
    },
    {
      "cell_type": "code",
      "metadata": {
        "id": "-dF1adjpp5ok"
      },
      "source": [
        "import datetime\n",
        "def create_tensorboard_callback(dir_name, experiment_name):\n",
        "  log_dir = dir_name + \"/\" + experiment_name + \"/\" + datetime.datetime.now().strftime(\"%Y%m%d-%H%M%S\")\n",
        "  tensorboard_callback = tf.keras.callbacks.TensorBoard(\n",
        "      log_dir=log_dir\n",
        "  )\n",
        "  print(f\"Saving TensorBoard log files to: {log_dir}\")\n",
        "  return tensorboard_callback"
      ],
      "execution_count": 17,
      "outputs": []
    },
    {
      "cell_type": "code",
      "metadata": {
        "colab": {
          "base_uri": "https://localhost:8080/"
        },
        "id": "EtoAdbptp-He",
        "outputId": "3f42864a-b529-4d33-b894-2f3201228828"
      },
      "source": [
        "# Create BatchDataset\n",
        "train_data, test_data = create_data_loaders(train_dir=\"10_food_classes_all_data/train/\",\n",
        "                                            test_dir=\"10_food_classes_all_data/test/\")"
      ],
      "execution_count": 18,
      "outputs": [
        {
          "output_type": "stream",
          "text": [
            "Found 7500 files belonging to 10 classes.\n",
            "Found 2500 files belonging to 10 classes.\n"
          ],
          "name": "stdout"
        }
      ]
    },
    {
      "cell_type": "code",
      "metadata": {
        "id": "E56HXIJVraxM"
      },
      "source": [
        "class CNN(nn.Module):\n",
        "  def __init__(self):\n",
        "    super(CNN, self).__init__()\n",
        "\n",
        "    # Add layer 1  - CNN, BatchNorm, Relu, MaxPool\n",
        "    self.layer1 = nn.Sequential(\n",
        "            nn.Conv2d(in_channels=1, out_channels=32, kernel_size=3, padding=1),\n",
        "            nn.BatchNorm2d(32),\n",
        "            nn.ReLU(),\n",
        "            nn.MaxPool2d(kernel_size=2, stride=2)\n",
        "    )\n",
        "      \n",
        "    # Add layer 2 - CNN, BatchNorm, Relu, MaxPool\n",
        "    self.layer2 = nn.Sequential(\n",
        "            nn.Conv2d(in_channels=32, out_channels=64, kernel_size=3),\n",
        "            nn.BatchNorm2d(64),\n",
        "            nn.ReLU(),\n",
        "            nn.MaxPool2d(2)\n",
        "    )\n",
        "        \n",
        "    # Add layer 3 - Linear, Dropout, Linear, Dropout\n",
        "    self.fc1 = nn.Linear(in_features=64*6*6, out_features=600)\n",
        "    self.drop = nn.Dropout2d(0.3)\n",
        "    self.fc2 = nn.Linear(in_features=600, out_features=120)\n",
        "    self.drop = nn.Dropout2d(0.3)\n",
        "\n",
        "  def forward(self, x):\n",
        "    out = self.layer1(x)\n",
        "    out = self.layer2(out)\n",
        "    out = out.view(out.size(0), -1)\n",
        "    out = self.fc1(out)\n",
        "    out = self.drop(out)\n",
        "    out = self.fc2(out)\n",
        "    out = self.drop(out)\n",
        "    return out"
      ],
      "execution_count": 31,
      "outputs": []
    },
    {
      "cell_type": "code",
      "metadata": {
        "id": "a8ahnkHPrfXW"
      },
      "source": [
        "learning_rate = 0.001\n",
        "loss_fn=nn.CrossEntropyLoss()\n",
        "#loss_fn = nn.L1Loss()\n",
        "momemtum = 0.9\n",
        "\n",
        "model=CNN()\n",
        "CUDA=torch.cuda.is_available()\n",
        "if CUDA:\n",
        "  model=model.cuda()\n",
        "\n",
        "#optimizer = torch.optim.Adam(model.parameters(), lr=learning_rate)\n",
        "optimizer = torch.optim.SGD(model.parameters(), lr=learning_rate, momentum=momemtum)"
      ],
      "execution_count": 32,
      "outputs": []
    },
    {
      "cell_type": "code",
      "metadata": {
        "colab": {
          "base_uri": "https://localhost:8080/"
        },
        "id": "A1184LP-rkPv",
        "outputId": "512764fb-ea55-4c26-a2aa-3d1ca1bfe8c7"
      },
      "source": [
        "iteration=0\n",
        "correct_nodata=0\n",
        "correct_data=0\n",
        "for i,(inputs,labels) in enumerate (train_load):\n",
        "  if iteration==1:\n",
        "    break\n",
        "  inputs=Variable(inputs)\n",
        "  labels=Variable(labels)\n",
        "  if torch.cuda.is_available():\n",
        "    inputs=inputs.cuda()\n",
        "    labels=labels.cuda()\n",
        "\n",
        "  print(\"For 1 iteration, this is what happens:\")\n",
        "  print(\"Input Shape:\",inputs.shape)\n",
        "  print(\"Labels Shape:\", labels.shape)\n",
        "  output = model(inputs)\n",
        "  \n",
        "  print(\"Output Shape:\",output.shape)\n",
        "  _,predicted_nodata=torch.max(output,1)\n",
        "  \n",
        "  print(\"Predicted Shape:\",predicted_nodata.shape)\n",
        "  print(\"Predicted Tensor:\",predicted_nodata)\n",
        "  correct_nodata +=(predicted_nodata==labels).sum()\n",
        "  print(\"Correct Predictions:\",correct_nodata)\n",
        "  _,predicted_data = torch.max(output.data,1)\n",
        "  correct_data +=(predicted_data==labels.data).sum()\n",
        "  \n",
        "  print(\"Correct Predictions:\",correct_data)\n",
        "  \n",
        "  iteration+=1"
      ],
      "execution_count": 33,
      "outputs": [
        {
          "output_type": "stream",
          "text": [
            "For 1 iteration, this is what happens:\n",
            "Input Shape: torch.Size([100, 1, 28, 28])\n",
            "Labels Shape: torch.Size([100])\n",
            "Output Shape: torch.Size([100, 120])\n",
            "Predicted Shape: torch.Size([100])\n",
            "Predicted Tensor: tensor([ 83,  29,  51,  84,  40,  14,  69,  49,  97,  49,   8,  23,  23,  49,\n",
            "         59,  97,  26,  29, 105,  19,  97, 105,  50, 105,  12, 102,  20,  49,\n",
            "         59,  23,  38,  50,  97,  50,  38,  97,  29,  43,  38,  84,  12,  51,\n",
            "         29,  26,  29,   8, 102,  29,  67,  95, 105,  97,  50, 102, 105,  38,\n",
            "         38,  20,  12,  33,  43,  24, 102,  59,  50,  97,  23,  87, 105,  23,\n",
            "         97,   8,  38,  84,  47, 102, 105,  30,  59,  29, 102,  47,  49,  12,\n",
            "         38,  12, 105,  23,  59,  97,  97,  18, 112, 107,  23,  50, 105,  30,\n",
            "         38, 105], device='cuda:0')\n",
            "Correct Predictions: tensor(0, device='cuda:0')\n",
            "Correct Predictions: tensor(0, device='cuda:0')\n"
          ],
          "name": "stdout"
        }
      ]
    },
    {
      "cell_type": "markdown",
      "metadata": {
        "id": "nUSPMzxwdFFW"
      },
      "source": [
        "# Model Fit and Prediction"
      ]
    },
    {
      "cell_type": "code",
      "metadata": {
        "colab": {
          "base_uri": "https://localhost:8080/"
        },
        "id": "jbYJX9g6j1aG",
        "outputId": "b77d30ea-28e2-4be7-cc73-82840036c019"
      },
      "source": [
        "# Create model\n",
        "model_1 = create_model(num_classes=len(train_data.class_names))\n",
        "\n",
        "# Fit the model\n",
        "history_1_percent = model_1.fit(train_data,\n",
        "                    epochs=5,\n",
        "                    steps_per_epoch=len(train_data),\n",
        "                    validation_data=test_data,\n",
        "                    validation_steps=int(0.25 * len(test_data)), # validate for less steps\n",
        "                    # Track model training logs\n",
        "                    callbacks=[create_tensorboard_callback(\"transfer_learning\", \"all_data_aug\")])"
      ],
      "execution_count": 20,
      "outputs": [
        {
          "output_type": "stream",
          "text": [
            "Saving TensorBoard log files to: transfer_learning/all_data_aug/20210501-064037\n",
            "Epoch 1/5\n",
            "235/235 [==============================] - 68s 199ms/step - loss: 1.4339 - accuracy: 0.5458 - val_loss: 0.5493 - val_accuracy: 0.8339\n",
            "Epoch 2/5\n",
            "235/235 [==============================] - 38s 159ms/step - loss: 0.7201 - accuracy: 0.7867 - val_loss: 0.4588 - val_accuracy: 0.8405\n",
            "Epoch 3/5\n",
            "235/235 [==============================] - 36s 149ms/step - loss: 0.6345 - accuracy: 0.8031 - val_loss: 0.4122 - val_accuracy: 0.8635\n",
            "Epoch 4/5\n",
            "235/235 [==============================] - 33s 138ms/step - loss: 0.5755 - accuracy: 0.8237 - val_loss: 0.4203 - val_accuracy: 0.8734\n",
            "Epoch 5/5\n",
            "235/235 [==============================] - 33s 136ms/step - loss: 0.5425 - accuracy: 0.8308 - val_loss: 0.4063 - val_accuracy: 0.8635\n"
          ],
          "name": "stdout"
        }
      ]
    },
    {
      "cell_type": "code",
      "metadata": {
        "colab": {
          "base_uri": "https://localhost:8080/"
        },
        "id": "n6GkPG2uqJ09",
        "outputId": "50b25211-8ab9-416b-c63f-e983e37b0208"
      },
      "source": [
        "# Get an image Tensor\n",
        "!wget https://raw.githubusercontent.com/mrdbourke/tensorflow-deep-learning/main/images/03-pizza-dad.jpeg"
      ],
      "execution_count": 21,
      "outputs": [
        {
          "output_type": "stream",
          "text": [
            "--2021-05-01 06:44:05--  https://raw.githubusercontent.com/mrdbourke/tensorflow-deep-learning/main/images/03-pizza-dad.jpeg\n",
            "Resolving raw.githubusercontent.com (raw.githubusercontent.com)... 185.199.109.133, 185.199.111.133, 185.199.108.133, ...\n",
            "Connecting to raw.githubusercontent.com (raw.githubusercontent.com)|185.199.109.133|:443... connected.\n",
            "HTTP request sent, awaiting response... 200 OK\n",
            "Length: 2874848 (2.7M) [image/jpeg]\n",
            "Saving to: ‘03-pizza-dad.jpeg’\n",
            "\n",
            "03-pizza-dad.jpeg   100%[===================>]   2.74M  --.-KB/s    in 0.09s   \n",
            "\n",
            "2021-05-01 06:44:05 (29.9 MB/s) - ‘03-pizza-dad.jpeg’ saved [2874848/2874848]\n",
            "\n"
          ],
          "name": "stdout"
        }
      ]
    },
    {
      "cell_type": "code",
      "metadata": {
        "colab": {
          "base_uri": "https://localhost:8080/"
        },
        "id": "Tr3Gxg9CqNHU",
        "outputId": "2fcf74e3-ba1a-4bf7-c287-b4a2861cd531"
      },
      "source": [
        "# Classes our model is trained on\n",
        "class_names = train_data.class_names\n",
        "class_names"
      ],
      "execution_count": 22,
      "outputs": [
        {
          "output_type": "execute_result",
          "data": {
            "text/plain": [
              "['chicken_curry',\n",
              " 'chicken_wings',\n",
              " 'fried_rice',\n",
              " 'grilled_salmon',\n",
              " 'hamburger',\n",
              " 'ice_cream',\n",
              " 'pizza',\n",
              " 'ramen',\n",
              " 'steak',\n",
              " 'sushi']"
            ]
          },
          "metadata": {
            "tags": []
          },
          "execution_count": 22
        }
      ]
    },
    {
      "cell_type": "code",
      "metadata": {
        "id": "pIU1ow2SqRyU"
      },
      "source": [
        "pizza_img = load_and_prep_image(\"03-pizza-dad.jpeg\")\n",
        "#print(pizza_img)"
      ],
      "execution_count": 23,
      "outputs": []
    },
    {
      "cell_type": "code",
      "metadata": {
        "colab": {
          "base_uri": "https://localhost:8080/"
        },
        "id": "lpzOfeISrrcF",
        "outputId": "03f16e3e-e6a9-49ed-8286-d2d759b42a42"
      },
      "source": [
        "num_epochs=5\n",
        "\n",
        "train_loss=[]\n",
        "test_loss=[]\n",
        "train_accuracy=[]\n",
        "test_accuracy=[]\n",
        "\n",
        "# Training\n",
        "for epoch in range(num_epochs):\n",
        "  # Reset variables at 0 epoch\n",
        "  correct=0\n",
        "  iteration=0\n",
        "  iter_loss=0.0\n",
        "  \n",
        "  model.train() # Training Mode\n",
        "  \n",
        "  for i,(inputs,labels) in enumerate(train_load):\n",
        "    \n",
        "    inputs=Variable(inputs)\n",
        "    labels=Variable(labels)\n",
        "    \n",
        "    # if CUDA is avaible, shift to GPU (CUDA)\n",
        "    CUDA=torch.cuda.is_available()\n",
        "    if CUDA:\n",
        "      inputs=inputs.cuda()\n",
        "      labels=labels.cuda()\n",
        "      \n",
        "    optimizer.zero_grad() # clear gradient\n",
        "    outputs=model(inputs)\n",
        "    loss=loss_fn(outputs,labels)\n",
        "    iter_loss += loss.item() # Accumulate loss\n",
        "    loss.backward() # backpropagation\n",
        "    optimizer.step() # update weights\n",
        "    \n",
        "    # Save the correct predictions for training data\n",
        "    _,predicted=torch.max(outputs,1)\n",
        "    correct +=(predicted==labels).sum()\n",
        "    iteration +=1\n",
        "    \n",
        "  train_loss.append(iter_loss/iteration)\n",
        "  train_accuracy.append((100*correct/len(train_dataset)))\n",
        "  \n",
        "  # Testing\n",
        "  correct=0\n",
        "  iteration=0\n",
        "  loss=0.0\n",
        "  \n",
        "  model.eval()  # Testing Mode\n",
        "  \n",
        "  for i, (inputs, labels) in enumerate(test_load):\n",
        "    \n",
        "    inputs=Variable(inputs)\n",
        "    labels=Variable(labels)\n",
        "    \n",
        "    CUDA=torch.cuda.is_available()\n",
        "    if CUDA:\n",
        "      inputs=inputs.cuda()\n",
        "      labels=labels.cuda()\n",
        "    \n",
        "    outputs=model(inputs)\n",
        "    loss=loss_fn(outputs,labels)\n",
        "    loss += loss.item()\n",
        "    \n",
        "    _,predicted=torch.max(outputs,1)\n",
        "    correct+=(predicted==labels).sum()\n",
        "    \n",
        "    iteration+=1\n",
        "    \n",
        "  test_loss.append(loss/iteration)\n",
        "  test_accuracy.append((100*correct/len(test_dataset)))\n",
        "  \n",
        "  print('Epoch {}/{}, Training Loss:{:.3f}, Training Accuracy:{:.3f}, Testing Loss {:.3f}, Testing Accuracy:{:.3f}'\n",
        "       .format(epoch+1, num_epochs, train_loss[-1], train_accuracy[-1], test_loss[-1], test_accuracy[-1]))\n",
        "  \n",
        "    "
      ],
      "execution_count": 34,
      "outputs": [
        {
          "output_type": "stream",
          "text": [
            "Epoch 1/5, Training Loss:1.553, Training Accuracy:65.440, Testing Loss 0.004, Testing Accuracy:96.870\n",
            "Epoch 2/5, Training Loss:1.252, Training Accuracy:72.138, Testing Loss 0.002, Testing Accuracy:97.800\n",
            "Epoch 3/5, Training Loss:1.218, Training Accuracy:73.707, Testing Loss 0.001, Testing Accuracy:98.130\n",
            "Epoch 4/5, Training Loss:1.202, Training Accuracy:74.667, Testing Loss 0.001, Testing Accuracy:98.390\n",
            "Epoch 5/5, Training Loss:1.164, Training Accuracy:75.583, Testing Loss 0.001, Testing Accuracy:98.320\n"
          ],
          "name": "stdout"
        }
      ]
    },
    {
      "cell_type": "markdown",
      "metadata": {
        "id": "8jiycraZdfyw"
      },
      "source": [
        "# Prediction Using Food Classification and F-MNIST"
      ]
    },
    {
      "cell_type": "code",
      "metadata": {
        "colab": {
          "base_uri": "https://localhost:8080/",
          "height": 35
        },
        "id": "_BqcXCQHqaX3",
        "outputId": "c84f6126-fb33-4c5d-c753-2a0d5095f6cf"
      },
      "source": [
        "# Make predictions\n",
        "pizza_expanded = tf.expand_dims(pizza_img, axis=0) # expand image dimensions (224, 224, 3) -> (1, 224, 224, 3)\n",
        "pred = model_1.predict(pizza_expanded)\n",
        "pred\n",
        "\n",
        "# Check the predicted class\n",
        "class_names[tf.argmax(pred[0])]"
      ],
      "execution_count": 25,
      "outputs": [
        {
          "output_type": "execute_result",
          "data": {
            "application/vnd.google.colaboratory.intrinsic+json": {
              "type": "string"
            },
            "text/plain": [
              "'pizza'"
            ]
          },
          "metadata": {
            "tags": []
          },
          "execution_count": 25
        }
      ]
    },
    {
      "cell_type": "code",
      "metadata": {
        "id": "XjRVB2MAqgeP"
      },
      "source": [
        "import matplotlib.pyplot as plt\n",
        "\n",
        "def pred_and_plot(model, image, class_names):\n",
        "  pred_probs = model.predict(tf.expand_dims(image, axis=0))\n",
        "  pred_class = class_names[tf.argmax(pred_probs[0])]\n",
        "  \n",
        "  plt.figure()\n",
        "  plt.imshow(image)\n",
        "  # plt.imshow(tf.argmax(pred[0]).astype(\"uint8\"))\n",
        "  plt.title(f\"{pred_class}, prob: {tf.reduce_max(pred_probs):.2f}\")\n",
        "  plt.axis(False);"
      ],
      "execution_count": 26,
      "outputs": []
    },
    {
      "cell_type": "code",
      "metadata": {
        "colab": {
          "base_uri": "https://localhost:8080/",
          "height": 280
        },
        "id": "tBsZ1GbCqi2-",
        "outputId": "7a608c50-259c-42e2-c892-23c421f4d39a"
      },
      "source": [
        "pred_and_plot(model=model_1,\n",
        "              image=pizza_img,\n",
        "              class_names=train_data.class_names)"
      ],
      "execution_count": 27,
      "outputs": [
        {
          "output_type": "stream",
          "text": [
            "Clipping input data to the valid range for imshow with RGB data ([0..1] for floats or [0..255] for integers).\n"
          ],
          "name": "stderr"
        },
        {
          "output_type": "display_data",
          "data": {
            "image/png": "[encoded data removed]",
            "text/plain": [
              "<Figure size 432x288 with 1 Axes>"
            ]
          },
          "metadata": {
            "tags": [],
            "needs_background": "light"
          }
        }
      ]
    },
    {
      "cell_type": "code",
      "metadata": {
        "colab": {
          "base_uri": "https://localhost:8080/"
        },
        "id": "aAQf1MuUr0I-",
        "outputId": "3daa7905-36e6-4b90-a078-bb5137e06574"
      },
      "source": [
        "img= test_dataset[40][0].resize_((1,1,28,28))\n",
        "img= Variable(img)\n",
        "label= test_dataset[40][1]\n",
        "\n",
        "model.eval()\n",
        "\n",
        "if torch.cuda.is_available():\n",
        "  model=model.cuda()\n",
        "  img=img.cuda()\n",
        "  \n",
        "output=model(img)\n",
        "print(output)\n",
        "print(output.data)\n",
        "_,predicted=torch.max(output,1)\n",
        "print(\"Prediction is:\",predicted.item())\n",
        "print(\"Actual is:\", label)"
      ],
      "execution_count": 35,
      "outputs": [
        {
          "output_type": "stream",
          "text": [
            "tensor([[-3.7122,  5.5254, -2.2491, -2.3398, -1.6524,  0.2187, -3.4267, -1.0661,\n",
            "         -1.6944, -2.2157, -2.7823, -2.9066, -2.8916, -2.7400, -3.3532, -3.0447,\n",
            "         -2.9924, -2.8998, -2.7451, -3.1579, -3.0148, -3.0517, -2.8470, -2.8732,\n",
            "         -2.9059, -3.1388, -2.7540, -3.1031, -3.1482, -2.6695, -2.8481, -2.9252,\n",
            "         -2.7696, -3.1276, -2.8307, -2.8017, -2.7167, -2.9052, -3.3985, -3.5138,\n",
            "         -2.9984, -2.8350, -3.3079, -2.8198, -3.2921, -3.3689, -3.1845, -3.1144,\n",
            "         -2.9745, -2.7959, -2.6419, -2.8326, -2.9985, -3.3133, -3.1727, -3.2065,\n",
            "         -3.1185, -3.1455, -3.1889, -2.4823, -2.8673, -3.4499, -3.0540, -2.9368,\n",
            "         -2.9965, -2.8788, -2.7843, -2.9137, -3.1776, -3.0581, -2.7031, -3.2851,\n",
            "         -2.8987, -3.2012, -3.2791, -2.9078, -3.1375, -3.2142, -2.9003, -3.2820,\n",
            "         -2.6791, -2.6927, -3.0134, -3.4300, -3.1713, -3.0076, -2.9374, -3.1393,\n",
            "         -2.6667, -3.0701, -3.1550, -3.0485, -3.0573, -3.0816, -3.0197, -3.0714,\n",
            "         -2.9343, -3.1690, -2.9327, -2.6914, -2.7263, -2.9567, -2.8652, -3.0646,\n",
            "         -2.7960, -3.1383, -3.2124, -2.9579, -2.6550, -2.9173, -3.1669, -3.1043,\n",
            "         -3.1270, -2.9930, -3.0342, -3.0380, -3.1392, -2.8268, -3.1110, -3.0351]],\n",
            "       device='cuda:0', grad_fn=<AddmmBackward>)\n",
            "tensor([[-3.7122,  5.5254, -2.2491, -2.3398, -1.6524,  0.2187, -3.4267, -1.0661,\n",
            "         -1.6944, -2.2157, -2.7823, -2.9066, -2.8916, -2.7400, -3.3532, -3.0447,\n",
            "         -2.9924, -2.8998, -2.7451, -3.1579, -3.0148, -3.0517, -2.8470, -2.8732,\n",
            "         -2.9059, -3.1388, -2.7540, -3.1031, -3.1482, -2.6695, -2.8481, -2.9252,\n",
            "         -2.7696, -3.1276, -2.8307, -2.8017, -2.7167, -2.9052, -3.3985, -3.5138,\n",
            "         -2.9984, -2.8350, -3.3079, -2.8198, -3.2921, -3.3689, -3.1845, -3.1144,\n",
            "         -2.9745, -2.7959, -2.6419, -2.8326, -2.9985, -3.3133, -3.1727, -3.2065,\n",
            "         -3.1185, -3.1455, -3.1889, -2.4823, -2.8673, -3.4499, -3.0540, -2.9368,\n",
            "         -2.9965, -2.8788, -2.7843, -2.9137, -3.1776, -3.0581, -2.7031, -3.2851,\n",
            "         -2.8987, -3.2012, -3.2791, -2.9078, -3.1375, -3.2142, -2.9003, -3.2820,\n",
            "         -2.6791, -2.6927, -3.0134, -3.4300, -3.1713, -3.0076, -2.9374, -3.1393,\n",
            "         -2.6667, -3.0701, -3.1550, -3.0485, -3.0573, -3.0816, -3.0197, -3.0714,\n",
            "         -2.9343, -3.1690, -2.9327, -2.6914, -2.7263, -2.9567, -2.8652, -3.0646,\n",
            "         -2.7960, -3.1383, -3.2124, -2.9579, -2.6550, -2.9173, -3.1669, -3.1043,\n",
            "         -3.1270, -2.9930, -3.0342, -3.0380, -3.1392, -2.8268, -3.1110, -3.0351]],\n",
            "       device='cuda:0')\n",
            "Prediction is: 1\n",
            "Actual is: 1\n"
          ],
          "name": "stdout"
        }
      ]
    },
    {
      "cell_type": "code",
      "metadata": {
        "id": "1FvI1bIPlpyu",
        "colab": {
          "base_uri": "https://localhost:8080/",
          "height": 588
        },
        "outputId": "faf05c42-4d2d-4be5-ea79-159d5edcfff8"
      },
      "source": [
        "# Plot the loss\n",
        "f=plt.figure(figsize=(10,10))\n",
        "plt.plot(train_loss, label='Training Loss')\n",
        "plt.plot(test_loss, label='Testing Loss')\n",
        "plt.legend()\n",
        "plt.show()"
      ],
      "execution_count": 37,
      "outputs": [
        {
          "output_type": "display_data",
          "data": {
            "image/png": "[encoded data removed]",
            "text/plain": [
              "<Figure size 720x720 with 1 Axes>"
            ]
          },
          "metadata": {
            "tags": [],
            "needs_background": "light"
          }
        }
      ]
    }
  ]
}